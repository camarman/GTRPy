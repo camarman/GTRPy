{
 "cells": [
  {
   "cell_type": "markdown",
   "metadata": {},
   "source": [
    "# GRTC-GUI (General Relativity Tensorial Calculations - GUI) \n",
    "## Schwarzschild Metric in Geometrical units, where $G=c=1$ and $r_s = 2M$"
   ]
  },
  {
   "cell_type": "code",
   "execution_count": 1,
   "metadata": {},
   "outputs": [],
   "source": [
    "from GR_tensors import *\n",
    "from sympy import init_printing, sin, symbols \n",
    "\n",
    "init_printing()\n",
    "\n",
    "# Defining the symbols in the coordinate system\n",
    "t, r, theta, phi = symbols('t, r, theta, phi')  \n",
    "\n",
    "# Defining some extra symbols\n",
    "r_s = symbols('r_s')\n",
    "\n",
    "# Defining the diagonal components of the metric tensor\n",
    "diag_comp = [-(1-r_s/r), (1-r_s/r)**(-1), r**2, r**2*sin(theta)**2]\n",
    "\n",
    "#Defining the coordinate system\n",
    "coord_sys = [t, r, theta, phi]"
   ]
  },
  {
   "cell_type": "markdown",
   "metadata": {},
   "source": [
    "# Metric Tensor"
   ]
  },
  {
   "cell_type": "code",
   "execution_count": 2,
   "metadata": {},
   "outputs": [
    {
     "data": {
      "image/png": "[encoded data removed]",
      "text/latex": [
       "$\\displaystyle \\left[\\begin{matrix}\\frac{- r + r_{s}}{r} & 0 & 0 & 0\\\\0 & \\frac{r}{r - r_{s}} & 0 & 0\\\\0 & 0 & r^{2} & 0\\\\0 & 0 & 0 & r^{2} \\sin^{2}{\\left(\\theta \\right)}\\end{matrix}\\right]$"
      ],
      "text/plain": [
       "⎡-r + rₛ                        ⎤\n",
       "⎢───────    0     0       0     ⎥\n",
       "⎢   r                           ⎥\n",
       "⎢                               ⎥\n",
       "⎢           r                   ⎥\n",
       "⎢   0     ──────  0       0     ⎥\n",
       "⎢         r - rₛ                ⎥\n",
       "⎢                               ⎥\n",
       "⎢                  2            ⎥\n",
       "⎢   0       0     r       0     ⎥\n",
       "⎢                               ⎥\n",
       "⎢                      2    2   ⎥\n",
       "⎣   0       0     0   r ⋅sin (θ)⎦"
      ]
     },
     "execution_count": 2,
     "metadata": {},
     "output_type": "execute_result"
    }
   ],
   "source": [
    "# Obtaining the metric tensor\n",
    "mt = MetricTensor(diag_comp, coord_sys)\n",
    "metric_tensor = mt.get_metrictensor()\n",
    "metric_tensor"
   ]
  },
  {
   "cell_type": "code",
   "execution_count": 3,
   "metadata": {},
   "outputs": [
    {
     "data": {
      "text/plain": [
       "'dd'"
      ]
     },
     "execution_count": 3,
     "metadata": {},
     "output_type": "execute_result"
    }
   ],
   "source": [
    "# Default type of the metric tensor\n",
    "mt.get_metrictensor_type()"
   ]
  },
  {
   "cell_type": "code",
   "execution_count": 4,
   "metadata": {},
   "outputs": [
    {
     "data": {
      "image/png": "[encoded data removed]",
      "text/latex": [
       "$\\displaystyle \\left[\\begin{matrix}1 & 0 & 0 & 0\\\\0 & 1 & 0 & 0\\\\0 & 0 & 1 & 0\\\\0 & 0 & 0 & 1\\end{matrix}\\right]$"
      ],
      "text/plain": [
       "⎡1  0  0  0⎤\n",
       "⎢          ⎥\n",
       "⎢0  1  0  0⎥\n",
       "⎢          ⎥\n",
       "⎢0  0  1  0⎥\n",
       "⎢          ⎥\n",
       "⎣0  0  0  1⎦"
      ]
     },
     "execution_count": 4,
     "metadata": {},
     "output_type": "execute_result"
    }
   ],
   "source": [
    "# Varying type 'dd' metric tensor to 'ud'\n",
    "mt.vary_metrictensor_type(metric_tensor, 'ud')"
   ]
  },
  {
   "cell_type": "code",
   "execution_count": 5,
   "metadata": {},
   "outputs": [
    {
     "data": {
      "text/plain": [
       "'ud'"
      ]
     },
     "execution_count": 5,
     "metadata": {},
     "output_type": "execute_result"
    }
   ],
   "source": [
    "mt.get_metrictensor_type() "
   ]
  },
  {
   "cell_type": "code",
   "execution_count": 6,
   "metadata": {},
   "outputs": [
    {
     "data": {
      "image/png": "[encoded data removed]",
      "text/latex": [
       "$\\displaystyle \\left[\\begin{matrix}- \\frac{r}{r - r_{s}} & 0 & 0 & 0\\\\0 & \\frac{r - r_{s}}{r} & 0 & 0\\\\0 & 0 & \\frac{1}{r^{2}} & 0\\\\0 & 0 & 0 & \\frac{1}{r^{2} \\sin^{2}{\\left(\\theta \\right)}}\\end{matrix}\\right]$"
      ],
      "text/plain": [
       "⎡ -r                           ⎤\n",
       "⎢──────    0     0       0     ⎥\n",
       "⎢r - rₛ                        ⎥\n",
       "⎢                              ⎥\n",
       "⎢        r - rₛ                ⎥\n",
       "⎢  0     ──────  0       0     ⎥\n",
       "⎢          r                   ⎥\n",
       "⎢                              ⎥\n",
       "⎢                1             ⎥\n",
       "⎢  0       0     ──      0     ⎥\n",
       "⎢                 2            ⎥\n",
       "⎢                r             ⎥\n",
       "⎢                              ⎥\n",
       "⎢                        1     ⎥\n",
       "⎢  0       0     0   ──────────⎥\n",
       "⎢                     2    2   ⎥\n",
       "⎣                    r ⋅sin (θ)⎦"
      ]
     },
     "execution_count": 6,
     "metadata": {},
     "output_type": "execute_result"
    }
   ],
   "source": [
    "# Varying type 'dd' metric tensor to 'uu'\n",
    "mt.vary_metrictensor_type(metric_tensor, 'uu') "
   ]
  },
  {
   "cell_type": "code",
   "execution_count": 7,
   "metadata": {},
   "outputs": [
    {
     "data": {
      "text/plain": [
       "'uu'"
      ]
     },
     "execution_count": 7,
     "metadata": {},
     "output_type": "execute_result"
    }
   ],
   "source": [
    "mt.get_metrictensor_type()"
   ]
  },
  {
   "cell_type": "code",
   "execution_count": 8,
   "metadata": {},
   "outputs": [
    {
     "data": {
      "image/png": "[encoded data removed]",
      "text/latex": [
       "$\\displaystyle \\left[\\begin{matrix}- \\frac{r}{r - r_{s}} & 0 & 0 & 0\\\\0 & \\frac{r - r_{s}}{r} & 0 & 0\\\\0 & 0 & \\frac{1}{r^{2}} & 0\\\\0 & 0 & 0 & \\frac{1}{r^{2} \\sin^{2}{\\left(\\theta \\right)}}\\end{matrix}\\right]$"
      ],
      "text/plain": [
       "⎡ -r                           ⎤\n",
       "⎢──────    0     0       0     ⎥\n",
       "⎢r - rₛ                        ⎥\n",
       "⎢                              ⎥\n",
       "⎢        r - rₛ                ⎥\n",
       "⎢  0     ──────  0       0     ⎥\n",
       "⎢          r                   ⎥\n",
       "⎢                              ⎥\n",
       "⎢                1             ⎥\n",
       "⎢  0       0     ──      0     ⎥\n",
       "⎢                 2            ⎥\n",
       "⎢                r             ⎥\n",
       "⎢                              ⎥\n",
       "⎢                        1     ⎥\n",
       "⎢  0       0     0   ──────────⎥\n",
       "⎢                     2    2   ⎥\n",
       "⎣                    r ⋅sin (θ)⎦"
      ]
     },
     "execution_count": 8,
     "metadata": {},
     "output_type": "execute_result"
    }
   ],
   "source": [
    "# Obtaining the inverse of the metric tensor directly\n",
    "mt.get_inverse() "
   ]
  },
  {
   "cell_type": "markdown",
   "metadata": {},
   "source": [
    "# Christoffel Symbol"
   ]
  },
  {
   "cell_type": "code",
   "execution_count": 9,
   "metadata": {},
   "outputs": [
    {
     "data": {
      "image/png": "[encoded data removed]",
      "text/latex": [
       "$\\displaystyle \\left[\\begin{matrix}\\left[\\begin{matrix}0 & \\frac{r_{s}}{2 r \\left(r - r_{s}\\right)} & 0 & 0\\\\\\frac{r_{s}}{2 r \\left(r - r_{s}\\right)} & 0 & 0 & 0\\\\0 & 0 & 0 & 0\\\\0 & 0 & 0 & 0\\end{matrix}\\right] & \\left[\\begin{matrix}\\frac{r_{s} \\left(r - r_{s}\\right)}{2 r^{3}} & 0 & 0 & 0\\\\0 & - \\frac{r_{s}}{2 r \\left(r - r_{s}\\right)} & 0 & 0\\\\0 & 0 & - r + r_{s} & 0\\\\0 & 0 & 0 & \\left(- r + r_{s}\\right) \\sin^{2}{\\left(\\theta \\right)}\\end{matrix}\\right] & \\left[\\begin{matrix}0 & 0 & 0 & 0\\\\0 & 0 & \\frac{1}{r} & 0\\\\0 & \\frac{1}{r} & 0 & 0\\\\0 & 0 & 0 & - \\frac{\\sin{\\left(2 \\theta \\right)}}{2}\\end{matrix}\\right] & \\left[\\begin{matrix}0 & 0 & 0 & 0\\\\0 & 0 & 0 & \\frac{1}{r}\\\\0 & 0 & 0 & \\frac{1}{\\tan{\\left(\\theta \\right)}}\\\\0 & \\frac{1}{r} & \\frac{1}{\\tan{\\left(\\theta \\right)}} & 0\\end{matrix}\\right]\\end{matrix}\\right]$"
      ],
      "text/plain": [
       "⎡                                    ⎡rₛ⋅(r - rₛ)                             \n",
       "⎢⎡                   rₛ           ⎤  ⎢───────────       0           0         \n",
       "⎢⎢     0        ────────────  0  0⎥  ⎢       3                                \n",
       "⎢⎢              2⋅r⋅(r - rₛ)      ⎥  ⎢    2⋅r                                 \n",
       "⎢⎢                                ⎥  ⎢                                        \n",
       "⎢⎢     rₛ                         ⎥  ⎢                 -rₛ                    \n",
       "⎢⎢────────────       0        0  0⎥  ⎢     0       ────────────     0         \n",
       "⎢⎢2⋅r⋅(r - rₛ)                    ⎥  ⎢             2⋅r⋅(r - rₛ)               \n",
       "⎢⎢                                ⎥  ⎢                                        \n",
       "⎢⎢     0             0        0  0⎥  ⎢     0            0        -r + rₛ      \n",
       "⎢⎢                                ⎥  ⎢                                        \n",
       "⎢⎣     0             0        0  0⎦  ⎢                                        \n",
       "⎣                                    ⎣     0            0           0     (-r \n",
       "\n",
       "             ⎤  ⎡0  0  0      0     ⎤  ⎡0  0    0       0   ⎤⎤\n",
       "    0        ⎥  ⎢                   ⎥  ⎢                    ⎥⎥\n",
       "             ⎥  ⎢      1            ⎥  ⎢                1   ⎥⎥\n",
       "             ⎥  ⎢0  0  ─      0     ⎥  ⎢0  0    0       ─   ⎥⎥\n",
       "             ⎥  ⎢      r            ⎥  ⎢                r   ⎥⎥\n",
       "             ⎥  ⎢                   ⎥  ⎢                    ⎥⎥\n",
       "    0        ⎥  ⎢   1               ⎥  ⎢                1   ⎥⎥\n",
       "             ⎥  ⎢0  ─  0      0     ⎥  ⎢0  0    0     ──────⎥⎥\n",
       "             ⎥  ⎢   r               ⎥  ⎢              tan(θ)⎥⎥\n",
       "    0        ⎥  ⎢                   ⎥  ⎢                    ⎥⎥\n",
       "             ⎥  ⎢         -sin(2⋅θ) ⎥  ⎢   1    1           ⎥⎥\n",
       "         2   ⎥  ⎢0  0  0  ──────────⎥  ⎢0  ─  ──────    0   ⎥⎥\n",
       "+ rₛ)⋅sin (θ)⎦  ⎣             2     ⎦  ⎣   r  tan(θ)        ⎦⎦"
      ]
     },
     "execution_count": 9,
     "metadata": {},
     "output_type": "execute_result"
    }
   ],
   "source": [
    "# Obtaining the Christoffel Symbol\n",
    "cs = ChristoffelSymbol(diag_comp, coord_sys)\n",
    "chris_symbol = cs.get_christoffelsymbol()\n",
    "chris_symbol "
   ]
  },
  {
   "cell_type": "code",
   "execution_count": 10,
   "metadata": {},
   "outputs": [
    {
     "data": {
      "text/plain": [
       "'udd'"
      ]
     },
     "execution_count": 10,
     "metadata": {},
     "output_type": "execute_result"
    }
   ],
   "source": [
    "# Default type of the Christoffel Symbol\n",
    "cs.get_christoffelsymbol_type() "
   ]
  },
  {
   "cell_type": "code",
   "execution_count": 11,
   "metadata": {},
   "outputs": [
    {
     "data": {
      "image/png": "[encoded data removed]",
      "text/latex": [
       "$\\displaystyle \\left[\\begin{matrix}\\left[\\begin{matrix}0 & - \\frac{r_{s}}{2 r^{2}} & 0 & 0\\\\- \\frac{r_{s}}{2 r^{2}} & 0 & 0 & 0\\\\0 & 0 & 0 & 0\\\\0 & 0 & 0 & 0\\end{matrix}\\right] & \\left[\\begin{matrix}\\frac{r_{s}}{2 r^{2}} & 0 & 0 & 0\\\\0 & - \\frac{r_{s}}{2 \\left(r - r_{s}\\right)^{2}} & 0 & 0\\\\0 & 0 & - r & 0\\\\0 & 0 & 0 & - r \\sin^{2}{\\left(\\theta \\right)}\\end{matrix}\\right] & \\left[\\begin{matrix}0 & 0 & 0 & 0\\\\0 & 0 & r & 0\\\\0 & r & 0 & 0\\\\0 & 0 & 0 & - \\frac{r^{2} \\sin{\\left(2 \\theta \\right)}}{2}\\end{matrix}\\right] & \\left[\\begin{matrix}0 & 0 & 0 & 0\\\\0 & 0 & 0 & r \\sin^{2}{\\left(\\theta \\right)}\\\\0 & 0 & 0 & \\frac{r^{2} \\sin{\\left(2 \\theta \\right)}}{2}\\\\0 & r \\sin^{2}{\\left(\\theta \\right)} & \\frac{r^{2} \\sin{\\left(2 \\theta \\right)}}{2} & 0\\end{matrix}\\right]\\end{matrix}\\right]$"
      ],
      "text/plain": [
       "⎡                    ⎡ rₛ                              ⎤                      \n",
       "⎢⎡      -rₛ       ⎤  ⎢────       0       0       0     ⎥                      \n",
       "⎢⎢ 0    ────  0  0⎥  ⎢   2                             ⎥  ⎡0  0  0        0   \n",
       "⎢⎢         2      ⎥  ⎢2⋅r                              ⎥  ⎢                   \n",
       "⎢⎢      2⋅r       ⎥  ⎢                                 ⎥  ⎢0  0  r        0   \n",
       "⎢⎢                ⎥  ⎢          -rₛ                    ⎥  ⎢                   \n",
       "⎢⎢-rₛ             ⎥  ⎢ 0    ───────────  0       0     ⎥  ⎢0  r  0        0   \n",
       "⎢⎢────   0    0  0⎥  ⎢                2                ⎥  ⎢                   \n",
       "⎢⎢   2            ⎥  ⎢      2⋅(r - rₛ)                 ⎥  ⎢           2       \n",
       "⎢⎢2⋅r             ⎥  ⎢                                 ⎥  ⎢         -r ⋅sin(2⋅\n",
       "⎢⎢                ⎥  ⎢ 0         0       -r      0     ⎥  ⎢0  0  0  ──────────\n",
       "⎢⎢ 0     0    0  0⎥  ⎢                                 ⎥  ⎣               2   \n",
       "⎢⎢                ⎥  ⎢                             2   ⎥                      \n",
       "⎣⎣ 0     0    0  0⎦  ⎣ 0         0       0   -r⋅sin (θ)⎦                      \n",
       "\n",
       "      ⎡0      0           0            0     ⎤⎤\n",
       "      ⎢                                      ⎥⎥\n",
       "   ⎤  ⎢                                 2    ⎥⎥\n",
       "   ⎥  ⎢0      0           0        r⋅sin (θ) ⎥⎥\n",
       "   ⎥  ⎢                                      ⎥⎥\n",
       "   ⎥  ⎢                            2         ⎥⎥\n",
       "   ⎥  ⎢                           r ⋅sin(2⋅θ)⎥⎥\n",
       "   ⎥  ⎢0      0           0       ───────────⎥⎥\n",
       "   ⎥  ⎢                                2     ⎥⎥\n",
       "θ) ⎥  ⎢                                      ⎥⎥\n",
       "───⎥  ⎢               2                      ⎥⎥\n",
       "   ⎦  ⎢        2     r ⋅sin(2⋅θ)             ⎥⎥\n",
       "      ⎢0  r⋅sin (θ)  ───────────       0     ⎥⎥\n",
       "      ⎣                   2                  ⎦⎦"
      ]
     },
     "execution_count": 11,
     "metadata": {},
     "output_type": "execute_result"
    }
   ],
   "source": [
    "# Varying type 'udd' Christoffel Symbol to 'ddd'\n",
    "chris_symbol03 = cs.vary_christoffelsymbol_type(chris_symbol, 'ddd') \n",
    "chris_symbol03"
   ]
  },
  {
   "cell_type": "code",
   "execution_count": 12,
   "metadata": {},
   "outputs": [
    {
     "data": {
      "text/plain": [
       "'ddd'"
      ]
     },
     "execution_count": 12,
     "metadata": {},
     "output_type": "execute_result"
    }
   ],
   "source": [
    "cs.get_christoffelsymbol_type()"
   ]
  },
  {
   "cell_type": "code",
   "execution_count": 13,
   "metadata": {},
   "outputs": [
    {
     "data": {
      "text/latex": [
       "$\\Gamma_{t t r} = - \\frac{r_{s}}{2 r^{2}}$"
      ],
      "text/plain": [
       "<IPython.core.display.Latex object>"
      ]
     },
     "metadata": {},
     "output_type": "display_data"
    },
    {
     "data": {
      "text/latex": [
       "$\\Gamma_{t r t} = - \\frac{r_{s}}{2 r^{2}}$"
      ],
      "text/plain": [
       "<IPython.core.display.Latex object>"
      ]
     },
     "metadata": {},
     "output_type": "display_data"
    },
    {
     "data": {
      "text/latex": [
       "$\\Gamma_{r t t} = \\frac{r_{s}}{2 r^{2}}$"
      ],
      "text/plain": [
       "<IPython.core.display.Latex object>"
      ]
     },
     "metadata": {},
     "output_type": "display_data"
    },
    {
     "data": {
      "text/latex": [
       "$\\Gamma_{r r r} = - \\frac{r_{s}}{2 \\left(r - r_{s}\\right)^{2}}$"
      ],
      "text/plain": [
       "<IPython.core.display.Latex object>"
      ]
     },
     "metadata": {},
     "output_type": "display_data"
    },
    {
     "data": {
      "text/latex": [
       "$\\Gamma_{r \\theta \\theta} = - r$"
      ],
      "text/plain": [
       "<IPython.core.display.Latex object>"
      ]
     },
     "metadata": {},
     "output_type": "display_data"
    },
    {
     "data": {
      "text/latex": [
       "$\\Gamma_{r \\phi \\phi} = - r \\sin^{2}{\\left(\\theta \\right)}$"
      ],
      "text/plain": [
       "<IPython.core.display.Latex object>"
      ]
     },
     "metadata": {},
     "output_type": "display_data"
    },
    {
     "data": {
      "text/latex": [
       "$\\Gamma_{\\theta r \\theta} = r$"
      ],
      "text/plain": [
       "<IPython.core.display.Latex object>"
      ]
     },
     "metadata": {},
     "output_type": "display_data"
    },
    {
     "data": {
      "text/latex": [
       "$\\Gamma_{\\theta \\theta r} = r$"
      ],
      "text/plain": [
       "<IPython.core.display.Latex object>"
      ]
     },
     "metadata": {},
     "output_type": "display_data"
    },
    {
     "data": {
      "text/latex": [
       "$\\Gamma_{\\theta \\phi \\phi} = - \\frac{r^{2} \\sin{\\left(2 \\theta \\right)}}{2}$"
      ],
      "text/plain": [
       "<IPython.core.display.Latex object>"
      ]
     },
     "metadata": {},
     "output_type": "display_data"
    },
    {
     "data": {
      "text/latex": [
       "$\\Gamma_{\\phi r \\phi} = r \\sin^{2}{\\left(\\theta \\right)}$"
      ],
      "text/plain": [
       "<IPython.core.display.Latex object>"
      ]
     },
     "metadata": {},
     "output_type": "display_data"
    },
    {
     "data": {
      "text/latex": [
       "$\\Gamma_{\\phi \\theta \\phi} = \\frac{r^{2} \\sin{\\left(2 \\theta \\right)}}{2}$"
      ],
      "text/plain": [
       "<IPython.core.display.Latex object>"
      ]
     },
     "metadata": {},
     "output_type": "display_data"
    },
    {
     "data": {
      "text/latex": [
       "$\\Gamma_{\\phi \\phi r} = r \\sin^{2}{\\left(\\theta \\right)}$"
      ],
      "text/plain": [
       "<IPython.core.display.Latex object>"
      ]
     },
     "metadata": {},
     "output_type": "display_data"
    },
    {
     "data": {
      "text/latex": [
       "$\\Gamma_{\\phi \\phi \\theta} = \\frac{r^{2} \\sin{\\left(2 \\theta \\right)}}{2}$"
      ],
      "text/plain": [
       "<IPython.core.display.Latex object>"
      ]
     },
     "metadata": {},
     "output_type": "display_data"
    }
   ],
   "source": [
    "# Obtaining the non-zero components of the given Christoffel Symbol for type ddd\n",
    "cs.nonzero_christoffelsymbol(chris_symbol03) "
   ]
  },
  {
   "cell_type": "code",
   "execution_count": 14,
   "metadata": {},
   "outputs": [
    {
     "data": {
      "image/png": "[encoded data removed]",
      "text/latex": [
       "$\\displaystyle \\left[\\begin{matrix}\\left[\\begin{matrix}0 & - \\frac{r_{s}}{2 \\left(r - r_{s}\\right)^{2}} & 0 & 0\\\\\\frac{r_{s}}{2 r^{2}} & 0 & 0 & 0\\\\0 & 0 & 0 & 0\\\\0 & 0 & 0 & 0\\end{matrix}\\right] & \\left[\\begin{matrix}- \\frac{r_{s}}{2 r^{2}} & 0 & 0 & 0\\\\0 & - \\frac{r_{s}}{2 r^{2}} & 0 & 0\\\\0 & 0 & \\frac{- r + r_{s}}{r^{2}} & 0\\\\0 & 0 & 0 & \\frac{- r + r_{s}}{r^{2}}\\end{matrix}\\right] & \\left[\\begin{matrix}0 & 0 & 0 & 0\\\\0 & 0 & \\frac{r - r_{s}}{r^{2}} & 0\\\\0 & \\frac{1}{r^{3}} & 0 & 0\\\\0 & 0 & 0 & - \\frac{1}{r^{2} \\tan{\\left(\\theta \\right)}}\\end{matrix}\\right] & \\left[\\begin{matrix}0 & 0 & 0 & 0\\\\0 & 0 & 0 & \\frac{r - r_{s}}{r^{2}}\\\\0 & 0 & 0 & \\frac{1}{r^{2} \\tan{\\left(\\theta \\right)}}\\\\0 & \\frac{1}{r^{3} \\sin^{2}{\\left(\\theta \\right)}} & \\frac{\\cos{\\left(\\theta \\right)}}{r^{2} \\sin^{3}{\\left(\\theta \\right)}} & 0\\end{matrix}\\right]\\end{matrix}\\right]$"
      ],
      "text/plain": [
       "⎡                           ⎡-rₛ                         ⎤                    \n",
       "⎢                           ⎢────   0       0        0   ⎥  ⎡0  0     0       \n",
       "⎢                           ⎢   2                        ⎥  ⎢                 \n",
       "⎢⎡          -rₛ          ⎤  ⎢2⋅r                         ⎥  ⎢       r - rₛ    \n",
       "⎢⎢ 0    ───────────  0  0⎥  ⎢                            ⎥  ⎢0  0   ──────    \n",
       "⎢⎢                2      ⎥  ⎢      -rₛ                   ⎥  ⎢          2      \n",
       "⎢⎢      2⋅(r - rₛ)       ⎥  ⎢ 0    ────     0        0   ⎥  ⎢         r       \n",
       "⎢⎢                       ⎥  ⎢         2                  ⎥  ⎢                 \n",
       "⎢⎢ rₛ                    ⎥  ⎢      2⋅r                   ⎥  ⎢   1             \n",
       "⎢⎢────       0       0  0⎥  ⎢                            ⎥  ⎢0  ──    0       \n",
       "⎢⎢   2                   ⎥  ⎢            -r + rₛ         ⎥  ⎢    3            \n",
       "⎢⎢2⋅r                    ⎥  ⎢ 0     0    ───────     0   ⎥  ⎢   r             \n",
       "⎢⎢                       ⎥  ⎢                2           ⎥  ⎢                 \n",
       "⎢⎢ 0         0       0  0⎥  ⎢               r            ⎥  ⎢                 \n",
       "⎢⎢                       ⎥  ⎢                            ⎥  ⎢0  0     0     ──\n",
       "⎢⎣ 0         0       0  0⎦  ⎢                     -r + rₛ⎥  ⎢                2\n",
       "⎢                           ⎢ 0     0       0     ───────⎥  ⎣               r \n",
       "⎢                           ⎢                         2  ⎥                    \n",
       "⎣                           ⎣                        r   ⎦                    \n",
       "\n",
       "                                                ⎤\n",
       "  0    ⎤  ⎡0      0           0           0    ⎤⎥\n",
       "       ⎥  ⎢                                    ⎥⎥\n",
       "       ⎥  ⎢                            r - rₛ  ⎥⎥\n",
       "  0    ⎥  ⎢0      0           0        ──────  ⎥⎥\n",
       "       ⎥  ⎢                               2    ⎥⎥\n",
       "       ⎥  ⎢                              r     ⎥⎥\n",
       "       ⎥  ⎢                                    ⎥⎥\n",
       "       ⎥  ⎢                               1    ⎥⎥\n",
       "  0    ⎥  ⎢0      0           0       ─────────⎥⎥\n",
       "       ⎥  ⎢                            2       ⎥⎥\n",
       "       ⎥  ⎢                           r ⋅tan(θ)⎥⎥\n",
       "       ⎥  ⎢                                    ⎥⎥\n",
       " -1    ⎥  ⎢       1         cos(θ)             ⎥⎥\n",
       "───────⎥  ⎢0  ──────────  ──────────      0    ⎥⎥\n",
       "       ⎥  ⎢    3    2      2    3              ⎥⎥\n",
       "⋅tan(θ)⎦  ⎣   r ⋅sin (θ)  r ⋅sin (θ)           ⎦⎥\n",
       "                                                ⎥\n",
       "                                                ⎦"
      ]
     },
     "execution_count": 14,
     "metadata": {},
     "output_type": "execute_result"
    }
   ],
   "source": [
    "# Varying type 'udd' Christoffel Symbol to 'uud'\n",
    "chris_symbol21 = cs.vary_christoffelsymbol_type(chris_symbol, 'uud') \n",
    "chris_symbol21"
   ]
  },
  {
   "cell_type": "code",
   "execution_count": 15,
   "metadata": {},
   "outputs": [
    {
     "data": {
      "text/plain": [
       "'uud'"
      ]
     },
     "execution_count": 15,
     "metadata": {},
     "output_type": "execute_result"
    }
   ],
   "source": [
    "cs.get_christoffelsymbol_type() "
   ]
  },
  {
   "cell_type": "code",
   "execution_count": 16,
   "metadata": {},
   "outputs": [
    {
     "data": {
      "image/png": "[encoded data removed]",
      "text/latex": [
       "$\\displaystyle \\left[\\begin{matrix}\\left[\\begin{matrix}0 & - \\frac{r_{s}}{2 r \\left(r - r_{s}\\right)} & 0 & 0\\\\- \\frac{r_{s}}{2 r \\left(r - r_{s}\\right)} & 0 & 0 & 0\\\\0 & 0 & 0 & 0\\\\0 & 0 & 0 & 0\\end{matrix}\\right] & \\left[\\begin{matrix}\\frac{r_{s}}{2 r \\left(r - r_{s}\\right)} & 0 & 0 & 0\\\\0 & \\frac{r_{s} \\left(- r + r_{s}\\right)}{2 r^{3}} & 0 & 0\\\\0 & 0 & \\frac{- r + r_{s}}{r^{4}} & 0\\\\0 & 0 & 0 & \\frac{- r + r_{s}}{r^{4} \\sin^{2}{\\left(\\theta \\right)}}\\end{matrix}\\right] & \\left[\\begin{matrix}0 & 0 & 0 & 0\\\\0 & 0 & \\frac{r - r_{s}}{r^{4}} & 0\\\\0 & \\frac{r - r_{s}}{r^{4}} & 0 & 0\\\\0 & 0 & 0 & - \\frac{\\cos{\\left(\\theta \\right)}}{r^{4} \\sin^{3}{\\left(\\theta \\right)}}\\end{matrix}\\right] & \\left[\\begin{matrix}0 & 0 & 0 & 0\\\\0 & 0 & 0 & \\frac{r - r_{s}}{r^{4} \\sin^{2}{\\left(\\theta \\right)}}\\\\0 & 0 & 0 & \\frac{\\cos{\\left(\\theta \\right)}}{r^{4} \\sin^{3}{\\left(\\theta \\right)}}\\\\0 & \\frac{r - r_{s}}{r^{4} \\sin^{2}{\\left(\\theta \\right)}} & \\frac{\\cos{\\left(\\theta \\right)}}{r^{4} \\sin^{3}{\\left(\\theta \\right)}} & 0\\end{matrix}\\right]\\end{matrix}\\right]$"
      ],
      "text/plain": [
       "⎡                                    ⎡     rₛ                                 \n",
       "⎢                                    ⎢────────────       0           0        \n",
       "⎢                                    ⎢2⋅r⋅(r - rₛ)                            \n",
       "⎢                                    ⎢                                        \n",
       "⎢⎡                  -rₛ           ⎤  ⎢              rₛ⋅(-r + rₛ)              \n",
       "⎢⎢     0        ────────────  0  0⎥  ⎢     0        ────────────     0        \n",
       "⎢⎢              2⋅r⋅(r - rₛ)      ⎥  ⎢                     3                  \n",
       "⎢⎢                                ⎥  ⎢                  2⋅r                   \n",
       "⎢⎢    -rₛ                         ⎥  ⎢                                        \n",
       "⎢⎢────────────       0        0  0⎥  ⎢                            -r + rₛ     \n",
       "⎢⎢2⋅r⋅(r - rₛ)                    ⎥  ⎢     0             0        ───────     \n",
       "⎢⎢                                ⎥  ⎢                                4       \n",
       "⎢⎢     0             0        0  0⎥  ⎢                               r        \n",
       "⎢⎢                                ⎥  ⎢                                        \n",
       "⎢⎣     0             0        0  0⎦  ⎢                                      -r\n",
       "⎢                                    ⎢     0             0           0     ───\n",
       "⎢                                    ⎢                                      4 \n",
       "⎣                                    ⎣                                     r ⋅\n",
       "\n",
       "       ⎤                                                                      \n",
       " 0     ⎥  ⎡0    0       0         0     ⎤  ⎡0      0           0           0  \n",
       "       ⎥  ⎢                             ⎥  ⎢                                  \n",
       "       ⎥  ⎢           r - rₛ            ⎥  ⎢                             r - r\n",
       "       ⎥  ⎢0    0     ──────      0     ⎥  ⎢0      0           0       ───────\n",
       " 0     ⎥  ⎢              4              ⎥  ⎢                            4    2\n",
       "       ⎥  ⎢             r               ⎥  ⎢                           r ⋅sin \n",
       "       ⎥  ⎢                             ⎥  ⎢                                  \n",
       "       ⎥  ⎢   r - rₛ                    ⎥  ⎢                             cos(θ\n",
       "       ⎥  ⎢0  ──────    0         0     ⎥  ⎢0      0           0       ───────\n",
       " 0     ⎥  ⎢      4                      ⎥  ⎢                            4    3\n",
       "       ⎥  ⎢     r                       ⎥  ⎢                           r ⋅sin \n",
       "       ⎥  ⎢                             ⎥  ⎢                                  \n",
       "       ⎥  ⎢                    -cos(θ)  ⎥  ⎢     r - rₛ      cos(θ)           \n",
       " + rₛ  ⎥  ⎢0    0       0     ──────────⎥  ⎢0  ──────────  ──────────      0  \n",
       "───────⎥  ⎢                    4    3   ⎥  ⎢    4    2      4    3            \n",
       "   2   ⎥  ⎣                   r ⋅sin (θ)⎦  ⎣   r ⋅sin (θ)  r ⋅sin (θ)         \n",
       "sin (θ)⎦                                                                      \n",
       "\n",
       "    ⎤\n",
       "   ⎤⎥\n",
       "   ⎥⎥\n",
       "ₛ  ⎥⎥\n",
       "───⎥⎥\n",
       "   ⎥⎥\n",
       "(θ)⎥⎥\n",
       "   ⎥⎥\n",
       ")  ⎥⎥\n",
       "───⎥⎥\n",
       "   ⎥⎥\n",
       "(θ)⎥⎥\n",
       "   ⎥⎥\n",
       "   ⎥⎥\n",
       "   ⎥⎥\n",
       "   ⎥⎥\n",
       "   ⎦⎥\n",
       "    ⎦"
      ]
     },
     "execution_count": 16,
     "metadata": {},
     "output_type": "execute_result"
    }
   ],
   "source": [
    "# Varying type 'udd' Christoffel Symbol to 'uuu'\n",
    "chris_symbol30 = cs.vary_christoffelsymbol_type(chris_symbol, 'uuu')\n",
    "chris_symbol30"
   ]
  },
  {
   "cell_type": "code",
   "execution_count": 17,
   "metadata": {},
   "outputs": [
    {
     "data": {
      "text/plain": [
       "'uuu'"
      ]
     },
     "execution_count": 17,
     "metadata": {},
     "output_type": "execute_result"
    }
   ],
   "source": [
    "cs.get_christoffelsymbol_type() "
   ]
  },
  {
   "cell_type": "code",
   "execution_count": 18,
   "metadata": {},
   "outputs": [
    {
     "data": {
      "text/latex": [
       "$\\Gamma^{t t r} = - \\frac{r_{s}}{2 r \\left(r - r_{s}\\right)}$"
      ],
      "text/plain": [
       "<IPython.core.display.Latex object>"
      ]
     },
     "metadata": {},
     "output_type": "display_data"
    },
    {
     "data": {
      "text/latex": [
       "$\\Gamma^{t r t} = - \\frac{r_{s}}{2 r \\left(r - r_{s}\\right)}$"
      ],
      "text/plain": [
       "<IPython.core.display.Latex object>"
      ]
     },
     "metadata": {},
     "output_type": "display_data"
    },
    {
     "data": {
      "text/latex": [
       "$\\Gamma^{r t t} = \\frac{r_{s}}{2 r \\left(r - r_{s}\\right)}$"
      ],
      "text/plain": [
       "<IPython.core.display.Latex object>"
      ]
     },
     "metadata": {},
     "output_type": "display_data"
    },
    {
     "data": {
      "text/latex": [
       "$\\Gamma^{r r r} = \\frac{r_{s} \\left(- r + r_{s}\\right)}{2 r^{3}}$"
      ],
      "text/plain": [
       "<IPython.core.display.Latex object>"
      ]
     },
     "metadata": {},
     "output_type": "display_data"
    },
    {
     "data": {
      "text/latex": [
       "$\\Gamma^{r \\theta \\theta} = \\frac{- r + r_{s}}{r^{4}}$"
      ],
      "text/plain": [
       "<IPython.core.display.Latex object>"
      ]
     },
     "metadata": {},
     "output_type": "display_data"
    },
    {
     "data": {
      "text/latex": [
       "$\\Gamma^{r \\phi \\phi} = \\frac{- r + r_{s}}{r^{4} \\sin^{2}{\\left(\\theta \\right)}}$"
      ],
      "text/plain": [
       "<IPython.core.display.Latex object>"
      ]
     },
     "metadata": {},
     "output_type": "display_data"
    },
    {
     "data": {
      "text/latex": [
       "$\\Gamma^{\\theta r \\theta} = \\frac{r - r_{s}}{r^{4}}$"
      ],
      "text/plain": [
       "<IPython.core.display.Latex object>"
      ]
     },
     "metadata": {},
     "output_type": "display_data"
    },
    {
     "data": {
      "text/latex": [
       "$\\Gamma^{\\theta \\theta r} = \\frac{r - r_{s}}{r^{4}}$"
      ],
      "text/plain": [
       "<IPython.core.display.Latex object>"
      ]
     },
     "metadata": {},
     "output_type": "display_data"
    },
    {
     "data": {
      "text/latex": [
       "$\\Gamma^{\\theta \\phi \\phi} = - \\frac{\\cos{\\left(\\theta \\right)}}{r^{4} \\sin^{3}{\\left(\\theta \\right)}}$"
      ],
      "text/plain": [
       "<IPython.core.display.Latex object>"
      ]
     },
     "metadata": {},
     "output_type": "display_data"
    },
    {
     "data": {
      "text/latex": [
       "$\\Gamma^{\\phi r \\phi} = \\frac{r - r_{s}}{r^{4} \\sin^{2}{\\left(\\theta \\right)}}$"
      ],
      "text/plain": [
       "<IPython.core.display.Latex object>"
      ]
     },
     "metadata": {},
     "output_type": "display_data"
    },
    {
     "data": {
      "text/latex": [
       "$\\Gamma^{\\phi \\theta \\phi} = \\frac{\\cos{\\left(\\theta \\right)}}{r^{4} \\sin^{3}{\\left(\\theta \\right)}}$"
      ],
      "text/plain": [
       "<IPython.core.display.Latex object>"
      ]
     },
     "metadata": {},
     "output_type": "display_data"
    },
    {
     "data": {
      "text/latex": [
       "$\\Gamma^{\\phi \\phi r} = \\frac{r - r_{s}}{r^{4} \\sin^{2}{\\left(\\theta \\right)}}$"
      ],
      "text/plain": [
       "<IPython.core.display.Latex object>"
      ]
     },
     "metadata": {},
     "output_type": "display_data"
    },
    {
     "data": {
      "text/latex": [
       "$\\Gamma^{\\phi \\phi \\theta} = \\frac{\\cos{\\left(\\theta \\right)}}{r^{4} \\sin^{3}{\\left(\\theta \\right)}}$"
      ],
      "text/plain": [
       "<IPython.core.display.Latex object>"
      ]
     },
     "metadata": {},
     "output_type": "display_data"
    }
   ],
   "source": [
    "cs.nonzero_christoffelsymbol(chris_symbol30) "
   ]
  },
  {
   "cell_type": "markdown",
   "metadata": {},
   "source": [
    "# Riemann Tensor"
   ]
  },
  {
   "cell_type": "code",
   "execution_count": 19,
   "metadata": {},
   "outputs": [
    {
     "data": {
      "image/png": "[encoded data removed]",
      "text/latex": [
       "$\\displaystyle \\left[\\begin{matrix}\\left[\\begin{matrix}0 & 0 & 0 & 0\\\\0 & - \\frac{r_{s}}{r^{2} \\left(r - r_{s}\\right)} & 0 & 0\\\\0 & 0 & \\frac{r_{s}}{2 r} & 0\\\\0 & 0 & 0 & \\frac{r_{s} \\sin^{2}{\\left(\\theta \\right)}}{2 r}\\end{matrix}\\right] & \\left[\\begin{matrix}0 & \\frac{r_{s}}{r^{2} \\left(r - r_{s}\\right)} & 0 & 0\\\\0 & 0 & 0 & 0\\\\0 & 0 & 0 & 0\\\\0 & 0 & 0 & 0\\end{matrix}\\right] & \\left[\\begin{matrix}0 & 0 & - \\frac{r_{s}}{2 r} & 0\\\\0 & 0 & 0 & 0\\\\0 & 0 & 0 & 0\\\\0 & 0 & 0 & 0\\end{matrix}\\right] & \\left[\\begin{matrix}0 & 0 & 0 & - \\frac{r_{s} \\sin^{2}{\\left(\\theta \\right)}}{2 r}\\\\0 & 0 & 0 & 0\\\\0 & 0 & 0 & 0\\\\0 & 0 & 0 & 0\\end{matrix}\\right]\\\\\\left[\\begin{matrix}0 & 0 & 0 & 0\\\\\\frac{r_{s} \\left(- r + r_{s}\\right)}{r^{4}} & 0 & 0 & 0\\\\0 & 0 & 0 & 0\\\\0 & 0 & 0 & 0\\end{matrix}\\right] & \\left[\\begin{matrix}\\frac{r_{s} \\left(r - r_{s}\\right)}{r^{4}} & 0 & 0 & 0\\\\0 & 0 & 0 & 0\\\\0 & 0 & \\frac{r_{s}}{2 r} & 0\\\\0 & 0 & 0 & \\frac{r_{s} \\sin^{2}{\\left(\\theta \\right)}}{2 r}\\end{matrix}\\right] & \\left[\\begin{matrix}0 & 0 & 0 & 0\\\\0 & 0 & - \\frac{r_{s}}{2 r} & 0\\\\0 & 0 & 0 & 0\\\\0 & 0 & 0 & 0\\end{matrix}\\right] & \\left[\\begin{matrix}0 & 0 & 0 & 0\\\\0 & 0 & 0 & - \\frac{r_{s} \\sin^{2}{\\left(\\theta \\right)}}{2 r}\\\\0 & 0 & 0 & 0\\\\0 & 0 & 0 & 0\\end{matrix}\\right]\\\\\\left[\\begin{matrix}0 & 0 & 0 & 0\\\\0 & 0 & 0 & 0\\\\\\frac{r_{s} \\left(r - r_{s}\\right)}{2 r^{4}} & 0 & 0 & 0\\\\0 & 0 & 0 & 0\\end{matrix}\\right] & \\left[\\begin{matrix}0 & 0 & 0 & 0\\\\0 & 0 & 0 & 0\\\\0 & - \\frac{r_{s}}{2 r^{2} \\left(r - r_{s}\\right)} & 0 & 0\\\\0 & 0 & 0 & 0\\end{matrix}\\right] & \\left[\\begin{matrix}\\frac{r_{s} \\left(- r + r_{s}\\right)}{2 r^{4}} & 0 & 0 & 0\\\\0 & \\frac{r_{s}}{2 r^{2} \\left(r - r_{s}\\right)} & 0 & 0\\\\0 & 0 & 0 & 0\\\\0 & 0 & 0 & - \\frac{r_{s} \\sin^{2}{\\left(\\theta \\right)}}{r}\\end{matrix}\\right] & \\left[\\begin{matrix}0 & 0 & 0 & 0\\\\0 & 0 & 0 & 0\\\\0 & 0 & 0 & \\frac{r_{s} \\sin^{2}{\\left(\\theta \\right)}}{r}\\\\0 & 0 & 0 & 0\\end{matrix}\\right]\\\\\\left[\\begin{matrix}0 & 0 & 0 & 0\\\\0 & 0 & 0 & 0\\\\0 & 0 & 0 & 0\\\\\\frac{r_{s} \\left(r - r_{s}\\right)}{2 r^{4}} & 0 & 0 & 0\\end{matrix}\\right] & \\left[\\begin{matrix}0 & 0 & 0 & 0\\\\0 & 0 & 0 & 0\\\\0 & 0 & 0 & 0\\\\0 & - \\frac{r_{s}}{2 r^{2} \\left(r - r_{s}\\right)} & 0 & 0\\end{matrix}\\right] & \\left[\\begin{matrix}0 & 0 & 0 & 0\\\\0 & 0 & 0 & 0\\\\0 & 0 & 0 & 0\\\\0 & 0 & \\frac{r_{s}}{r} & 0\\end{matrix}\\right] & \\left[\\begin{matrix}\\frac{r_{s} \\left(- r + r_{s}\\right)}{2 r^{4}} & 0 & 0 & 0\\\\0 & \\frac{r_{s}}{2 r^{2} \\left(r - r_{s}\\right)} & 0 & 0\\\\0 & 0 & - \\frac{r_{s}}{r} & 0\\\\0 & 0 & 0 & 0\\end{matrix}\\right]\\end{matrix}\\right]$"
      ],
      "text/plain": [
       "⎡⎡0       0        0       0     ⎤                                            \n",
       "⎢⎢                               ⎥                                            \n",
       "⎢⎢       -rₛ                     ⎥       ⎡        rₛ          ⎤               \n",
       "⎢⎢0  ───────────   0       0     ⎥       ⎢0  ───────────  0  0⎥               \n",
       "⎢⎢    2                          ⎥       ⎢    2               ⎥               \n",
       "⎢⎢   r ⋅(r - rₛ)                 ⎥       ⎢   r ⋅(r - rₛ)      ⎥               \n",
       "⎢⎢                               ⎥       ⎢                    ⎥               \n",
       "⎢⎢                 rₛ            ⎥       ⎢0       0       0  0⎥               \n",
       "⎢⎢0       0       ───      0     ⎥       ⎢                    ⎥               \n",
       "⎢⎢                2⋅r            ⎥       ⎢0       0       0  0⎥               \n",
       "⎢⎢                               ⎥       ⎢                    ⎥               \n",
       "⎢⎢                           2   ⎥       ⎣0       0       0  0⎦               \n",
       "⎢⎢                     rₛ⋅sin (θ)⎥                                            \n",
       "⎢⎢0       0        0   ──────────⎥                                            \n",
       "⎢⎣                        2⋅r    ⎦                                            \n",
       "⎢                                                                             \n",
       "⎢                                   ⎡rₛ⋅(r - rₛ)                    ⎤         \n",
       "⎢                                   ⎢───────────  0   0       0     ⎥         \n",
       "⎢     ⎡     0        0  0  0⎤       ⎢      4                        ⎥         \n",
       "⎢     ⎢                     ⎥       ⎢     r                         ⎥         \n",
       "⎢     ⎢rₛ⋅(-r + rₛ)         ⎥       ⎢                               ⎥         \n",
       "⎢     ⎢────────────  0  0  0⎥       ⎢     0       0   0       0     ⎥         \n",
       "⎢     ⎢      4              ⎥       ⎢                               ⎥         \n",
       "⎢     ⎢     r               ⎥       ⎢                 rₛ            ⎥         \n",
       "⎢     ⎢                     ⎥       ⎢     0       0  ───      0     ⎥         \n",
       "⎢     ⎢     0        0  0  0⎥       ⎢                2⋅r            ⎥         \n",
       "⎢     ⎢                     ⎥       ⎢                               ⎥         \n",
       "⎢     ⎣     0        0  0  0⎦       ⎢                           2   ⎥         \n",
       "⎢                                   ⎢                     rₛ⋅sin (θ)⎥         \n",
       "⎢                                   ⎢     0       0   0   ──────────⎥         \n",
       "⎢                                   ⎣                        2⋅r    ⎦         \n",
       "⎢                                                                             \n",
       "⎢                                                                      ⎡rₛ⋅(-r\n",
       "⎢                                                                      ⎢──────\n",
       "⎢                                                                      ⎢      \n",
       "⎢     ⎡     0       0  0  0⎤            ⎡0        0        0  0⎤       ⎢    2⋅\n",
       "⎢     ⎢                    ⎥            ⎢                      ⎥       ⎢      \n",
       "⎢     ⎢     0       0  0  0⎥            ⎢0        0        0  0⎥       ⎢      \n",
       "⎢     ⎢                    ⎥            ⎢                      ⎥       ⎢     0\n",
       "⎢     ⎢rₛ⋅(r - rₛ)         ⎥            ⎢        -rₛ           ⎥       ⎢      \n",
       "⎢     ⎢───────────  0  0  0⎥            ⎢0  ─────────────  0  0⎥       ⎢      \n",
       "⎢     ⎢       4            ⎥            ⎢      2               ⎥       ⎢      \n",
       "⎢     ⎢    2⋅r             ⎥            ⎢   2⋅r ⋅(r - rₛ)      ⎥       ⎢     0\n",
       "⎢     ⎢                    ⎥            ⎢                      ⎥       ⎢      \n",
       "⎢     ⎣     0       0  0  0⎦            ⎣0        0        0  0⎦       ⎢      \n",
       "⎢                                                                      ⎢      \n",
       "⎢                                                                      ⎢     0\n",
       "⎢                                                                      ⎣      \n",
       "⎢                                                                             \n",
       "⎢                                                                             \n",
       "⎢                                                                             \n",
       "⎢     ⎡     0       0  0  0⎤            ⎡0        0        0  0⎤              \n",
       "⎢     ⎢                    ⎥            ⎢                      ⎥              \n",
       "⎢     ⎢     0       0  0  0⎥            ⎢0        0        0  0⎥              \n",
       "⎢     ⎢                    ⎥            ⎢                      ⎥              \n",
       "⎢     ⎢     0       0  0  0⎥            ⎢0        0        0  0⎥              \n",
       "⎢     ⎢                    ⎥            ⎢                      ⎥              \n",
       "⎢     ⎢rₛ⋅(r - rₛ)         ⎥            ⎢        -rₛ           ⎥              \n",
       "⎢     ⎢───────────  0  0  0⎥            ⎢0  ─────────────  0  0⎥              \n",
       "⎢     ⎢       4            ⎥            ⎢      2               ⎥              \n",
       "⎢     ⎣    2⋅r             ⎦            ⎣   2⋅r ⋅(r - rₛ)      ⎦              \n",
       "⎢                                                                             \n",
       "⎢                                                                             \n",
       "⎣                                                                             \n",
       "\n",
       "                                                                              \n",
       "                                                                              \n",
       "                                                ⎡                2    ⎤       \n",
       "        ⎡      -rₛ    ⎤                         ⎢         -rₛ⋅sin (θ) ⎥       \n",
       "        ⎢0  0  ────  0⎥                         ⎢0  0  0  ────────────⎥       \n",
       "        ⎢      2⋅r    ⎥                         ⎢             2⋅r     ⎥       \n",
       "        ⎢             ⎥                         ⎢                     ⎥       \n",
       "        ⎢0  0   0    0⎥                         ⎢0  0  0       0      ⎥       \n",
       "        ⎢             ⎥                         ⎢                     ⎥       \n",
       "        ⎢0  0   0    0⎥                         ⎢0  0  0       0      ⎥       \n",
       "        ⎢             ⎥                         ⎢                     ⎥       \n",
       "        ⎣0  0   0    0⎦                         ⎣0  0  0       0      ⎦       \n",
       "                                                                              \n",
       "                                                                              \n",
       "                                                                              \n",
       "                                                                              \n",
       "                                                                              \n",
       "                                                                              \n",
       "                                                ⎡0  0  0       0      ⎤       \n",
       "        ⎡0  0   0    0⎤                         ⎢                     ⎥       \n",
       "        ⎢             ⎥                         ⎢                2    ⎥       \n",
       "        ⎢      -rₛ    ⎥                         ⎢         -rₛ⋅sin (θ) ⎥       \n",
       "        ⎢0  0  ────  0⎥                         ⎢0  0  0  ────────────⎥       \n",
       "        ⎢      2⋅r    ⎥                         ⎢             2⋅r     ⎥       \n",
       "        ⎢             ⎥                         ⎢                     ⎥       \n",
       "        ⎢0  0   0    0⎥                         ⎢0  0  0       0      ⎥       \n",
       "        ⎢             ⎥                         ⎢                     ⎥       \n",
       "        ⎣0  0   0    0⎦                         ⎣0  0  0       0      ⎦       \n",
       "                                                                              \n",
       "                                                                              \n",
       "                                                                              \n",
       "                                                                              \n",
       " + rₛ)                                ⎤                                       \n",
       "──────        0        0       0      ⎥                                       \n",
       " 4                                    ⎥                                       \n",
       "r                                     ⎥          ⎡0  0  0      0     ⎤        \n",
       "                                      ⎥          ⎢                   ⎥        \n",
       "              rₛ                      ⎥          ⎢0  0  0      0     ⎥        \n",
       "        ─────────────  0       0      ⎥          ⎢                   ⎥        \n",
       "           2                          ⎥          ⎢               2   ⎥        \n",
       "        2⋅r ⋅(r - rₛ)                 ⎥          ⎢         rₛ⋅sin (θ)⎥        \n",
       "                                      ⎥          ⎢0  0  0  ──────────⎥        \n",
       "              0        0       0      ⎥          ⎢             r     ⎥        \n",
       "                                      ⎥          ⎢                   ⎥        \n",
       "                                 2    ⎥          ⎣0  0  0      0     ⎦        \n",
       "                          -rₛ⋅sin (θ) ⎥                                       \n",
       "              0        0  ────────────⎥                                       \n",
       "                               r      ⎦                                       \n",
       "                                                                              \n",
       "                                         ⎡rₛ⋅(-r + rₛ)                        \n",
       "                                         ⎢────────────        0         0    0\n",
       "                                         ⎢       4                            \n",
       "         ⎡0  0  0   0⎤                   ⎢    2⋅r                             \n",
       "         ⎢           ⎥                   ⎢                                    \n",
       "         ⎢0  0  0   0⎥                   ⎢                    rₛ              \n",
       "         ⎢           ⎥                   ⎢     0        ─────────────   0    0\n",
       "         ⎢0  0  0   0⎥                   ⎢                 2                  \n",
       "         ⎢           ⎥                   ⎢              2⋅r ⋅(r - rₛ)         \n",
       "         ⎢      rₛ   ⎥                   ⎢                                    \n",
       "         ⎢0  0  ──  0⎥                   ⎢                             -rₛ    \n",
       "         ⎣      r    ⎦                   ⎢     0              0        ────  0\n",
       "                                         ⎢                              r     \n",
       "                                         ⎢                                    \n",
       "                                         ⎣     0              0         0    0\n",
       "\n",
       " ⎤\n",
       " ⎥\n",
       " ⎥\n",
       " ⎥\n",
       " ⎥\n",
       " ⎥\n",
       " ⎥\n",
       " ⎥\n",
       " ⎥\n",
       " ⎥\n",
       " ⎥\n",
       " ⎥\n",
       " ⎥\n",
       " ⎥\n",
       " ⎥\n",
       " ⎥\n",
       " ⎥\n",
       " ⎥\n",
       " ⎥\n",
       " ⎥\n",
       " ⎥\n",
       " ⎥\n",
       " ⎥\n",
       " ⎥\n",
       " ⎥\n",
       " ⎥\n",
       " ⎥\n",
       " ⎥\n",
       " ⎥\n",
       " ⎥\n",
       " ⎥\n",
       " ⎥\n",
       " ⎥\n",
       " ⎥\n",
       " ⎥\n",
       " ⎥\n",
       " ⎥\n",
       " ⎥\n",
       " ⎥\n",
       " ⎥\n",
       " ⎥\n",
       " ⎥\n",
       " ⎥\n",
       " ⎥\n",
       " ⎥\n",
       " ⎥\n",
       " ⎥\n",
       " ⎥\n",
       " ⎥\n",
       "⎤⎥\n",
       "⎥⎥\n",
       "⎥⎥\n",
       "⎥⎥\n",
       "⎥⎥\n",
       "⎥⎥\n",
       "⎥⎥\n",
       "⎥⎥\n",
       "⎥⎥\n",
       "⎥⎥\n",
       "⎥⎥\n",
       "⎥⎥\n",
       "⎥⎥\n",
       "⎥⎥\n",
       "⎦⎦"
      ]
     },
     "execution_count": 19,
     "metadata": {},
     "output_type": "execute_result"
    }
   ],
   "source": [
    "# Obtaining the Riemann Tensor\n",
    "rt = RiemannTensor(diag_comp, coord_sys)\n",
    "riemann_tensor = rt.get_riemanntensor()\n",
    "riemann_tensor"
   ]
  },
  {
   "cell_type": "code",
   "execution_count": 20,
   "metadata": {},
   "outputs": [
    {
     "data": {
      "text/plain": [
       "'uddd'"
      ]
     },
     "execution_count": 20,
     "metadata": {},
     "output_type": "execute_result"
    }
   ],
   "source": [
    "# Default type of the Riemann Tensor\n",
    "rt.get_riemanntensor_type()"
   ]
  },
  {
   "cell_type": "code",
   "execution_count": 21,
   "metadata": {},
   "outputs": [
    {
     "data": {
      "image/png": "[encoded data removed]",
      "text/latex": [
       "$\\displaystyle \\left[\\begin{matrix}\\left[\\begin{matrix}0 & 0 & 0 & 0\\\\0 & \\frac{r_{s}}{r^{3}} & 0 & 0\\\\0 & 0 & \\frac{r_{s} \\left(- r + r_{s}\\right)}{2 r^{2}} & 0\\\\0 & 0 & 0 & \\frac{r_{s} \\left(- r + r_{s}\\right) \\sin^{2}{\\left(\\theta \\right)}}{2 r^{2}}\\end{matrix}\\right] & \\left[\\begin{matrix}0 & - \\frac{r_{s}}{r^{3}} & 0 & 0\\\\0 & 0 & 0 & 0\\\\0 & 0 & 0 & 0\\\\0 & 0 & 0 & 0\\end{matrix}\\right] & \\left[\\begin{matrix}0 & 0 & \\frac{r_{s} \\left(r - r_{s}\\right)}{2 r^{2}} & 0\\\\0 & 0 & 0 & 0\\\\0 & 0 & 0 & 0\\\\0 & 0 & 0 & 0\\end{matrix}\\right] & \\left[\\begin{matrix}0 & 0 & 0 & \\frac{r_{s} \\left(r - r_{s}\\right) \\sin^{2}{\\left(\\theta \\right)}}{2 r^{2}}\\\\0 & 0 & 0 & 0\\\\0 & 0 & 0 & 0\\\\0 & 0 & 0 & 0\\end{matrix}\\right]\\\\\\left[\\begin{matrix}0 & 0 & 0 & 0\\\\- \\frac{r_{s}}{r^{3}} & 0 & 0 & 0\\\\0 & 0 & 0 & 0\\\\0 & 0 & 0 & 0\\end{matrix}\\right] & \\left[\\begin{matrix}\\frac{r_{s}}{r^{3}} & 0 & 0 & 0\\\\0 & 0 & 0 & 0\\\\0 & 0 & \\frac{r_{s}}{2 \\left(r - r_{s}\\right)} & 0\\\\0 & 0 & 0 & \\frac{r_{s} \\sin^{2}{\\left(\\theta \\right)}}{2 \\left(r - r_{s}\\right)}\\end{matrix}\\right] & \\left[\\begin{matrix}0 & 0 & 0 & 0\\\\0 & 0 & - \\frac{r_{s}}{2 r - 2 r_{s}} & 0\\\\0 & 0 & 0 & 0\\\\0 & 0 & 0 & 0\\end{matrix}\\right] & \\left[\\begin{matrix}0 & 0 & 0 & 0\\\\0 & 0 & 0 & - \\frac{r_{s} \\sin^{2}{\\left(\\theta \\right)}}{2 r - 2 r_{s}}\\\\0 & 0 & 0 & 0\\\\0 & 0 & 0 & 0\\end{matrix}\\right]\\\\\\left[\\begin{matrix}0 & 0 & 0 & 0\\\\0 & 0 & 0 & 0\\\\\\frac{r_{s} \\left(r - r_{s}\\right)}{2 r^{2}} & 0 & 0 & 0\\\\0 & 0 & 0 & 0\\end{matrix}\\right] & \\left[\\begin{matrix}0 & 0 & 0 & 0\\\\0 & 0 & 0 & 0\\\\0 & - \\frac{r_{s}}{2 r - 2 r_{s}} & 0 & 0\\\\0 & 0 & 0 & 0\\end{matrix}\\right] & \\left[\\begin{matrix}\\frac{r_{s} \\left(- r + r_{s}\\right)}{2 r^{2}} & 0 & 0 & 0\\\\0 & \\frac{r_{s}}{2 \\left(r - r_{s}\\right)} & 0 & 0\\\\0 & 0 & 0 & 0\\\\0 & 0 & 0 & - r r_{s} \\sin^{2}{\\left(\\theta \\right)}\\end{matrix}\\right] & \\left[\\begin{matrix}0 & 0 & 0 & 0\\\\0 & 0 & 0 & 0\\\\0 & 0 & 0 & r r_{s} \\sin^{2}{\\left(\\theta \\right)}\\\\0 & 0 & 0 & 0\\end{matrix}\\right]\\\\\\left[\\begin{matrix}0 & 0 & 0 & 0\\\\0 & 0 & 0 & 0\\\\0 & 0 & 0 & 0\\\\\\frac{r_{s} \\left(r - r_{s}\\right) \\sin^{2}{\\left(\\theta \\right)}}{2 r^{2}} & 0 & 0 & 0\\end{matrix}\\right] & \\left[\\begin{matrix}0 & 0 & 0 & 0\\\\0 & 0 & 0 & 0\\\\0 & 0 & 0 & 0\\\\0 & - \\frac{r_{s} \\sin^{2}{\\left(\\theta \\right)}}{2 r - 2 r_{s}} & 0 & 0\\end{matrix}\\right] & \\left[\\begin{matrix}0 & 0 & 0 & 0\\\\0 & 0 & 0 & 0\\\\0 & 0 & 0 & 0\\\\0 & 0 & r r_{s} \\sin^{2}{\\left(\\theta \\right)} & 0\\end{matrix}\\right] & \\left[\\begin{matrix}\\frac{r_{s} \\left(- r + r_{s}\\right) \\sin^{2}{\\left(\\theta \\right)}}{2 r^{2}} & 0 & 0 & 0\\\\0 & \\frac{r_{s} \\sin^{2}{\\left(\\theta \\right)}}{2 \\left(r - r_{s}\\right)} & 0 & 0\\\\0 & 0 & - r r_{s} \\sin^{2}{\\left(\\theta \\right)} & 0\\\\0 & 0 & 0 & 0\\end{matrix}\\right]\\end{matrix}\\right]$"
      ],
      "text/plain": [
       "⎡⎡0  0        0                 0          ⎤                                  \n",
       "⎢⎢                                         ⎥                                  \n",
       "⎢⎢   rₛ                                    ⎥                                  \n",
       "⎢⎢0  ──       0                 0          ⎥          ⎡   -rₛ       ⎤         \n",
       "⎢⎢    3                                    ⎥          ⎢0  ────  0  0⎥         \n",
       "⎢⎢   r                                     ⎥          ⎢     3       ⎥         \n",
       "⎢⎢                                         ⎥          ⎢    r        ⎥         \n",
       "⎢⎢       rₛ⋅(-r + rₛ)                      ⎥          ⎢             ⎥         \n",
       "⎢⎢0  0   ────────────           0          ⎥          ⎢0   0    0  0⎥         \n",
       "⎢⎢              2                          ⎥          ⎢             ⎥         \n",
       "⎢⎢           2⋅r                           ⎥          ⎢0   0    0  0⎥         \n",
       "⎢⎢                                         ⎥          ⎢             ⎥         \n",
       "⎢⎢                                     2   ⎥          ⎣0   0    0  0⎦         \n",
       "⎢⎢                     rₛ⋅(-r + rₛ)⋅sin (θ)⎥                                  \n",
       "⎢⎢0  0        0        ────────────────────⎥                                  \n",
       "⎢⎢                                2        ⎥                                  \n",
       "⎢⎣                             2⋅r         ⎦                                  \n",
       "⎢                                                                             \n",
       "⎢                                             ⎡rₛ                           ⎤ \n",
       "⎢                                             ⎢──  0      0           0     ⎥ \n",
       "⎢              ⎡ 0    0  0  0⎤                ⎢ 3                           ⎥ \n",
       "⎢              ⎢             ⎥                ⎢r                            ⎥ \n",
       "⎢              ⎢-rₛ          ⎥                ⎢                             ⎥ \n",
       "⎢              ⎢────  0  0  0⎥                ⎢0   0      0           0     ⎥ \n",
       "⎢              ⎢  3          ⎥                ⎢                             ⎥ \n",
       "⎢              ⎢ r           ⎥                ⎢           rₛ                ⎥ \n",
       "⎢              ⎢             ⎥                ⎢0   0  ──────────      0     ⎥ \n",
       "⎢              ⎢ 0    0  0  0⎥                ⎢       2⋅(r - rₛ)            ⎥ \n",
       "⎢              ⎢             ⎥                ⎢                             ⎥ \n",
       "⎢              ⎣ 0    0  0  0⎦                ⎢                         2   ⎥ \n",
       "⎢                                             ⎢                   rₛ⋅sin (θ)⎥ \n",
       "⎢                                             ⎢0   0      0       ──────────⎥ \n",
       "⎢                                             ⎣                   2⋅(r - rₛ)⎦ \n",
       "⎢                                                                             \n",
       "⎢                                                                             \n",
       "⎢          ⎡     0       0  0  0⎤                                             \n",
       "⎢          ⎢                    ⎥                  ⎡0      0       0  0⎤      \n",
       "⎢          ⎢     0       0  0  0⎥                  ⎢                   ⎥      \n",
       "⎢          ⎢                    ⎥                  ⎢0      0       0  0⎥      \n",
       "⎢          ⎢rₛ⋅(r - rₛ)         ⎥                  ⎢                   ⎥      \n",
       "⎢          ⎢───────────  0  0  0⎥                  ⎢      -rₛ          ⎥      \n",
       "⎢          ⎢       2            ⎥                  ⎢0  ──────────  0  0⎥      \n",
       "⎢          ⎢    2⋅r             ⎥                  ⎢   2⋅r - 2⋅rₛ      ⎥      \n",
       "⎢          ⎢                    ⎥                  ⎢                   ⎥      \n",
       "⎢          ⎣     0       0  0  0⎦                  ⎣0      0       0  0⎦      \n",
       "⎢                                                                             \n",
       "⎢                                                                             \n",
       "⎢                                                                             \n",
       "⎢                                                                             \n",
       "⎢                                                                             \n",
       "⎢      ⎡         0           0  0  0⎤             ⎡0       0        0  0⎤     \n",
       "⎢      ⎢                            ⎥             ⎢                     ⎥     \n",
       "⎢      ⎢         0           0  0  0⎥             ⎢0       0        0  0⎥     \n",
       "⎢      ⎢                            ⎥             ⎢                     ⎥     \n",
       "⎢      ⎢         0           0  0  0⎥             ⎢0       0        0  0⎥     \n",
       "⎢      ⎢                            ⎥             ⎢                     ⎥     \n",
       "⎢      ⎢               2            ⎥             ⎢          2          ⎥     \n",
       "⎢      ⎢rₛ⋅(r - rₛ)⋅sin (θ)         ⎥             ⎢   -rₛ⋅sin (θ)       ⎥     \n",
       "⎢      ⎢───────────────────  0  0  0⎥             ⎢0  ────────────  0  0⎥     \n",
       "⎢      ⎢           2                ⎥             ⎣    2⋅r - 2⋅rₛ       ⎦     \n",
       "⎢      ⎣        2⋅r                 ⎦                                         \n",
       "⎢                                                                             \n",
       "⎣                                                                             \n",
       "\n",
       "                                                                              \n",
       "                                                                              \n",
       "                                                                              \n",
       "            ⎡      rₛ⋅(r - rₛ)   ⎤                        ⎡                   \n",
       "            ⎢0  0  ───────────  0⎥                        ⎢         rₛ⋅(r - rₛ\n",
       "            ⎢             2      ⎥                        ⎢0  0  0  ──────────\n",
       "            ⎢          2⋅r       ⎥                        ⎢                   \n",
       "            ⎢                    ⎥                        ⎢                 2⋅\n",
       "            ⎢0  0       0       0⎥                        ⎢                   \n",
       "            ⎢                    ⎥                        ⎢0  0  0           0\n",
       "            ⎢0  0       0       0⎥                        ⎢                   \n",
       "            ⎢                    ⎥                        ⎢0  0  0           0\n",
       "            ⎣0  0       0       0⎦                        ⎢                   \n",
       "                                                          ⎣0  0  0           0\n",
       "                                                                              \n",
       "                                                                              \n",
       "                                                                              \n",
       "                                                                              \n",
       "                                                                              \n",
       "                                                                              \n",
       "                                                             ⎡0  0  0       0 \n",
       "            ⎡0  0      0       0⎤                            ⎢                \n",
       "            ⎢                   ⎥                            ⎢                \n",
       "            ⎢         -rₛ       ⎥                            ⎢         -rₛ⋅sin\n",
       "            ⎢0  0  ──────────  0⎥                            ⎢0  0  0  ───────\n",
       "            ⎢      2⋅r - 2⋅rₛ   ⎥                            ⎢          2⋅r - \n",
       "            ⎢                   ⎥                            ⎢                \n",
       "            ⎢0  0      0       0⎥                            ⎢0  0  0       0 \n",
       "            ⎢                   ⎥                            ⎢                \n",
       "            ⎣0  0      0       0⎦                            ⎣0  0  0       0 \n",
       "                                                                              \n",
       "                                                                              \n",
       "                                                                              \n",
       "                                                                              \n",
       " ⎡rₛ⋅(-r + rₛ)                              ⎤                                 \n",
       " ⎢────────────      0       0        0      ⎥                                 \n",
       " ⎢       2                                  ⎥                ⎡0  0  0       0 \n",
       " ⎢    2⋅r                                   ⎥                ⎢                \n",
       " ⎢                                          ⎥                ⎢0  0  0       0 \n",
       " ⎢                  rₛ                      ⎥                ⎢                \n",
       " ⎢     0        ──────────  0        0      ⎥                ⎢                \n",
       " ⎢              2⋅(r - rₛ)                  ⎥                ⎢0  0  0  r⋅rₛ⋅si\n",
       " ⎢                                          ⎥                ⎢                \n",
       " ⎢     0            0       0        0      ⎥                ⎣0  0  0       0 \n",
       " ⎢                                          ⎥                                 \n",
       " ⎢                                      2   ⎥                                 \n",
       " ⎣     0            0       0  -r⋅rₛ⋅sin (θ)⎦                                 \n",
       "                                                                              \n",
       "                                               ⎡                2             \n",
       "                                               ⎢rₛ⋅(-r + rₛ)⋅sin (θ)          \n",
       "                                               ⎢────────────────────      0   \n",
       "           ⎡0  0       0        0⎤             ⎢           2                  \n",
       "           ⎢                     ⎥             ⎢        2⋅r                   \n",
       "           ⎢0  0       0        0⎥             ⎢                              \n",
       "           ⎢                     ⎥             ⎢                            2 \n",
       "           ⎢0  0       0        0⎥             ⎢                      rₛ⋅sin (\n",
       "           ⎢                     ⎥             ⎢         0            ────────\n",
       "           ⎢              2      ⎥             ⎢                      2⋅(r - r\n",
       "           ⎣0  0  r⋅rₛ⋅sin (θ)  0⎦             ⎢                              \n",
       "                                               ⎢                              \n",
       "                                               ⎢         0                0   \n",
       "                                               ⎢                              \n",
       "                                               ⎣         0                0   \n",
       "\n",
       "                     ⎤\n",
       "                     ⎥\n",
       "                     ⎥\n",
       "     2   ⎤           ⎥\n",
       ")⋅sin (θ)⎥           ⎥\n",
       "─────────⎥           ⎥\n",
       " 2       ⎥           ⎥\n",
       "r        ⎥           ⎥\n",
       "         ⎥           ⎥\n",
       "         ⎥           ⎥\n",
       "         ⎥           ⎥\n",
       "         ⎥           ⎥\n",
       "         ⎥           ⎥\n",
       "         ⎦           ⎥\n",
       "                     ⎥\n",
       "                     ⎥\n",
       "                     ⎥\n",
       "                     ⎥\n",
       "                     ⎥\n",
       "                     ⎥\n",
       "     ⎤               ⎥\n",
       "     ⎥               ⎥\n",
       "2    ⎥               ⎥\n",
       " (θ) ⎥               ⎥\n",
       "─────⎥               ⎥\n",
       "2⋅rₛ ⎥               ⎥\n",
       "     ⎥               ⎥\n",
       "     ⎥               ⎥\n",
       "     ⎥               ⎥\n",
       "     ⎦               ⎥\n",
       "                     ⎥\n",
       "                     ⎥\n",
       "                     ⎥\n",
       "                     ⎥\n",
       "                     ⎥\n",
       "                     ⎥\n",
       "     ⎤               ⎥\n",
       "     ⎥               ⎥\n",
       "     ⎥               ⎥\n",
       "     ⎥               ⎥\n",
       " 2   ⎥               ⎥\n",
       "n (θ)⎥               ⎥\n",
       "     ⎥               ⎥\n",
       "     ⎦               ⎥\n",
       "                     ⎥\n",
       "                     ⎥\n",
       "                     ⎥\n",
       "                     ⎥\n",
       "                    ⎤⎥\n",
       "                    ⎥⎥\n",
       "          0        0⎥⎥\n",
       "                    ⎥⎥\n",
       "                    ⎥⎥\n",
       "                    ⎥⎥\n",
       "                    ⎥⎥\n",
       "θ)                  ⎥⎥\n",
       "──        0        0⎥⎥\n",
       "ₛ)                  ⎥⎥\n",
       "                    ⎥⎥\n",
       "             2      ⎥⎥\n",
       "    -r⋅rₛ⋅sin (θ)  0⎥⎥\n",
       "                    ⎥⎥\n",
       "          0        0⎦⎦"
      ]
     },
     "execution_count": 21,
     "metadata": {},
     "output_type": "execute_result"
    }
   ],
   "source": [
    "# Varying type 'uddd' Riemann Tensor to 'dddd'\n",
    "riemann_tensor04 = rt.vary_riemanntensor_type(riemann_tensor, 'dddd')\n",
    "riemann_tensor04"
   ]
  },
  {
   "cell_type": "code",
   "execution_count": 22,
   "metadata": {},
   "outputs": [
    {
     "data": {
      "text/plain": [
       "'dddd'"
      ]
     },
     "execution_count": 22,
     "metadata": {},
     "output_type": "execute_result"
    }
   ],
   "source": [
    "rt.get_riemanntensor_type()"
   ]
  },
  {
   "cell_type": "code",
   "execution_count": 23,
   "metadata": {},
   "outputs": [
    {
     "data": {
      "text/latex": [
       "$R_{t t r r} = \\frac{r_{s}}{r^{3}}$"
      ],
      "text/plain": [
       "<IPython.core.display.Latex object>"
      ]
     },
     "metadata": {},
     "output_type": "display_data"
    },
    {
     "data": {
      "text/latex": [
       "$R_{t t \\theta \\theta} = \\frac{r_{s} \\left(- r + r_{s}\\right)}{2 r^{2}}$"
      ],
      "text/plain": [
       "<IPython.core.display.Latex object>"
      ]
     },
     "metadata": {},
     "output_type": "display_data"
    },
    {
     "data": {
      "text/latex": [
       "$R_{t t \\phi \\phi} = \\frac{r_{s} \\left(- r + r_{s}\\right) \\sin^{2}{\\left(\\theta \\right)}}{2 r^{2}}$"
      ],
      "text/plain": [
       "<IPython.core.display.Latex object>"
      ]
     },
     "metadata": {},
     "output_type": "display_data"
    },
    {
     "data": {
      "text/latex": [
       "$R_{t r t r} = - \\frac{r_{s}}{r^{3}}$"
      ],
      "text/plain": [
       "<IPython.core.display.Latex object>"
      ]
     },
     "metadata": {},
     "output_type": "display_data"
    },
    {
     "data": {
      "text/latex": [
       "$R_{t \\theta t \\theta} = \\frac{r_{s} \\left(r - r_{s}\\right)}{2 r^{2}}$"
      ],
      "text/plain": [
       "<IPython.core.display.Latex object>"
      ]
     },
     "metadata": {},
     "output_type": "display_data"
    },
    {
     "data": {
      "text/latex": [
       "$R_{t \\phi t \\phi} = \\frac{r_{s} \\left(r - r_{s}\\right) \\sin^{2}{\\left(\\theta \\right)}}{2 r^{2}}$"
      ],
      "text/plain": [
       "<IPython.core.display.Latex object>"
      ]
     },
     "metadata": {},
     "output_type": "display_data"
    },
    {
     "data": {
      "text/latex": [
       "$R_{r t r t} = - \\frac{r_{s}}{r^{3}}$"
      ],
      "text/plain": [
       "<IPython.core.display.Latex object>"
      ]
     },
     "metadata": {},
     "output_type": "display_data"
    },
    {
     "data": {
      "text/latex": [
       "$R_{r r t t} = \\frac{r_{s}}{r^{3}}$"
      ],
      "text/plain": [
       "<IPython.core.display.Latex object>"
      ]
     },
     "metadata": {},
     "output_type": "display_data"
    },
    {
     "data": {
      "text/latex": [
       "$R_{r r \\theta \\theta} = \\frac{r_{s}}{2 \\left(r - r_{s}\\right)}$"
      ],
      "text/plain": [
       "<IPython.core.display.Latex object>"
      ]
     },
     "metadata": {},
     "output_type": "display_data"
    },
    {
     "data": {
      "text/latex": [
       "$R_{r r \\phi \\phi} = \\frac{r_{s} \\sin^{2}{\\left(\\theta \\right)}}{2 \\left(r - r_{s}\\right)}$"
      ],
      "text/plain": [
       "<IPython.core.display.Latex object>"
      ]
     },
     "metadata": {},
     "output_type": "display_data"
    },
    {
     "data": {
      "text/latex": [
       "$R_{r \\theta r \\theta} = - \\frac{r_{s}}{2 r - 2 r_{s}}$"
      ],
      "text/plain": [
       "<IPython.core.display.Latex object>"
      ]
     },
     "metadata": {},
     "output_type": "display_data"
    },
    {
     "data": {
      "text/latex": [
       "$R_{r \\phi r \\phi} = - \\frac{r_{s} \\sin^{2}{\\left(\\theta \\right)}}{2 r - 2 r_{s}}$"
      ],
      "text/plain": [
       "<IPython.core.display.Latex object>"
      ]
     },
     "metadata": {},
     "output_type": "display_data"
    },
    {
     "data": {
      "text/latex": [
       "$R_{\\theta t \\theta t} = \\frac{r_{s} \\left(r - r_{s}\\right)}{2 r^{2}}$"
      ],
      "text/plain": [
       "<IPython.core.display.Latex object>"
      ]
     },
     "metadata": {},
     "output_type": "display_data"
    },
    {
     "data": {
      "text/latex": [
       "$R_{\\theta r \\theta r} = - \\frac{r_{s}}{2 r - 2 r_{s}}$"
      ],
      "text/plain": [
       "<IPython.core.display.Latex object>"
      ]
     },
     "metadata": {},
     "output_type": "display_data"
    },
    {
     "data": {
      "text/latex": [
       "$R_{\\theta \\theta t t} = \\frac{r_{s} \\left(- r + r_{s}\\right)}{2 r^{2}}$"
      ],
      "text/plain": [
       "<IPython.core.display.Latex object>"
      ]
     },
     "metadata": {},
     "output_type": "display_data"
    },
    {
     "data": {
      "text/latex": [
       "$R_{\\theta \\theta r r} = \\frac{r_{s}}{2 \\left(r - r_{s}\\right)}$"
      ],
      "text/plain": [
       "<IPython.core.display.Latex object>"
      ]
     },
     "metadata": {},
     "output_type": "display_data"
    },
    {
     "data": {
      "text/latex": [
       "$R_{\\theta \\theta \\phi \\phi} = - r r_{s} \\sin^{2}{\\left(\\theta \\right)}$"
      ],
      "text/plain": [
       "<IPython.core.display.Latex object>"
      ]
     },
     "metadata": {},
     "output_type": "display_data"
    },
    {
     "data": {
      "text/latex": [
       "$R_{\\theta \\phi \\theta \\phi} = r r_{s} \\sin^{2}{\\left(\\theta \\right)}$"
      ],
      "text/plain": [
       "<IPython.core.display.Latex object>"
      ]
     },
     "metadata": {},
     "output_type": "display_data"
    },
    {
     "data": {
      "text/latex": [
       "$R_{\\phi t \\phi t} = \\frac{r_{s} \\left(r - r_{s}\\right) \\sin^{2}{\\left(\\theta \\right)}}{2 r^{2}}$"
      ],
      "text/plain": [
       "<IPython.core.display.Latex object>"
      ]
     },
     "metadata": {},
     "output_type": "display_data"
    },
    {
     "data": {
      "text/latex": [
       "$R_{\\phi r \\phi r} = - \\frac{r_{s} \\sin^{2}{\\left(\\theta \\right)}}{2 r - 2 r_{s}}$"
      ],
      "text/plain": [
       "<IPython.core.display.Latex object>"
      ]
     },
     "metadata": {},
     "output_type": "display_data"
    },
    {
     "data": {
      "text/latex": [
       "$R_{\\phi \\theta \\phi \\theta} = r r_{s} \\sin^{2}{\\left(\\theta \\right)}$"
      ],
      "text/plain": [
       "<IPython.core.display.Latex object>"
      ]
     },
     "metadata": {},
     "output_type": "display_data"
    },
    {
     "data": {
      "text/latex": [
       "$R_{\\phi \\phi t t} = \\frac{r_{s} \\left(- r + r_{s}\\right) \\sin^{2}{\\left(\\theta \\right)}}{2 r^{2}}$"
      ],
      "text/plain": [
       "<IPython.core.display.Latex object>"
      ]
     },
     "metadata": {},
     "output_type": "display_data"
    },
    {
     "data": {
      "text/latex": [
       "$R_{\\phi \\phi r r} = \\frac{r_{s} \\sin^{2}{\\left(\\theta \\right)}}{2 \\left(r - r_{s}\\right)}$"
      ],
      "text/plain": [
       "<IPython.core.display.Latex object>"
      ]
     },
     "metadata": {},
     "output_type": "display_data"
    },
    {
     "data": {
      "text/latex": [
       "$R_{\\phi \\phi \\theta \\theta} = - r r_{s} \\sin^{2}{\\left(\\theta \\right)}$"
      ],
      "text/plain": [
       "<IPython.core.display.Latex object>"
      ]
     },
     "metadata": {},
     "output_type": "display_data"
    }
   ],
   "source": [
    "rt.nonzero_riemanntensor(riemann_tensor04)"
   ]
  },
  {
   "cell_type": "markdown",
   "metadata": {},
   "source": [
    "# Ricci Tensor"
   ]
  },
  {
   "cell_type": "code",
   "execution_count": 24,
   "metadata": {},
   "outputs": [
    {
     "data": {
      "image/png": "[encoded data removed]",
      "text/latex": [
       "$\\displaystyle \\left[\\begin{matrix}0 & 0 & 0 & 0\\\\0 & 0 & 0 & 0\\\\0 & 0 & 0 & 0\\\\0 & 0 & 0 & 0\\end{matrix}\\right]$"
      ],
      "text/plain": [
       "⎡0  0  0  0⎤\n",
       "⎢          ⎥\n",
       "⎢0  0  0  0⎥\n",
       "⎢          ⎥\n",
       "⎢0  0  0  0⎥\n",
       "⎢          ⎥\n",
       "⎣0  0  0  0⎦"
      ]
     },
     "execution_count": 24,
     "metadata": {},
     "output_type": "execute_result"
    }
   ],
   "source": [
    "# Obtaining the Ricci Tensor\n",
    "rit = RicciTensor(diag_comp, coord_sys)\n",
    "ricci_tensor = rit.get_riccitensor()\n",
    "ricci_tensor"
   ]
  },
  {
   "cell_type": "code",
   "execution_count": 25,
   "metadata": {},
   "outputs": [
    {
     "data": {
      "text/plain": [
       "'dd'"
      ]
     },
     "execution_count": 25,
     "metadata": {},
     "output_type": "execute_result"
    }
   ],
   "source": [
    "# Default type of the Ricci Tensor\n",
    "rit.get_riccitensor_type()"
   ]
  },
  {
   "cell_type": "code",
   "execution_count": 26,
   "metadata": {},
   "outputs": [
    {
     "data": {
      "image/png": "[encoded data removed]",
      "text/latex": [
       "$\\displaystyle \\left[\\begin{matrix}0 & 0 & 0 & 0\\\\0 & 0 & 0 & 0\\\\0 & 0 & 0 & 0\\\\0 & 0 & 0 & 0\\end{matrix}\\right]$"
      ],
      "text/plain": [
       "⎡0  0  0  0⎤\n",
       "⎢          ⎥\n",
       "⎢0  0  0  0⎥\n",
       "⎢          ⎥\n",
       "⎢0  0  0  0⎥\n",
       "⎢          ⎥\n",
       "⎣0  0  0  0⎦"
      ]
     },
     "execution_count": 26,
     "metadata": {},
     "output_type": "execute_result"
    }
   ],
   "source": [
    "# Varying type 'dd' Ricci Tensor to 'uu'\n",
    "rit.vary_riccitensor_type(ricci_tensor, 'uu')"
   ]
  },
  {
   "cell_type": "code",
   "execution_count": 27,
   "metadata": {},
   "outputs": [
    {
     "data": {
      "text/plain": [
       "'uu'"
      ]
     },
     "execution_count": 27,
     "metadata": {},
     "output_type": "execute_result"
    }
   ],
   "source": [
    "rit.get_riccitensor_type()"
   ]
  },
  {
   "cell_type": "markdown",
   "metadata": {},
   "source": [
    "# Ricci Scalar"
   ]
  },
  {
   "cell_type": "code",
   "execution_count": 28,
   "metadata": {},
   "outputs": [
    {
     "data": {
      "image/png": "[encoded data removed]",
      "text/latex": [
       "$\\displaystyle 0$"
      ],
      "text/plain": [
       "0"
      ]
     },
     "execution_count": 28,
     "metadata": {},
     "output_type": "execute_result"
    }
   ],
   "source": [
    "# Obtaining the Ricci Scalar\n",
    "rs = RicciScalar(diag_comp, coord_sys)\n",
    "ricci_scalar = rs.get_ricciscalar()\n",
    "ricci_scalar"
   ]
  },
  {
   "cell_type": "markdown",
   "metadata": {},
   "source": [
    "# Traceless Ricci Tensor"
   ]
  },
  {
   "cell_type": "code",
   "execution_count": 29,
   "metadata": {},
   "outputs": [
    {
     "data": {
      "image/png": "[encoded data removed]",
      "text/latex": [
       "$\\displaystyle \\left[\\begin{matrix}0 & 0 & 0 & 0\\\\0 & 0 & 0 & 0\\\\0 & 0 & 0 & 0\\\\0 & 0 & 0 & 0\\end{matrix}\\right]$"
      ],
      "text/plain": [
       "⎡0  0  0  0⎤\n",
       "⎢          ⎥\n",
       "⎢0  0  0  0⎥\n",
       "⎢          ⎥\n",
       "⎢0  0  0  0⎥\n",
       "⎢          ⎥\n",
       "⎣0  0  0  0⎦"
      ]
     },
     "execution_count": 29,
     "metadata": {},
     "output_type": "execute_result"
    }
   ],
   "source": [
    "# Obtaining the Traceless Ricci Tensor\n",
    "trt = TracelessRicciTensor(diag_comp, coord_sys)\n",
    "traceless_ricci_tensor = trt.get_trclss_riccitensor()\n",
    "traceless_ricci_tensor "
   ]
  },
  {
   "cell_type": "code",
   "execution_count": 30,
   "metadata": {},
   "outputs": [
    {
     "data": {
      "text/plain": [
       "'dd'"
      ]
     },
     "execution_count": 30,
     "metadata": {},
     "output_type": "execute_result"
    }
   ],
   "source": [
    "# Default type of the Traceless Ricci Tensor\n",
    "trt.get_trclss_riccitensor_type()"
   ]
  },
  {
   "cell_type": "code",
   "execution_count": 31,
   "metadata": {},
   "outputs": [
    {
     "data": {
      "image/png": "[encoded data removed]",
      "text/latex": [
       "$\\displaystyle \\left[\\begin{matrix}0 & 0 & 0 & 0\\\\0 & 0 & 0 & 0\\\\0 & 0 & 0 & 0\\\\0 & 0 & 0 & 0\\end{matrix}\\right]$"
      ],
      "text/plain": [
       "⎡0  0  0  0⎤\n",
       "⎢          ⎥\n",
       "⎢0  0  0  0⎥\n",
       "⎢          ⎥\n",
       "⎢0  0  0  0⎥\n",
       "⎢          ⎥\n",
       "⎣0  0  0  0⎦"
      ]
     },
     "execution_count": 31,
     "metadata": {},
     "output_type": "execute_result"
    }
   ],
   "source": [
    "# Varying type 'dd' Traceless Ricci Tensor to 'uu'\n",
    "trt.vary_trclss_riccitensor_type(traceless_ricci_tensor, 'uu')"
   ]
  },
  {
   "cell_type": "code",
   "execution_count": 32,
   "metadata": {},
   "outputs": [
    {
     "data": {
      "text/plain": [
       "'uu'"
      ]
     },
     "execution_count": 32,
     "metadata": {},
     "output_type": "execute_result"
    }
   ],
   "source": [
    "trt.get_trclss_riccitensor_type()"
   ]
  },
  {
   "cell_type": "markdown",
   "metadata": {},
   "source": [
    "# Weyl Tensor"
   ]
  },
  {
   "cell_type": "code",
   "execution_count": 33,
   "metadata": {},
   "outputs": [
    {
     "data": {
      "image/png": "[encoded data removed]",
      "text/latex": [
       "$\\displaystyle \\left[\\begin{matrix}\\left[\\begin{matrix}0 & 0 & 0 & 0\\\\0 & \\frac{r_{s}}{r^{3}} & 0 & 0\\\\0 & 0 & \\frac{r_{s} \\left(- r + r_{s}\\right)}{2 r^{2}} & 0\\\\0 & 0 & 0 & \\frac{r_{s} \\left(- r + r_{s}\\right) \\sin^{2}{\\left(\\theta \\right)}}{2 r^{2}}\\end{matrix}\\right] & \\left[\\begin{matrix}0 & - \\frac{r_{s}}{r^{3}} & 0 & 0\\\\0 & 0 & 0 & 0\\\\0 & 0 & 0 & 0\\\\0 & 0 & 0 & 0\\end{matrix}\\right] & \\left[\\begin{matrix}0 & 0 & \\frac{r_{s} \\left(r - r_{s}\\right)}{2 r^{2}} & 0\\\\0 & 0 & 0 & 0\\\\0 & 0 & 0 & 0\\\\0 & 0 & 0 & 0\\end{matrix}\\right] & \\left[\\begin{matrix}0 & 0 & 0 & \\frac{r_{s} \\left(r - r_{s}\\right) \\sin^{2}{\\left(\\theta \\right)}}{2 r^{2}}\\\\0 & 0 & 0 & 0\\\\0 & 0 & 0 & 0\\\\0 & 0 & 0 & 0\\end{matrix}\\right]\\\\\\left[\\begin{matrix}0 & 0 & 0 & 0\\\\- \\frac{r_{s}}{r^{3}} & 0 & 0 & 0\\\\0 & 0 & 0 & 0\\\\0 & 0 & 0 & 0\\end{matrix}\\right] & \\left[\\begin{matrix}\\frac{r_{s}}{r^{3}} & 0 & 0 & 0\\\\0 & 0 & 0 & 0\\\\0 & 0 & \\frac{r_{s}}{2 \\left(r - r_{s}\\right)} & 0\\\\0 & 0 & 0 & \\frac{r_{s} \\sin^{2}{\\left(\\theta \\right)}}{2 \\left(r - r_{s}\\right)}\\end{matrix}\\right] & \\left[\\begin{matrix}0 & 0 & 0 & 0\\\\0 & 0 & - \\frac{r_{s}}{2 r - 2 r_{s}} & 0\\\\0 & 0 & 0 & 0\\\\0 & 0 & 0 & 0\\end{matrix}\\right] & \\left[\\begin{matrix}0 & 0 & 0 & 0\\\\0 & 0 & 0 & - \\frac{r_{s} \\sin^{2}{\\left(\\theta \\right)}}{2 r - 2 r_{s}}\\\\0 & 0 & 0 & 0\\\\0 & 0 & 0 & 0\\end{matrix}\\right]\\\\\\left[\\begin{matrix}0 & 0 & 0 & 0\\\\0 & 0 & 0 & 0\\\\\\frac{r_{s} \\left(r - r_{s}\\right)}{2 r^{2}} & 0 & 0 & 0\\\\0 & 0 & 0 & 0\\end{matrix}\\right] & \\left[\\begin{matrix}0 & 0 & 0 & 0\\\\0 & 0 & 0 & 0\\\\0 & - \\frac{r_{s}}{2 r - 2 r_{s}} & 0 & 0\\\\0 & 0 & 0 & 0\\end{matrix}\\right] & \\left[\\begin{matrix}\\frac{r_{s} \\left(- r + r_{s}\\right)}{2 r^{2}} & 0 & 0 & 0\\\\0 & \\frac{r_{s}}{2 \\left(r - r_{s}\\right)} & 0 & 0\\\\0 & 0 & 0 & 0\\\\0 & 0 & 0 & - r r_{s} \\sin^{2}{\\left(\\theta \\right)}\\end{matrix}\\right] & \\left[\\begin{matrix}0 & 0 & 0 & 0\\\\0 & 0 & 0 & 0\\\\0 & 0 & 0 & r r_{s} \\sin^{2}{\\left(\\theta \\right)}\\\\0 & 0 & 0 & 0\\end{matrix}\\right]\\\\\\left[\\begin{matrix}0 & 0 & 0 & 0\\\\0 & 0 & 0 & 0\\\\0 & 0 & 0 & 0\\\\\\frac{r_{s} \\left(r - r_{s}\\right) \\sin^{2}{\\left(\\theta \\right)}}{2 r^{2}} & 0 & 0 & 0\\end{matrix}\\right] & \\left[\\begin{matrix}0 & 0 & 0 & 0\\\\0 & 0 & 0 & 0\\\\0 & 0 & 0 & 0\\\\0 & - \\frac{r_{s} \\sin^{2}{\\left(\\theta \\right)}}{2 r - 2 r_{s}} & 0 & 0\\end{matrix}\\right] & \\left[\\begin{matrix}0 & 0 & 0 & 0\\\\0 & 0 & 0 & 0\\\\0 & 0 & 0 & 0\\\\0 & 0 & r r_{s} \\sin^{2}{\\left(\\theta \\right)} & 0\\end{matrix}\\right] & \\left[\\begin{matrix}\\frac{r_{s} \\left(- r + r_{s}\\right) \\sin^{2}{\\left(\\theta \\right)}}{2 r^{2}} & 0 & 0 & 0\\\\0 & \\frac{r_{s} \\sin^{2}{\\left(\\theta \\right)}}{2 \\left(r - r_{s}\\right)} & 0 & 0\\\\0 & 0 & - r r_{s} \\sin^{2}{\\left(\\theta \\right)} & 0\\\\0 & 0 & 0 & 0\\end{matrix}\\right]\\end{matrix}\\right]$"
      ],
      "text/plain": [
       "⎡⎡0  0        0                 0          ⎤                                  \n",
       "⎢⎢                                         ⎥                                  \n",
       "⎢⎢   rₛ                                    ⎥                                  \n",
       "⎢⎢0  ──       0                 0          ⎥          ⎡   -rₛ       ⎤         \n",
       "⎢⎢    3                                    ⎥          ⎢0  ────  0  0⎥         \n",
       "⎢⎢   r                                     ⎥          ⎢     3       ⎥         \n",
       "⎢⎢                                         ⎥          ⎢    r        ⎥         \n",
       "⎢⎢       rₛ⋅(-r + rₛ)                      ⎥          ⎢             ⎥         \n",
       "⎢⎢0  0   ────────────           0          ⎥          ⎢0   0    0  0⎥         \n",
       "⎢⎢              2                          ⎥          ⎢             ⎥         \n",
       "⎢⎢           2⋅r                           ⎥          ⎢0   0    0  0⎥         \n",
       "⎢⎢                                         ⎥          ⎢             ⎥         \n",
       "⎢⎢                                     2   ⎥          ⎣0   0    0  0⎦         \n",
       "⎢⎢                     rₛ⋅(-r + rₛ)⋅sin (θ)⎥                                  \n",
       "⎢⎢0  0        0        ────────────────────⎥                                  \n",
       "⎢⎢                                2        ⎥                                  \n",
       "⎢⎣                             2⋅r         ⎦                                  \n",
       "⎢                                                                             \n",
       "⎢                                             ⎡rₛ                           ⎤ \n",
       "⎢                                             ⎢──  0      0           0     ⎥ \n",
       "⎢              ⎡ 0    0  0  0⎤                ⎢ 3                           ⎥ \n",
       "⎢              ⎢             ⎥                ⎢r                            ⎥ \n",
       "⎢              ⎢-rₛ          ⎥                ⎢                             ⎥ \n",
       "⎢              ⎢────  0  0  0⎥                ⎢0   0      0           0     ⎥ \n",
       "⎢              ⎢  3          ⎥                ⎢                             ⎥ \n",
       "⎢              ⎢ r           ⎥                ⎢           rₛ                ⎥ \n",
       "⎢              ⎢             ⎥                ⎢0   0  ──────────      0     ⎥ \n",
       "⎢              ⎢ 0    0  0  0⎥                ⎢       2⋅(r - rₛ)            ⎥ \n",
       "⎢              ⎢             ⎥                ⎢                             ⎥ \n",
       "⎢              ⎣ 0    0  0  0⎦                ⎢                         2   ⎥ \n",
       "⎢                                             ⎢                   rₛ⋅sin (θ)⎥ \n",
       "⎢                                             ⎢0   0      0       ──────────⎥ \n",
       "⎢                                             ⎣                   2⋅(r - rₛ)⎦ \n",
       "⎢                                                                             \n",
       "⎢                                                                             \n",
       "⎢          ⎡     0       0  0  0⎤                                             \n",
       "⎢          ⎢                    ⎥                  ⎡0      0       0  0⎤      \n",
       "⎢          ⎢     0       0  0  0⎥                  ⎢                   ⎥      \n",
       "⎢          ⎢                    ⎥                  ⎢0      0       0  0⎥      \n",
       "⎢          ⎢rₛ⋅(r - rₛ)         ⎥                  ⎢                   ⎥      \n",
       "⎢          ⎢───────────  0  0  0⎥                  ⎢      -rₛ          ⎥      \n",
       "⎢          ⎢       2            ⎥                  ⎢0  ──────────  0  0⎥      \n",
       "⎢          ⎢    2⋅r             ⎥                  ⎢   2⋅r - 2⋅rₛ      ⎥      \n",
       "⎢          ⎢                    ⎥                  ⎢                   ⎥      \n",
       "⎢          ⎣     0       0  0  0⎦                  ⎣0      0       0  0⎦      \n",
       "⎢                                                                             \n",
       "⎢                                                                             \n",
       "⎢                                                                             \n",
       "⎢                                                                             \n",
       "⎢                                                                             \n",
       "⎢      ⎡         0           0  0  0⎤             ⎡0       0        0  0⎤     \n",
       "⎢      ⎢                            ⎥             ⎢                     ⎥     \n",
       "⎢      ⎢         0           0  0  0⎥             ⎢0       0        0  0⎥     \n",
       "⎢      ⎢                            ⎥             ⎢                     ⎥     \n",
       "⎢      ⎢         0           0  0  0⎥             ⎢0       0        0  0⎥     \n",
       "⎢      ⎢                            ⎥             ⎢                     ⎥     \n",
       "⎢      ⎢               2            ⎥             ⎢          2          ⎥     \n",
       "⎢      ⎢rₛ⋅(r - rₛ)⋅sin (θ)         ⎥             ⎢   -rₛ⋅sin (θ)       ⎥     \n",
       "⎢      ⎢───────────────────  0  0  0⎥             ⎢0  ────────────  0  0⎥     \n",
       "⎢      ⎢           2                ⎥             ⎣    2⋅r - 2⋅rₛ       ⎦     \n",
       "⎢      ⎣        2⋅r                 ⎦                                         \n",
       "⎢                                                                             \n",
       "⎣                                                                             \n",
       "\n",
       "                                                                              \n",
       "                                                                              \n",
       "                                                                              \n",
       "            ⎡      rₛ⋅(r - rₛ)   ⎤                        ⎡                   \n",
       "            ⎢0  0  ───────────  0⎥                        ⎢         rₛ⋅(r - rₛ\n",
       "            ⎢             2      ⎥                        ⎢0  0  0  ──────────\n",
       "            ⎢          2⋅r       ⎥                        ⎢                   \n",
       "            ⎢                    ⎥                        ⎢                 2⋅\n",
       "            ⎢0  0       0       0⎥                        ⎢                   \n",
       "            ⎢                    ⎥                        ⎢0  0  0           0\n",
       "            ⎢0  0       0       0⎥                        ⎢                   \n",
       "            ⎢                    ⎥                        ⎢0  0  0           0\n",
       "            ⎣0  0       0       0⎦                        ⎢                   \n",
       "                                                          ⎣0  0  0           0\n",
       "                                                                              \n",
       "                                                                              \n",
       "                                                                              \n",
       "                                                                              \n",
       "                                                                              \n",
       "                                                                              \n",
       "                                                             ⎡0  0  0       0 \n",
       "            ⎡0  0      0       0⎤                            ⎢                \n",
       "            ⎢                   ⎥                            ⎢                \n",
       "            ⎢         -rₛ       ⎥                            ⎢         -rₛ⋅sin\n",
       "            ⎢0  0  ──────────  0⎥                            ⎢0  0  0  ───────\n",
       "            ⎢      2⋅r - 2⋅rₛ   ⎥                            ⎢          2⋅r - \n",
       "            ⎢                   ⎥                            ⎢                \n",
       "            ⎢0  0      0       0⎥                            ⎢0  0  0       0 \n",
       "            ⎢                   ⎥                            ⎢                \n",
       "            ⎣0  0      0       0⎦                            ⎣0  0  0       0 \n",
       "                                                                              \n",
       "                                                                              \n",
       "                                                                              \n",
       "                                                                              \n",
       " ⎡rₛ⋅(-r + rₛ)                              ⎤                                 \n",
       " ⎢────────────      0       0        0      ⎥                                 \n",
       " ⎢       2                                  ⎥                ⎡0  0  0       0 \n",
       " ⎢    2⋅r                                   ⎥                ⎢                \n",
       " ⎢                                          ⎥                ⎢0  0  0       0 \n",
       " ⎢                  rₛ                      ⎥                ⎢                \n",
       " ⎢     0        ──────────  0        0      ⎥                ⎢                \n",
       " ⎢              2⋅(r - rₛ)                  ⎥                ⎢0  0  0  r⋅rₛ⋅si\n",
       " ⎢                                          ⎥                ⎢                \n",
       " ⎢     0            0       0        0      ⎥                ⎣0  0  0       0 \n",
       " ⎢                                          ⎥                                 \n",
       " ⎢                                      2   ⎥                                 \n",
       " ⎣     0            0       0  -r⋅rₛ⋅sin (θ)⎦                                 \n",
       "                                                                              \n",
       "                                               ⎡                2             \n",
       "                                               ⎢rₛ⋅(-r + rₛ)⋅sin (θ)          \n",
       "                                               ⎢────────────────────      0   \n",
       "           ⎡0  0       0        0⎤             ⎢           2                  \n",
       "           ⎢                     ⎥             ⎢        2⋅r                   \n",
       "           ⎢0  0       0        0⎥             ⎢                              \n",
       "           ⎢                     ⎥             ⎢                            2 \n",
       "           ⎢0  0       0        0⎥             ⎢                      rₛ⋅sin (\n",
       "           ⎢                     ⎥             ⎢         0            ────────\n",
       "           ⎢              2      ⎥             ⎢                      2⋅(r - r\n",
       "           ⎣0  0  r⋅rₛ⋅sin (θ)  0⎦             ⎢                              \n",
       "                                               ⎢                              \n",
       "                                               ⎢         0                0   \n",
       "                                               ⎢                              \n",
       "                                               ⎣         0                0   \n",
       "\n",
       "                     ⎤\n",
       "                     ⎥\n",
       "                     ⎥\n",
       "     2   ⎤           ⎥\n",
       ")⋅sin (θ)⎥           ⎥\n",
       "─────────⎥           ⎥\n",
       " 2       ⎥           ⎥\n",
       "r        ⎥           ⎥\n",
       "         ⎥           ⎥\n",
       "         ⎥           ⎥\n",
       "         ⎥           ⎥\n",
       "         ⎥           ⎥\n",
       "         ⎥           ⎥\n",
       "         ⎦           ⎥\n",
       "                     ⎥\n",
       "                     ⎥\n",
       "                     ⎥\n",
       "                     ⎥\n",
       "                     ⎥\n",
       "                     ⎥\n",
       "     ⎤               ⎥\n",
       "     ⎥               ⎥\n",
       "2    ⎥               ⎥\n",
       " (θ) ⎥               ⎥\n",
       "─────⎥               ⎥\n",
       "2⋅rₛ ⎥               ⎥\n",
       "     ⎥               ⎥\n",
       "     ⎥               ⎥\n",
       "     ⎥               ⎥\n",
       "     ⎦               ⎥\n",
       "                     ⎥\n",
       "                     ⎥\n",
       "                     ⎥\n",
       "                     ⎥\n",
       "                     ⎥\n",
       "                     ⎥\n",
       "     ⎤               ⎥\n",
       "     ⎥               ⎥\n",
       "     ⎥               ⎥\n",
       "     ⎥               ⎥\n",
       " 2   ⎥               ⎥\n",
       "n (θ)⎥               ⎥\n",
       "     ⎥               ⎥\n",
       "     ⎦               ⎥\n",
       "                     ⎥\n",
       "                     ⎥\n",
       "                     ⎥\n",
       "                     ⎥\n",
       "                    ⎤⎥\n",
       "                    ⎥⎥\n",
       "          0        0⎥⎥\n",
       "                    ⎥⎥\n",
       "                    ⎥⎥\n",
       "                    ⎥⎥\n",
       "                    ⎥⎥\n",
       "θ)                  ⎥⎥\n",
       "──        0        0⎥⎥\n",
       "ₛ)                  ⎥⎥\n",
       "                    ⎥⎥\n",
       "             2      ⎥⎥\n",
       "    -r⋅rₛ⋅sin (θ)  0⎥⎥\n",
       "                    ⎥⎥\n",
       "          0        0⎦⎦"
      ]
     },
     "execution_count": 33,
     "metadata": {},
     "output_type": "execute_result"
    }
   ],
   "source": [
    "# Obtaining the Weyl Tensor\n",
    "wyl = WeylTensor(diag_comp, coord_sys)\n",
    "weyl_tensor = wyl.get_weyltensor()\n",
    "weyl_tensor"
   ]
  },
  {
   "cell_type": "code",
   "execution_count": 34,
   "metadata": {},
   "outputs": [
    {
     "data": {
      "text/plain": [
       "'dddd'"
      ]
     },
     "execution_count": 34,
     "metadata": {},
     "output_type": "execute_result"
    }
   ],
   "source": [
    "# Default type of the Weyl Tensor\n",
    "wyl.get_weyltensor_type()"
   ]
  },
  {
   "cell_type": "code",
   "execution_count": 35,
   "metadata": {},
   "outputs": [
    {
     "data": {
      "image/png": "[encoded data removed]",
      "text/latex": [
       "$\\displaystyle \\left[\\begin{matrix}\\left[\\begin{matrix}0 & 0 & 0 & 0\\\\0 & \\frac{r_{s}}{r^{3}} & 0 & 0\\\\0 & 0 & - \\frac{r_{s}}{2 r^{4} \\left(r - r_{s}\\right)} & 0\\\\0 & 0 & 0 & - \\frac{r_{s}}{2 r^{4} \\left(r - r_{s}\\right) \\sin^{2}{\\left(\\theta \\right)}}\\end{matrix}\\right] & \\left[\\begin{matrix}0 & - \\frac{r_{s}}{r^{3}} & 0 & 0\\\\0 & 0 & 0 & 0\\\\0 & 0 & 0 & 0\\\\0 & 0 & 0 & 0\\end{matrix}\\right] & \\left[\\begin{matrix}0 & 0 & \\frac{r_{s}}{2 r^{4} \\left(r - r_{s}\\right)} & 0\\\\0 & 0 & 0 & 0\\\\0 & 0 & 0 & 0\\\\0 & 0 & 0 & 0\\end{matrix}\\right] & \\left[\\begin{matrix}0 & 0 & 0 & \\frac{r_{s}}{2 r^{4} \\left(r - r_{s}\\right) \\sin^{2}{\\left(\\theta \\right)}}\\\\0 & 0 & 0 & 0\\\\0 & 0 & 0 & 0\\\\0 & 0 & 0 & 0\\end{matrix}\\right]\\\\\\left[\\begin{matrix}0 & 0 & 0 & 0\\\\- \\frac{r_{s}}{r^{3}} & 0 & 0 & 0\\\\0 & 0 & 0 & 0\\\\0 & 0 & 0 & 0\\end{matrix}\\right] & \\left[\\begin{matrix}\\frac{r_{s}}{r^{3}} & 0 & 0 & 0\\\\0 & 0 & 0 & 0\\\\0 & 0 & \\frac{r_{s} \\left(r - r_{s}\\right)}{2 r^{6}} & 0\\\\0 & 0 & 0 & \\frac{r_{s} \\left(r - r_{s}\\right)}{2 r^{6} \\sin^{2}{\\left(\\theta \\right)}}\\end{matrix}\\right] & \\left[\\begin{matrix}0 & 0 & 0 & 0\\\\0 & 0 & \\frac{r_{s} \\left(- r + r_{s}\\right)}{2 r^{6}} & 0\\\\0 & 0 & 0 & 0\\\\0 & 0 & 0 & 0\\end{matrix}\\right] & \\left[\\begin{matrix}0 & 0 & 0 & 0\\\\0 & 0 & 0 & \\frac{r_{s} \\left(- r + r_{s}\\right)}{2 r^{6} \\sin^{2}{\\left(\\theta \\right)}}\\\\0 & 0 & 0 & 0\\\\0 & 0 & 0 & 0\\end{matrix}\\right]\\\\\\left[\\begin{matrix}0 & 0 & 0 & 0\\\\0 & 0 & 0 & 0\\\\\\frac{r_{s}}{2 r^{4} \\left(r - r_{s}\\right)} & 0 & 0 & 0\\\\0 & 0 & 0 & 0\\end{matrix}\\right] & \\left[\\begin{matrix}0 & 0 & 0 & 0\\\\0 & 0 & 0 & 0\\\\0 & \\frac{r_{s} \\left(- r + r_{s}\\right)}{2 r^{6}} & 0 & 0\\\\0 & 0 & 0 & 0\\end{matrix}\\right] & \\left[\\begin{matrix}- \\frac{r_{s}}{2 r^{4} \\left(r - r_{s}\\right)} & 0 & 0 & 0\\\\0 & \\frac{r_{s} \\left(r - r_{s}\\right)}{2 r^{6}} & 0 & 0\\\\0 & 0 & 0 & 0\\\\0 & 0 & 0 & - \\frac{r_{s}}{r^{7} \\sin^{2}{\\left(\\theta \\right)}}\\end{matrix}\\right] & \\left[\\begin{matrix}0 & 0 & 0 & 0\\\\0 & 0 & 0 & 0\\\\0 & 0 & 0 & \\frac{r_{s}}{r^{7} \\sin^{2}{\\left(\\theta \\right)}}\\\\0 & 0 & 0 & 0\\end{matrix}\\right]\\\\\\left[\\begin{matrix}0 & 0 & 0 & 0\\\\0 & 0 & 0 & 0\\\\0 & 0 & 0 & 0\\\\\\frac{r_{s}}{2 r^{4} \\left(r - r_{s}\\right) \\sin^{2}{\\left(\\theta \\right)}} & 0 & 0 & 0\\end{matrix}\\right] & \\left[\\begin{matrix}0 & 0 & 0 & 0\\\\0 & 0 & 0 & 0\\\\0 & 0 & 0 & 0\\\\0 & \\frac{r_{s} \\left(- r + r_{s}\\right)}{2 r^{6} \\sin^{2}{\\left(\\theta \\right)}} & 0 & 0\\end{matrix}\\right] & \\left[\\begin{matrix}0 & 0 & 0 & 0\\\\0 & 0 & 0 & 0\\\\0 & 0 & 0 & 0\\\\0 & 0 & \\frac{r_{s}}{r^{7} \\sin^{2}{\\left(\\theta \\right)}} & 0\\end{matrix}\\right] & \\left[\\begin{matrix}- \\frac{r_{s}}{2 r^{4} \\left(r - r_{s}\\right) \\sin^{2}{\\left(\\theta \\right)}} & 0 & 0 & 0\\\\0 & \\frac{r_{s} \\left(r - r_{s}\\right)}{2 r^{6} \\sin^{2}{\\left(\\theta \\right)}} & 0 & 0\\\\0 & 0 & - \\frac{r_{s}}{r^{7} \\sin^{2}{\\left(\\theta \\right)}} & 0\\\\0 & 0 & 0 & 0\\end{matrix}\\right]\\end{matrix}\\right]$"
      ],
      "text/plain": [
       "⎡⎡0  0         0                  0          ⎤                                \n",
       "⎢⎢                                           ⎥                                \n",
       "⎢⎢   rₛ                                      ⎥                                \n",
       "⎢⎢0  ──        0                  0          ⎥           ⎡   -rₛ       ⎤      \n",
       "⎢⎢    3                                      ⎥           ⎢0  ────  0  0⎥      \n",
       "⎢⎢   r                                       ⎥           ⎢     3       ⎥      \n",
       "⎢⎢                                           ⎥           ⎢    r        ⎥      \n",
       "⎢⎢            -rₛ                            ⎥           ⎢             ⎥      \n",
       "⎢⎢0  0   ─────────────            0          ⎥           ⎢0   0    0  0⎥      \n",
       "⎢⎢          4                                ⎥           ⎢             ⎥      \n",
       "⎢⎢       2⋅r ⋅(r - rₛ)                       ⎥           ⎢0   0    0  0⎥      \n",
       "⎢⎢                                           ⎥           ⎢             ⎥      \n",
       "⎢⎢                               -rₛ         ⎥           ⎣0   0    0  0⎦      \n",
       "⎢⎢0  0         0        ─────────────────────⎥                                \n",
       "⎢⎢                         4             2   ⎥                                \n",
       "⎢⎣                      2⋅r ⋅(r - rₛ)⋅sin (θ)⎦                                \n",
       "⎢                                                                             \n",
       "⎢                                               ⎡rₛ                           \n",
       "⎢                                               ⎢──  0       0            0   \n",
       "⎢                                               ⎢ 3                           \n",
       "⎢               ⎡ 0    0  0  0⎤                 ⎢r                            \n",
       "⎢               ⎢             ⎥                 ⎢                             \n",
       "⎢               ⎢-rₛ          ⎥                 ⎢0   0       0            0   \n",
       "⎢               ⎢────  0  0  0⎥                 ⎢                             \n",
       "⎢               ⎢  3          ⎥                 ⎢       rₛ⋅(r - rₛ)           \n",
       "⎢               ⎢ r           ⎥                 ⎢0   0  ───────────       0   \n",
       "⎢               ⎢             ⎥                 ⎢              6              \n",
       "⎢               ⎢ 0    0  0  0⎥                 ⎢           2⋅r               \n",
       "⎢               ⎢             ⎥                 ⎢                             \n",
       "⎢               ⎣ 0    0  0  0⎦                 ⎢                    rₛ⋅(r - r\n",
       "⎢                                               ⎢0   0       0       ─────────\n",
       "⎢                                               ⎢                       6    2\n",
       "⎢                                               ⎣                    2⋅r ⋅sin \n",
       "⎢                                                                             \n",
       "⎢                                                                             \n",
       "⎢                                                                             \n",
       "⎢                                                                             \n",
       "⎢          ⎡      0        0  0  0⎤                  ⎡0       0        0  0⎤  \n",
       "⎢          ⎢                      ⎥                  ⎢                     ⎥  \n",
       "⎢          ⎢      0        0  0  0⎥                  ⎢0       0        0  0⎥  \n",
       "⎢          ⎢                      ⎥                  ⎢                     ⎥  \n",
       "⎢          ⎢      rₛ              ⎥                  ⎢   rₛ⋅(-r + rₛ)      ⎥  \n",
       "⎢          ⎢─────────────  0  0  0⎥                  ⎢0  ────────────  0  0⎥  \n",
       "⎢          ⎢   4                  ⎥                  ⎢          6          ⎥  \n",
       "⎢          ⎢2⋅r ⋅(r - rₛ)         ⎥                  ⎢       2⋅r           ⎥  \n",
       "⎢          ⎢                      ⎥                  ⎢                     ⎥  \n",
       "⎢          ⎣      0        0  0  0⎦                  ⎣0       0        0  0⎦  \n",
       "⎢                                                                             \n",
       "⎢                                                                             \n",
       "⎢                                                                             \n",
       "⎢                                                                             \n",
       "⎢                                                                             \n",
       "⎢                                                                             \n",
       "⎢                                                                             \n",
       "⎢      ⎡          0            0  0  0⎤              ⎡0       0        0  0⎤  \n",
       "⎢      ⎢                              ⎥              ⎢                     ⎥  \n",
       "⎢      ⎢          0            0  0  0⎥              ⎢0       0        0  0⎥  \n",
       "⎢      ⎢                              ⎥              ⎢                     ⎥  \n",
       "⎢      ⎢          0            0  0  0⎥              ⎢0       0        0  0⎥  \n",
       "⎢      ⎢                              ⎥              ⎢                     ⎥  \n",
       "⎢      ⎢          rₛ                  ⎥              ⎢   rₛ⋅(-r + rₛ)      ⎥  \n",
       "⎢      ⎢─────────────────────  0  0  0⎥              ⎢0  ────────────  0  0⎥  \n",
       "⎢      ⎢   4             2            ⎥              ⎢      6    2         ⎥  \n",
       "⎢      ⎣2⋅r ⋅(r - rₛ)⋅sin (θ)         ⎦              ⎣   2⋅r ⋅sin (θ)      ⎦  \n",
       "⎢                                                                             \n",
       "⎢                                                                             \n",
       "⎣                                                                             \n",
       "\n",
       "                                                                              \n",
       "                                                                              \n",
       "                                                                              \n",
       "               ⎡            rₛ        ⎤                      ⎡                \n",
       "               ⎢0  0  ─────────────  0⎥                      ⎢0  0  0  ───────\n",
       "               ⎢         4            ⎥                      ⎢            4   \n",
       "               ⎢      2⋅r ⋅(r - rₛ)   ⎥                      ⎢         2⋅r ⋅(r\n",
       "               ⎢                      ⎥                      ⎢                \n",
       "               ⎢0  0        0        0⎥                      ⎢0  0  0         \n",
       "               ⎢                      ⎥                      ⎢                \n",
       "               ⎢0  0        0        0⎥                      ⎢0  0  0         \n",
       "               ⎢                      ⎥                      ⎢                \n",
       "               ⎣0  0        0        0⎦                      ⎣0  0  0         \n",
       "                                                                              \n",
       "                                                                              \n",
       "                                                                              \n",
       "                                                                              \n",
       "   ⎤                                                                          \n",
       "   ⎥                                                                          \n",
       "   ⎥                                                                          \n",
       "   ⎥            ⎡0  0       0        0⎤                          ⎡0  0  0     \n",
       "   ⎥            ⎢                     ⎥                          ⎢            \n",
       "   ⎥            ⎢      rₛ⋅(-r + rₛ)   ⎥                          ⎢         rₛ⋅\n",
       "   ⎥            ⎢0  0  ────────────  0⎥                          ⎢0  0  0  ───\n",
       "   ⎥            ⎢             6       ⎥                          ⎢            \n",
       "   ⎥            ⎢          2⋅r        ⎥                          ⎢         2⋅r\n",
       "   ⎥            ⎢                     ⎥                          ⎢            \n",
       "   ⎥            ⎢0  0       0        0⎥                          ⎢0  0  0     \n",
       "   ⎥            ⎢                     ⎥                          ⎢            \n",
       "ₛ) ⎥            ⎣0  0       0        0⎦                          ⎣0  0  0     \n",
       "───⎥                                                                          \n",
       "   ⎥                                                                          \n",
       "(θ)⎦                                                                          \n",
       "                                                                              \n",
       "      ⎡     -rₛ                                 ⎤                             \n",
       "      ⎢─────────────       0       0      0     ⎥                             \n",
       "      ⎢   4                                     ⎥                             \n",
       "      ⎢2⋅r ⋅(r - rₛ)                            ⎥                 ⎡0  0  0    \n",
       "      ⎢                                         ⎥                 ⎢           \n",
       "      ⎢               rₛ⋅(r - rₛ)               ⎥                 ⎢0  0  0    \n",
       "      ⎢      0        ───────────  0      0     ⎥                 ⎢           \n",
       "      ⎢                      6                  ⎥                 ⎢           \n",
       "      ⎢                   2⋅r                   ⎥                 ⎢0  0  0  ──\n",
       "      ⎢                                         ⎥                 ⎢          7\n",
       "      ⎢      0             0       0      0     ⎥                 ⎢         r \n",
       "      ⎢                                         ⎥                 ⎢           \n",
       "      ⎢                                  -rₛ    ⎥                 ⎣0  0  0    \n",
       "      ⎢      0             0       0  ──────────⎥                             \n",
       "      ⎢                                7    2   ⎥                             \n",
       "      ⎣                               r ⋅sin (θ)⎦                             \n",
       "                                                                              \n",
       "                                                   ⎡         -rₛ              \n",
       "                                                   ⎢─────────────────────     \n",
       "                                                   ⎢   4             2        \n",
       "                 ⎡0  0      0       0⎤             ⎢2⋅r ⋅(r - rₛ)⋅sin (θ)     \n",
       "                 ⎢                   ⎥             ⎢                          \n",
       "                 ⎢0  0      0       0⎥             ⎢                       rₛ⋅\n",
       "                 ⎢                   ⎥             ⎢          0            ───\n",
       "                 ⎢0  0      0       0⎥             ⎢                          \n",
       "                 ⎢                   ⎥             ⎢                       2⋅r\n",
       "                 ⎢          rₛ       ⎥             ⎢                          \n",
       "                 ⎢0  0  ──────────  0⎥             ⎢                          \n",
       "                 ⎢       7    2      ⎥             ⎢          0               \n",
       "                 ⎣      r ⋅sin (θ)   ⎦             ⎢                          \n",
       "                                                   ⎢                          \n",
       "                                                   ⎢                          \n",
       "                                                   ⎣          0               \n",
       "\n",
       "                         ⎤\n",
       "                         ⎥\n",
       "                         ⎥\n",
       "   rₛ         ⎤          ⎥\n",
       "──────────────⎥          ⎥\n",
       "          2   ⎥          ⎥\n",
       " - rₛ)⋅sin (θ)⎥          ⎥\n",
       "              ⎥          ⎥\n",
       "   0          ⎥          ⎥\n",
       "              ⎥          ⎥\n",
       "   0          ⎥          ⎥\n",
       "              ⎥          ⎥\n",
       "   0          ⎦          ⎥\n",
       "                         ⎥\n",
       "                         ⎥\n",
       "                         ⎥\n",
       "                         ⎥\n",
       "                         ⎥\n",
       "                         ⎥\n",
       "                         ⎥\n",
       "  0      ⎤               ⎥\n",
       "         ⎥               ⎥\n",
       "(-r + rₛ)⎥               ⎥\n",
       "─────────⎥               ⎥\n",
       "6    2   ⎥               ⎥\n",
       " ⋅sin (θ)⎥               ⎥\n",
       "         ⎥               ⎥\n",
       "  0      ⎥               ⎥\n",
       "         ⎥               ⎥\n",
       "  0      ⎦               ⎥\n",
       "                         ⎥\n",
       "                         ⎥\n",
       "                         ⎥\n",
       "                         ⎥\n",
       "                         ⎥\n",
       "                         ⎥\n",
       "                         ⎥\n",
       "  0     ⎤                ⎥\n",
       "        ⎥                ⎥\n",
       "  0     ⎥                ⎥\n",
       "        ⎥                ⎥\n",
       "  rₛ    ⎥                ⎥\n",
       "────────⎥                ⎥\n",
       "    2   ⎥                ⎥\n",
       "⋅sin (θ)⎥                ⎥\n",
       "        ⎥                ⎥\n",
       "  0     ⎦                ⎥\n",
       "                         ⎥\n",
       "                         ⎥\n",
       "                         ⎥\n",
       "                         ⎥\n",
       "                        ⎤⎥\n",
       "  0            0       0⎥⎥\n",
       "                        ⎥⎥\n",
       "                        ⎥⎥\n",
       "                        ⎥⎥\n",
       "(r - rₛ)                ⎥⎥\n",
       "─────────      0       0⎥⎥\n",
       "6    2                  ⎥⎥\n",
       " ⋅sin (θ)               ⎥⎥\n",
       "                        ⎥⎥\n",
       "              -rₛ       ⎥⎥\n",
       "  0        ──────────  0⎥⎥\n",
       "            7    2      ⎥⎥\n",
       "           r ⋅sin (θ)   ⎥⎥\n",
       "                        ⎥⎥\n",
       "  0            0       0⎦⎦"
      ]
     },
     "execution_count": 35,
     "metadata": {},
     "output_type": "execute_result"
    }
   ],
   "source": [
    "# Varying type 'dddd' Weyl Tensor to 'uuuu'\n",
    "weyl_tensor40 = wyl.vary_weyltensor_type(weyl_tensor, 'uuuu')\n",
    "weyl_tensor40"
   ]
  },
  {
   "cell_type": "code",
   "execution_count": 36,
   "metadata": {},
   "outputs": [
    {
     "data": {
      "text/plain": [
       "'uuuu'"
      ]
     },
     "execution_count": 36,
     "metadata": {},
     "output_type": "execute_result"
    }
   ],
   "source": [
    "wyl.get_weyltensor_type()"
   ]
  },
  {
   "cell_type": "code",
   "execution_count": 37,
   "metadata": {},
   "outputs": [
    {
     "data": {
      "text/latex": [
       "$C^{t t r r}= \\frac{r_{s}}{r^{3}}$"
      ],
      "text/plain": [
       "<IPython.core.display.Latex object>"
      ]
     },
     "metadata": {},
     "output_type": "display_data"
    },
    {
     "data": {
      "text/latex": [
       "$C^{t t \\theta \\theta}= - \\frac{r_{s}}{2 r^{4} \\left(r - r_{s}\\right)}$"
      ],
      "text/plain": [
       "<IPython.core.display.Latex object>"
      ]
     },
     "metadata": {},
     "output_type": "display_data"
    },
    {
     "data": {
      "text/latex": [
       "$C^{t t \\phi \\phi}= - \\frac{r_{s}}{2 r^{4} \\left(r - r_{s}\\right) \\sin^{2}{\\left(\\theta \\right)}}$"
      ],
      "text/plain": [
       "<IPython.core.display.Latex object>"
      ]
     },
     "metadata": {},
     "output_type": "display_data"
    },
    {
     "data": {
      "text/latex": [
       "$C^{t r t r}= - \\frac{r_{s}}{r^{3}}$"
      ],
      "text/plain": [
       "<IPython.core.display.Latex object>"
      ]
     },
     "metadata": {},
     "output_type": "display_data"
    },
    {
     "data": {
      "text/latex": [
       "$C^{t \\theta t \\theta}= \\frac{r_{s}}{2 r^{4} \\left(r - r_{s}\\right)}$"
      ],
      "text/plain": [
       "<IPython.core.display.Latex object>"
      ]
     },
     "metadata": {},
     "output_type": "display_data"
    },
    {
     "data": {
      "text/latex": [
       "$C^{t \\phi t \\phi}= \\frac{r_{s}}{2 r^{4} \\left(r - r_{s}\\right) \\sin^{2}{\\left(\\theta \\right)}}$"
      ],
      "text/plain": [
       "<IPython.core.display.Latex object>"
      ]
     },
     "metadata": {},
     "output_type": "display_data"
    },
    {
     "data": {
      "text/latex": [
       "$C^{r t r t}= - \\frac{r_{s}}{r^{3}}$"
      ],
      "text/plain": [
       "<IPython.core.display.Latex object>"
      ]
     },
     "metadata": {},
     "output_type": "display_data"
    },
    {
     "data": {
      "text/latex": [
       "$C^{r r t t}= \\frac{r_{s}}{r^{3}}$"
      ],
      "text/plain": [
       "<IPython.core.display.Latex object>"
      ]
     },
     "metadata": {},
     "output_type": "display_data"
    },
    {
     "data": {
      "text/latex": [
       "$C^{r r \\theta \\theta}= \\frac{r_{s} \\left(r - r_{s}\\right)}{2 r^{6}}$"
      ],
      "text/plain": [
       "<IPython.core.display.Latex object>"
      ]
     },
     "metadata": {},
     "output_type": "display_data"
    },
    {
     "data": {
      "text/latex": [
       "$C^{r r \\phi \\phi}= \\frac{r_{s} \\left(r - r_{s}\\right)}{2 r^{6} \\sin^{2}{\\left(\\theta \\right)}}$"
      ],
      "text/plain": [
       "<IPython.core.display.Latex object>"
      ]
     },
     "metadata": {},
     "output_type": "display_data"
    },
    {
     "data": {
      "text/latex": [
       "$C^{r \\theta r \\theta}= \\frac{r_{s} \\left(- r + r_{s}\\right)}{2 r^{6}}$"
      ],
      "text/plain": [
       "<IPython.core.display.Latex object>"
      ]
     },
     "metadata": {},
     "output_type": "display_data"
    },
    {
     "data": {
      "text/latex": [
       "$C^{r \\phi r \\phi}= \\frac{r_{s} \\left(- r + r_{s}\\right)}{2 r^{6} \\sin^{2}{\\left(\\theta \\right)}}$"
      ],
      "text/plain": [
       "<IPython.core.display.Latex object>"
      ]
     },
     "metadata": {},
     "output_type": "display_data"
    },
    {
     "data": {
      "text/latex": [
       "$C^{\\theta t \\theta t}= \\frac{r_{s}}{2 r^{4} \\left(r - r_{s}\\right)}$"
      ],
      "text/plain": [
       "<IPython.core.display.Latex object>"
      ]
     },
     "metadata": {},
     "output_type": "display_data"
    },
    {
     "data": {
      "text/latex": [
       "$C^{\\theta r \\theta r}= \\frac{r_{s} \\left(- r + r_{s}\\right)}{2 r^{6}}$"
      ],
      "text/plain": [
       "<IPython.core.display.Latex object>"
      ]
     },
     "metadata": {},
     "output_type": "display_data"
    },
    {
     "data": {
      "text/latex": [
       "$C^{\\theta \\theta t t}= - \\frac{r_{s}}{2 r^{4} \\left(r - r_{s}\\right)}$"
      ],
      "text/plain": [
       "<IPython.core.display.Latex object>"
      ]
     },
     "metadata": {},
     "output_type": "display_data"
    },
    {
     "data": {
      "text/latex": [
       "$C^{\\theta \\theta r r}= \\frac{r_{s} \\left(r - r_{s}\\right)}{2 r^{6}}$"
      ],
      "text/plain": [
       "<IPython.core.display.Latex object>"
      ]
     },
     "metadata": {},
     "output_type": "display_data"
    },
    {
     "data": {
      "text/latex": [
       "$C^{\\theta \\theta \\phi \\phi}= - \\frac{r_{s}}{r^{7} \\sin^{2}{\\left(\\theta \\right)}}$"
      ],
      "text/plain": [
       "<IPython.core.display.Latex object>"
      ]
     },
     "metadata": {},
     "output_type": "display_data"
    },
    {
     "data": {
      "text/latex": [
       "$C^{\\theta \\phi \\theta \\phi}= \\frac{r_{s}}{r^{7} \\sin^{2}{\\left(\\theta \\right)}}$"
      ],
      "text/plain": [
       "<IPython.core.display.Latex object>"
      ]
     },
     "metadata": {},
     "output_type": "display_data"
    },
    {
     "data": {
      "text/latex": [
       "$C^{\\phi t \\phi t}= \\frac{r_{s}}{2 r^{4} \\left(r - r_{s}\\right) \\sin^{2}{\\left(\\theta \\right)}}$"
      ],
      "text/plain": [
       "<IPython.core.display.Latex object>"
      ]
     },
     "metadata": {},
     "output_type": "display_data"
    },
    {
     "data": {
      "text/latex": [
       "$C^{\\phi r \\phi r}= \\frac{r_{s} \\left(- r + r_{s}\\right)}{2 r^{6} \\sin^{2}{\\left(\\theta \\right)}}$"
      ],
      "text/plain": [
       "<IPython.core.display.Latex object>"
      ]
     },
     "metadata": {},
     "output_type": "display_data"
    },
    {
     "data": {
      "text/latex": [
       "$C^{\\phi \\theta \\phi \\theta}= \\frac{r_{s}}{r^{7} \\sin^{2}{\\left(\\theta \\right)}}$"
      ],
      "text/plain": [
       "<IPython.core.display.Latex object>"
      ]
     },
     "metadata": {},
     "output_type": "display_data"
    },
    {
     "data": {
      "text/latex": [
       "$C^{\\phi \\phi t t}= - \\frac{r_{s}}{2 r^{4} \\left(r - r_{s}\\right) \\sin^{2}{\\left(\\theta \\right)}}$"
      ],
      "text/plain": [
       "<IPython.core.display.Latex object>"
      ]
     },
     "metadata": {},
     "output_type": "display_data"
    },
    {
     "data": {
      "text/latex": [
       "$C^{\\phi \\phi r r}= \\frac{r_{s} \\left(r - r_{s}\\right)}{2 r^{6} \\sin^{2}{\\left(\\theta \\right)}}$"
      ],
      "text/plain": [
       "<IPython.core.display.Latex object>"
      ]
     },
     "metadata": {},
     "output_type": "display_data"
    },
    {
     "data": {
      "text/latex": [
       "$C^{\\phi \\phi \\theta \\theta}= - \\frac{r_{s}}{r^{7} \\sin^{2}{\\left(\\theta \\right)}}$"
      ],
      "text/plain": [
       "<IPython.core.display.Latex object>"
      ]
     },
     "metadata": {},
     "output_type": "display_data"
    }
   ],
   "source": [
    "wyl.nonzero_weyltensor(weyl_tensor40) "
   ]
  },
  {
   "cell_type": "markdown",
   "metadata": {},
   "source": [
    "# Einstein Tensor"
   ]
  },
  {
   "cell_type": "code",
   "execution_count": 38,
   "metadata": {},
   "outputs": [
    {
     "data": {
      "image/png": "[encoded data removed]",
      "text/latex": [
       "$\\displaystyle \\left[\\begin{matrix}0 & 0 & 0 & 0\\\\0 & 0 & 0 & 0\\\\0 & 0 & 0 & 0\\\\0 & 0 & 0 & 0\\end{matrix}\\right]$"
      ],
      "text/plain": [
       "⎡0  0  0  0⎤\n",
       "⎢          ⎥\n",
       "⎢0  0  0  0⎥\n",
       "⎢          ⎥\n",
       "⎢0  0  0  0⎥\n",
       "⎢          ⎥\n",
       "⎣0  0  0  0⎦"
      ]
     },
     "execution_count": 38,
     "metadata": {},
     "output_type": "execute_result"
    }
   ],
   "source": [
    "# Obtaining the Einstein Tensor\n",
    "et = EinsteinTensor(diag_comp, coord_sys)\n",
    "einstein_tensor = et.get_einsteintensor()\n",
    "einstein_tensor"
   ]
  },
  {
   "cell_type": "code",
   "execution_count": 39,
   "metadata": {},
   "outputs": [
    {
     "data": {
      "text/plain": [
       "'dd'"
      ]
     },
     "execution_count": 39,
     "metadata": {},
     "output_type": "execute_result"
    }
   ],
   "source": [
    "# Default type of the Einstein Tensor\n",
    "et.get_einsteintensor_type()"
   ]
  },
  {
   "cell_type": "code",
   "execution_count": 40,
   "metadata": {},
   "outputs": [
    {
     "data": {
      "image/png": "[encoded data removed]",
      "text/latex": [
       "$\\displaystyle \\left[\\begin{matrix}0 & 0 & 0 & 0\\\\0 & 0 & 0 & 0\\\\0 & 0 & 0 & 0\\\\0 & 0 & 0 & 0\\end{matrix}\\right]$"
      ],
      "text/plain": [
       "⎡0  0  0  0⎤\n",
       "⎢          ⎥\n",
       "⎢0  0  0  0⎥\n",
       "⎢          ⎥\n",
       "⎢0  0  0  0⎥\n",
       "⎢          ⎥\n",
       "⎣0  0  0  0⎦"
      ]
     },
     "execution_count": 40,
     "metadata": {},
     "output_type": "execute_result"
    }
   ],
   "source": [
    "# Varying type 'dd' Einstein Tensor to 'uu'\n",
    "et.vary_einsteintensor_type(einstein_tensor, 'uu')"
   ]
  },
  {
   "cell_type": "code",
   "execution_count": 41,
   "metadata": {},
   "outputs": [
    {
     "data": {
      "text/plain": [
       "'uu'"
      ]
     },
     "execution_count": 41,
     "metadata": {},
     "output_type": "execute_result"
    }
   ],
   "source": [
    "et.get_einsteintensor_type()"
   ]
  },
  {
   "cell_type": "markdown",
   "metadata": {},
   "source": [
    "# Kretschmann Scalar"
   ]
  },
  {
   "cell_type": "code",
   "execution_count": 42,
   "metadata": {},
   "outputs": [
    {
     "data": {
      "image/png": "[encoded data removed]",
      "text/latex": [
       "$\\displaystyle \\frac{12 r_{s}^{2}}{r^{6}}$"
      ],
      "text/plain": [
       "     2\n",
       "12⋅rₛ \n",
       "──────\n",
       "   6  \n",
       "  r   "
      ]
     },
     "execution_count": 42,
     "metadata": {},
     "output_type": "execute_result"
    }
   ],
   "source": [
    "ks = KretschmannScalar(diag_comp, coord_sys)\n",
    "kret_scalar = ks.get_kretschmannscalar()\n",
    "kret_scalar"
   ]
  }
 ],
 "metadata": {
  "interpreter": {
   "hash": "8ed00e9049138e529435877acd2a573cc9e2d446a3a76be2ec7db4035cd68c53"
  },
  "kernelspec": {
   "display_name": "Python 3",
   "language": "python",
   "name": "python3"
  },
  "language_info": {
   "codemirror_mode": {
    "name": "ipython",
    "version": 3
   },
   "file_extension": ".py",
   "mimetype": "text/x-python",
   "name": "python",
   "nbconvert_exporter": "python",
   "pygments_lexer": "ipython3",
   "version": "3.8.8"
  },
  "metadata": {
   "interpreter": {
    "hash": "8ed00e9049138e529435877acd2a573cc9e2d446a3a76be2ec7db4035cd68c53"
   }
  },
  "widgets": {
   "application/vnd.jupyter.widget-state+json": {
    "state": {},
    "version_major": 2,
    "version_minor": 0
   }
  }
 },
 "nbformat": 4,
 "nbformat_minor": 4
}
