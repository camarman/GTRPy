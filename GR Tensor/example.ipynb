{
 "cells": [
  {
   "cell_type": "code",
   "execution_count": 1,
   "metadata": {},
   "outputs": [],
   "source": [
    "from GR_full_curv import *\n",
    "from sympy import symbols, sin, init_printing\n",
    "\n",
    "init_printing()\n",
    "\n",
    "# Coordinate system that we will work on\n",
    "coord_sys = symbols('t r theta phi')  \n",
    "\n",
    "# Defining some extra symbols\n",
    "G, m, a = symbols('G, m, a') \n",
    "\n",
    "# Defining the diagonal components of the metric tensor\n",
    "diag_comp = [-1, a**(-1), a**2, a * sin(coord_sys[2])**2] "
   ]
  },
  {
   "cell_type": "markdown",
   "metadata": {},
   "source": [
    "# Metric Tensor"
   ]
  },
  {
   "cell_type": "code",
   "execution_count": 2,
   "metadata": {},
   "outputs": [
    {
     "data": {
      "image/png": "[encoded data removed]",
      "text/latex": [
       "$\\displaystyle \\left[\\begin{matrix}-1 & 0 & 0 & 0\\\\0 & \\frac{1}{a} & 0 & 0\\\\0 & 0 & a^{2} & 0\\\\0 & 0 & 0 & a \\sin^{2}{\\left(\\theta \\right)}\\end{matrix}\\right]$"
      ],
      "text/plain": [
       "⎡-1  0  0       0    ⎤\n",
       "⎢                    ⎥\n",
       "⎢    1               ⎥\n",
       "⎢0   ─  0       0    ⎥\n",
       "⎢    a               ⎥\n",
       "⎢                    ⎥\n",
       "⎢        2           ⎥\n",
       "⎢0   0  a       0    ⎥\n",
       "⎢                    ⎥\n",
       "⎢                2   ⎥\n",
       "⎣0   0  0   a⋅sin (θ)⎦"
      ]
     },
     "execution_count": 2,
     "metadata": {},
     "output_type": "execute_result"
    }
   ],
   "source": [
    "# Obtaining the metric tensor\n",
    "mt = MetricTensor(diag_comp, coord_sys)\n",
    "metric_tensor = mt.get_metrictensor()\n",
    "metric_tensor "
   ]
  },
  {
   "cell_type": "code",
   "execution_count": 3,
   "metadata": {},
   "outputs": [
    {
     "data": {
      "text/plain": [
       "'dd'"
      ]
     },
     "execution_count": 3,
     "metadata": {},
     "output_type": "execute_result"
    }
   ],
   "source": [
    "# Default type of the metric tensor\n",
    "mt.get_metrictensor_type() "
   ]
  },
  {
   "cell_type": "code",
   "execution_count": 4,
   "metadata": {},
   "outputs": [
    {
     "data": {
      "image/png": "[encoded data removed]",
      "text/latex": [
       "$\\displaystyle \\left[\\begin{matrix}1 & 0 & 0 & 0\\\\0 & 1 & 0 & 0\\\\0 & 0 & 1 & 0\\\\0 & 0 & 0 & 1\\end{matrix}\\right]$"
      ],
      "text/plain": [
       "⎡1  0  0  0⎤\n",
       "⎢          ⎥\n",
       "⎢0  1  0  0⎥\n",
       "⎢          ⎥\n",
       "⎢0  0  1  0⎥\n",
       "⎢          ⎥\n",
       "⎣0  0  0  1⎦"
      ]
     },
     "execution_count": 4,
     "metadata": {},
     "output_type": "execute_result"
    }
   ],
   "source": [
    "# Varying type 'dd' metric tensor to 'ud'\n",
    "mt.vary_metrictensor_type(metric_tensor, 'ud')"
   ]
  },
  {
   "cell_type": "code",
   "execution_count": 5,
   "metadata": {},
   "outputs": [
    {
     "data": {
      "text/plain": [
       "'ud'"
      ]
     },
     "execution_count": 5,
     "metadata": {},
     "output_type": "execute_result"
    }
   ],
   "source": [
    "mt.get_metrictensor_type() "
   ]
  },
  {
   "cell_type": "code",
   "execution_count": 6,
   "metadata": {},
   "outputs": [
    {
     "data": {
      "image/png": "[encoded data removed]",
      "text/latex": [
       "$\\displaystyle \\left[\\begin{matrix}-1 & 0 & 0 & 0\\\\0 & a & 0 & 0\\\\0 & 0 & \\frac{1}{a^{2}} & 0\\\\0 & 0 & 0 & \\frac{1}{a \\sin^{2}{\\left(\\theta \\right)}}\\end{matrix}\\right]$"
      ],
      "text/plain": [
       "⎡-1  0  0       0    ⎤\n",
       "⎢                    ⎥\n",
       "⎢0   a  0       0    ⎥\n",
       "⎢                    ⎥\n",
       "⎢       1            ⎥\n",
       "⎢0   0  ──      0    ⎥\n",
       "⎢        2           ⎥\n",
       "⎢       a            ⎥\n",
       "⎢                    ⎥\n",
       "⎢               1    ⎥\n",
       "⎢0   0  0   ─────────⎥\n",
       "⎢                2   ⎥\n",
       "⎣           a⋅sin (θ)⎦"
      ]
     },
     "execution_count": 6,
     "metadata": {},
     "output_type": "execute_result"
    }
   ],
   "source": [
    "# Varying type 'dd' metric tensor to 'uu'\n",
    "mt.vary_metrictensor_type(metric_tensor, 'uu') "
   ]
  },
  {
   "cell_type": "code",
   "execution_count": 7,
   "metadata": {},
   "outputs": [
    {
     "data": {
      "text/plain": [
       "'uu'"
      ]
     },
     "execution_count": 7,
     "metadata": {},
     "output_type": "execute_result"
    }
   ],
   "source": [
    "mt.get_metrictensor_type()"
   ]
  },
  {
   "cell_type": "code",
   "execution_count": 8,
   "metadata": {},
   "outputs": [
    {
     "data": {
      "image/png": "[encoded data removed]",
      "text/latex": [
       "$\\displaystyle \\left[\\begin{matrix}-1 & 0 & 0 & 0\\\\0 & a & 0 & 0\\\\0 & 0 & \\frac{1}{a^{2}} & 0\\\\0 & 0 & 0 & \\frac{1}{a \\sin^{2}{\\left(\\theta \\right)}}\\end{matrix}\\right]$"
      ],
      "text/plain": [
       "⎡-1  0  0       0    ⎤\n",
       "⎢                    ⎥\n",
       "⎢0   a  0       0    ⎥\n",
       "⎢                    ⎥\n",
       "⎢       1            ⎥\n",
       "⎢0   0  ──      0    ⎥\n",
       "⎢        2           ⎥\n",
       "⎢       a            ⎥\n",
       "⎢                    ⎥\n",
       "⎢               1    ⎥\n",
       "⎢0   0  0   ─────────⎥\n",
       "⎢                2   ⎥\n",
       "⎣           a⋅sin (θ)⎦"
      ]
     },
     "execution_count": 8,
     "metadata": {},
     "output_type": "execute_result"
    }
   ],
   "source": [
    "# Obtaining the inverse of the metric tensor directly\n",
    "mt.get_inverse() "
   ]
  },
  {
   "cell_type": "markdown",
   "metadata": {},
   "source": [
    "# Christoffel Symbol"
   ]
  },
  {
   "cell_type": "code",
   "execution_count": 9,
   "metadata": {},
   "outputs": [
    {
     "data": {
      "image/png": "[encoded data removed]",
      "text/latex": [
       "$\\displaystyle \\left[\\begin{matrix}\\left[\\begin{matrix}0 & 0 & 0 & 0\\\\0 & 0 & 0 & 0\\\\0 & 0 & 0 & 0\\\\0 & 0 & 0 & 0\\end{matrix}\\right] & \\left[\\begin{matrix}0 & 0 & 0 & 0\\\\0 & 0 & 0 & 0\\\\0 & 0 & 0 & 0\\\\0 & 0 & 0 & 0\\end{matrix}\\right] & \\left[\\begin{matrix}0 & 0 & 0 & 0\\\\0 & 0 & 0 & 0\\\\0 & 0 & 0 & 0\\\\0 & 0 & 0 & - \\frac{\\sin{\\left(\\theta \\right)} \\cos{\\left(\\theta \\right)}}{a}\\end{matrix}\\right] & \\left[\\begin{matrix}0 & 0 & 0 & 0\\\\0 & 0 & 0 & 0\\\\0 & 0 & 0 & \\frac{\\cos{\\left(\\theta \\right)}}{\\sin{\\left(\\theta \\right)}}\\\\0 & 0 & \\frac{\\cos{\\left(\\theta \\right)}}{\\sin{\\left(\\theta \\right)}} & 0\\end{matrix}\\right]\\end{matrix}\\right]$"
      ],
      "text/plain": [
       "⎡                                                        ⎡0  0    0       0   \n",
       "⎢                            ⎡0  0  0         0       ⎤  ⎢                    \n",
       "⎢⎡0  0  0  0⎤  ⎡0  0  0  0⎤  ⎢                        ⎥  ⎢0  0    0       0   \n",
       "⎢⎢          ⎥  ⎢          ⎥  ⎢0  0  0         0       ⎥  ⎢                    \n",
       "⎢⎢0  0  0  0⎥  ⎢0  0  0  0⎥  ⎢                        ⎥  ⎢              cos(θ)\n",
       "⎢⎢          ⎥  ⎢          ⎥  ⎢0  0  0         0       ⎥  ⎢0  0    0     ──────\n",
       "⎢⎢0  0  0  0⎥  ⎢0  0  0  0⎥  ⎢                        ⎥  ⎢              sin(θ)\n",
       "⎢⎢          ⎥  ⎢          ⎥  ⎢         -sin(θ)⋅cos(θ) ⎥  ⎢                    \n",
       "⎢⎣0  0  0  0⎦  ⎣0  0  0  0⎦  ⎢0  0  0  ───────────────⎥  ⎢      cos(θ)        \n",
       "⎢                            ⎣                a       ⎦  ⎢0  0  ──────    0   \n",
       "⎣                                                        ⎣      sin(θ)        \n",
       "\n",
       "⎤⎤\n",
       "⎥⎥\n",
       "⎥⎥\n",
       "⎥⎥\n",
       "⎥⎥\n",
       "⎥⎥\n",
       "⎥⎥\n",
       "⎥⎥\n",
       "⎥⎥\n",
       "⎥⎥\n",
       "⎦⎦"
      ]
     },
     "execution_count": 9,
     "metadata": {},
     "output_type": "execute_result"
    }
   ],
   "source": [
    "# Obtaining the Christoffel Symbol\n",
    "cs = ChristoffelSymbol(diag_comp, coord_sys)\n",
    "chris_symbol = cs.get_christoffelsymbol()\n",
    "chris_symbol "
   ]
  },
  {
   "cell_type": "code",
   "execution_count": 10,
   "metadata": {},
   "outputs": [
    {
     "data": {
      "text/plain": [
       "'udd'"
      ]
     },
     "execution_count": 10,
     "metadata": {},
     "output_type": "execute_result"
    }
   ],
   "source": [
    "# Default type of the Christoffel Symbol\n",
    "cs.get_christoffelsymbol_type() "
   ]
  },
  {
   "cell_type": "code",
   "execution_count": 11,
   "metadata": {},
   "outputs": [
    {
     "data": {
      "image/png": "[encoded data removed]",
      "text/latex": [
       "$\\displaystyle \\left[\\begin{matrix}\\left[\\begin{matrix}0 & 0 & 0 & 0\\\\0 & 0 & 0 & 0\\\\0 & 0 & 0 & 0\\\\0 & 0 & 0 & 0\\end{matrix}\\right] & \\left[\\begin{matrix}0 & 0 & 0 & 0\\\\0 & 0 & 0 & 0\\\\0 & 0 & 0 & 0\\\\0 & 0 & 0 & 0\\end{matrix}\\right] & \\left[\\begin{matrix}0 & 0 & 0 & 0\\\\0 & 0 & 0 & 0\\\\0 & 0 & 0 & 0\\\\0 & 0 & 0 & - a \\sin{\\left(\\theta \\right)} \\cos{\\left(\\theta \\right)}\\end{matrix}\\right] & \\left[\\begin{matrix}0 & 0 & 0 & 0\\\\0 & 0 & 0 & 0\\\\0 & 0 & 0 & a \\sin{\\left(\\theta \\right)} \\cos{\\left(\\theta \\right)}\\\\0 & 0 & a \\sin{\\left(\\theta \\right)} \\cos{\\left(\\theta \\right)} & 0\\end{matrix}\\right]\\end{matrix}\\right]$"
      ],
      "text/plain": [
       "⎡⎡0  0  0  0⎤  ⎡0  0  0  0⎤  ⎡0  0  0         0        ⎤  ⎡0  0         0     \n",
       "⎢⎢          ⎥  ⎢          ⎥  ⎢                         ⎥  ⎢                   \n",
       "⎢⎢0  0  0  0⎥  ⎢0  0  0  0⎥  ⎢0  0  0         0        ⎥  ⎢0  0         0     \n",
       "⎢⎢          ⎥  ⎢          ⎥  ⎢                         ⎥  ⎢                   \n",
       "⎢⎢0  0  0  0⎥  ⎢0  0  0  0⎥  ⎢0  0  0         0        ⎥  ⎢0  0         0     \n",
       "⎢⎢          ⎥  ⎢          ⎥  ⎢                         ⎥  ⎢                   \n",
       "⎣⎣0  0  0  0⎦  ⎣0  0  0  0⎦  ⎣0  0  0  -a⋅sin(θ)⋅cos(θ)⎦  ⎣0  0  a⋅sin(θ)⋅cos(\n",
       "\n",
       "           0       ⎤⎤\n",
       "                   ⎥⎥\n",
       "           0       ⎥⎥\n",
       "                   ⎥⎥\n",
       "    a⋅sin(θ)⋅cos(θ)⎥⎥\n",
       "                   ⎥⎥\n",
       "θ)         0       ⎦⎦"
      ]
     },
     "execution_count": 11,
     "metadata": {},
     "output_type": "execute_result"
    }
   ],
   "source": [
    "# Varying type 'udd' Christoffel Symbol to 'ddd'\n",
    "chris_symbol03 = cs.vary_christoffelsymbol_type(chris_symbol, 'ddd') \n",
    "chris_symbol03"
   ]
  },
  {
   "cell_type": "code",
   "execution_count": 12,
   "metadata": {},
   "outputs": [
    {
     "data": {
      "text/plain": [
       "'ddd'"
      ]
     },
     "execution_count": 12,
     "metadata": {},
     "output_type": "execute_result"
    }
   ],
   "source": [
    "cs.get_christoffelsymbol_type()"
   ]
  },
  {
   "cell_type": "code",
   "execution_count": 13,
   "metadata": {},
   "outputs": [
    {
     "data": {
      "text/latex": [
       "$\\Gamma_{\\theta \\phi \\phi} = - a \\sin{\\left(\\theta \\right)} \\cos{\\left(\\theta \\right)}$"
      ],
      "text/plain": [
       "<IPython.core.display.Latex object>"
      ]
     },
     "metadata": {},
     "output_type": "display_data"
    },
    {
     "data": {
      "text/latex": [
       "$\\Gamma_{\\phi \\theta \\phi} = a \\sin{\\left(\\theta \\right)} \\cos{\\left(\\theta \\right)}$"
      ],
      "text/plain": [
       "<IPython.core.display.Latex object>"
      ]
     },
     "metadata": {},
     "output_type": "display_data"
    },
    {
     "data": {
      "text/latex": [
       "$\\Gamma_{\\phi \\phi \\theta} = a \\sin{\\left(\\theta \\right)} \\cos{\\left(\\theta \\right)}$"
      ],
      "text/plain": [
       "<IPython.core.display.Latex object>"
      ]
     },
     "metadata": {},
     "output_type": "display_data"
    }
   ],
   "source": [
    "# Obtaining the non-zero components of the given Christoffel Symbol for type ddd\n",
    "cs.nonzero_christoffelsymbol(chris_symbol03) "
   ]
  },
  {
   "cell_type": "code",
   "execution_count": 14,
   "metadata": {},
   "outputs": [
    {
     "data": {
      "image/png": "[encoded data removed]",
      "text/latex": [
       "$\\displaystyle \\left[\\begin{matrix}\\left[\\begin{matrix}0 & 0 & 0 & 0\\\\0 & 0 & 0 & 0\\\\0 & 0 & 0 & 0\\\\0 & 0 & 0 & 0\\end{matrix}\\right] & \\left[\\begin{matrix}0 & 0 & 0 & 0\\\\0 & 0 & 0 & 0\\\\0 & 0 & 0 & 0\\\\0 & 0 & 0 & 0\\end{matrix}\\right] & \\left[\\begin{matrix}0 & 0 & 0 & 0\\\\0 & 0 & 0 & 0\\\\0 & 0 & 0 & 0\\\\0 & 0 & 0 & - \\frac{\\cos{\\left(\\theta \\right)}}{a^{2} \\sin{\\left(\\theta \\right)}}\\end{matrix}\\right] & \\left[\\begin{matrix}0 & 0 & 0 & 0\\\\0 & 0 & 0 & 0\\\\0 & 0 & 0 & \\frac{\\cos{\\left(\\theta \\right)}}{a^{2} \\sin{\\left(\\theta \\right)}}\\\\0 & 0 & \\frac{\\cos{\\left(\\theta \\right)}}{a \\sin^{3}{\\left(\\theta \\right)}} & 0\\end{matrix}\\right]\\end{matrix}\\right]$"
      ],
      "text/plain": [
       "⎡                                                  ⎡0  0      0          0    \n",
       "⎢                            ⎡0  0  0      0    ⎤  ⎢                          \n",
       "⎢                            ⎢                  ⎥  ⎢0  0      0          0    \n",
       "⎢⎡0  0  0  0⎤  ⎡0  0  0  0⎤  ⎢0  0  0      0    ⎥  ⎢                          \n",
       "⎢⎢          ⎥  ⎢          ⎥  ⎢                  ⎥  ⎢                   cos(θ) \n",
       "⎢⎢0  0  0  0⎥  ⎢0  0  0  0⎥  ⎢0  0  0      0    ⎥  ⎢0  0      0      ─────────\n",
       "⎢⎢          ⎥  ⎢          ⎥  ⎢                  ⎥  ⎢                  2       \n",
       "⎢⎢0  0  0  0⎥  ⎢0  0  0  0⎥  ⎢          -cos(θ) ⎥  ⎢                 a ⋅sin(θ)\n",
       "⎢⎢          ⎥  ⎢          ⎥  ⎢0  0  0  ─────────⎥  ⎢                          \n",
       "⎢⎣0  0  0  0⎦  ⎣0  0  0  0⎦  ⎢          2       ⎥  ⎢        cos(θ)            \n",
       "⎢                            ⎣         a ⋅sin(θ)⎦  ⎢0  0  ─────────      0    \n",
       "⎢                                                  ⎢           3              \n",
       "⎣                                                  ⎣      a⋅sin (θ)           \n",
       "\n",
       "⎤⎤\n",
       "⎥⎥\n",
       "⎥⎥\n",
       "⎥⎥\n",
       "⎥⎥\n",
       "⎥⎥\n",
       "⎥⎥\n",
       "⎥⎥\n",
       "⎥⎥\n",
       "⎥⎥\n",
       "⎥⎥\n",
       "⎥⎥\n",
       "⎦⎦"
      ]
     },
     "execution_count": 14,
     "metadata": {},
     "output_type": "execute_result"
    }
   ],
   "source": [
    "# Varying type 'udd' Christoffel Symbol to 'uud'\n",
    "chris_symbol21 = cs.vary_christoffelsymbol_type(chris_symbol, 'uud') \n",
    "chris_symbol21"
   ]
  },
  {
   "cell_type": "code",
   "execution_count": 15,
   "metadata": {},
   "outputs": [
    {
     "data": {
      "text/plain": [
       "'uud'"
      ]
     },
     "execution_count": 15,
     "metadata": {},
     "output_type": "execute_result"
    }
   ],
   "source": [
    "cs.get_christoffelsymbol_type() "
   ]
  },
  {
   "cell_type": "code",
   "execution_count": 16,
   "metadata": {},
   "outputs": [
    {
     "data": {
      "image/png": "[encoded data removed]",
      "text/latex": [
       "$\\displaystyle \\left[\\begin{matrix}\\left[\\begin{matrix}0 & 0 & 0 & 0\\\\0 & 0 & 0 & 0\\\\0 & 0 & 0 & 0\\\\0 & 0 & 0 & 0\\end{matrix}\\right] & \\left[\\begin{matrix}0 & 0 & 0 & 0\\\\0 & 0 & 0 & 0\\\\0 & 0 & 0 & 0\\\\0 & 0 & 0 & 0\\end{matrix}\\right] & \\left[\\begin{matrix}0 & 0 & 0 & 0\\\\0 & 0 & 0 & 0\\\\0 & 0 & 0 & 0\\\\0 & 0 & 0 & - \\frac{\\cos{\\left(\\theta \\right)}}{a^{3} \\sin^{3}{\\left(\\theta \\right)}}\\end{matrix}\\right] & \\left[\\begin{matrix}0 & 0 & 0 & 0\\\\0 & 0 & 0 & 0\\\\0 & 0 & 0 & \\frac{\\cos{\\left(\\theta \\right)}}{a^{3} \\sin^{3}{\\left(\\theta \\right)}}\\\\0 & 0 & \\frac{\\cos{\\left(\\theta \\right)}}{a^{3} \\sin^{3}{\\left(\\theta \\right)}} & 0\\end{matrix}\\right]\\end{matrix}\\right]$"
      ],
      "text/plain": [
       "⎡                                                   ⎡0  0      0           0  \n",
       "⎢                            ⎡0  0  0      0     ⎤  ⎢                         \n",
       "⎢                            ⎢                   ⎥  ⎢0  0      0           0  \n",
       "⎢⎡0  0  0  0⎤  ⎡0  0  0  0⎤  ⎢0  0  0      0     ⎥  ⎢                         \n",
       "⎢⎢          ⎥  ⎢          ⎥  ⎢                   ⎥  ⎢                    cos(θ\n",
       "⎢⎢0  0  0  0⎥  ⎢0  0  0  0⎥  ⎢0  0  0      0     ⎥  ⎢0  0      0       ───────\n",
       "⎢⎢          ⎥  ⎢          ⎥  ⎢                   ⎥  ⎢                   3    3\n",
       "⎢⎢0  0  0  0⎥  ⎢0  0  0  0⎥  ⎢          -cos(θ)  ⎥  ⎢                  a ⋅sin \n",
       "⎢⎢          ⎥  ⎢          ⎥  ⎢0  0  0  ──────────⎥  ⎢                         \n",
       "⎢⎣0  0  0  0⎦  ⎣0  0  0  0⎦  ⎢          3    3   ⎥  ⎢        cos(θ)           \n",
       "⎢                            ⎣         a ⋅sin (θ)⎦  ⎢0  0  ──────────      0  \n",
       "⎢                                                   ⎢       3    3            \n",
       "⎣                                                   ⎣      a ⋅sin (θ)         \n",
       "\n",
       "   ⎤⎤\n",
       "   ⎥⎥\n",
       "   ⎥⎥\n",
       "   ⎥⎥\n",
       ")  ⎥⎥\n",
       "───⎥⎥\n",
       "   ⎥⎥\n",
       "(θ)⎥⎥\n",
       "   ⎥⎥\n",
       "   ⎥⎥\n",
       "   ⎥⎥\n",
       "   ⎥⎥\n",
       "   ⎦⎦"
      ]
     },
     "execution_count": 16,
     "metadata": {},
     "output_type": "execute_result"
    }
   ],
   "source": [
    "# Varying type 'udd' Christoffel Symbol to 'uuu'\n",
    "chris_symbol30 = cs.vary_christoffelsymbol_type(chris_symbol, 'uuu')\n",
    "chris_symbol30"
   ]
  },
  {
   "cell_type": "code",
   "execution_count": 17,
   "metadata": {},
   "outputs": [
    {
     "data": {
      "text/plain": [
       "'uuu'"
      ]
     },
     "execution_count": 17,
     "metadata": {},
     "output_type": "execute_result"
    }
   ],
   "source": [
    "cs.get_christoffelsymbol_type() "
   ]
  },
  {
   "cell_type": "code",
   "execution_count": 18,
   "metadata": {},
   "outputs": [
    {
     "data": {
      "text/latex": [
       "$\\Gamma^{\\theta \\phi \\phi} = - \\frac{\\cos{\\left(\\theta \\right)}}{a^{3} \\sin^{3}{\\left(\\theta \\right)}}$"
      ],
      "text/plain": [
       "<IPython.core.display.Latex object>"
      ]
     },
     "metadata": {},
     "output_type": "display_data"
    },
    {
     "data": {
      "text/latex": [
       "$\\Gamma^{\\phi \\theta \\phi} = \\frac{\\cos{\\left(\\theta \\right)}}{a^{3} \\sin^{3}{\\left(\\theta \\right)}}$"
      ],
      "text/plain": [
       "<IPython.core.display.Latex object>"
      ]
     },
     "metadata": {},
     "output_type": "display_data"
    },
    {
     "data": {
      "text/latex": [
       "$\\Gamma^{\\phi \\phi \\theta} = \\frac{\\cos{\\left(\\theta \\right)}}{a^{3} \\sin^{3}{\\left(\\theta \\right)}}$"
      ],
      "text/plain": [
       "<IPython.core.display.Latex object>"
      ]
     },
     "metadata": {},
     "output_type": "display_data"
    }
   ],
   "source": [
    "cs.nonzero_christoffelsymbol(chris_symbol30) "
   ]
  },
  {
   "cell_type": "markdown",
   "metadata": {},
   "source": [
    "# Riemann Tensor"
   ]
  },
  {
   "cell_type": "code",
   "execution_count": 19,
   "metadata": {},
   "outputs": [
    {
     "data": {
      "image/png": "[encoded data removed]",
      "text/latex": [
       "$\\displaystyle \\left[\\begin{matrix}\\left[\\begin{matrix}0 & 0 & 0 & 0\\\\0 & 0 & 0 & 0\\\\0 & 0 & 0 & 0\\\\0 & 0 & 0 & 0\\end{matrix}\\right] & \\left[\\begin{matrix}0 & 0 & 0 & 0\\\\0 & 0 & 0 & 0\\\\0 & 0 & 0 & 0\\\\0 & 0 & 0 & 0\\end{matrix}\\right] & \\left[\\begin{matrix}0 & 0 & 0 & 0\\\\0 & 0 & 0 & 0\\\\0 & 0 & 0 & 0\\\\0 & 0 & 0 & 0\\end{matrix}\\right] & \\left[\\begin{matrix}0 & 0 & 0 & 0\\\\0 & 0 & 0 & 0\\\\0 & 0 & 0 & 0\\\\0 & 0 & 0 & 0\\end{matrix}\\right]\\\\\\left[\\begin{matrix}0 & 0 & 0 & 0\\\\0 & 0 & 0 & 0\\\\0 & 0 & 0 & 0\\\\0 & 0 & 0 & 0\\end{matrix}\\right] & \\left[\\begin{matrix}0 & 0 & 0 & 0\\\\0 & 0 & 0 & 0\\\\0 & 0 & 0 & 0\\\\0 & 0 & 0 & 0\\end{matrix}\\right] & \\left[\\begin{matrix}0 & 0 & 0 & 0\\\\0 & 0 & 0 & 0\\\\0 & 0 & 0 & 0\\\\0 & 0 & 0 & 0\\end{matrix}\\right] & \\left[\\begin{matrix}0 & 0 & 0 & 0\\\\0 & 0 & 0 & 0\\\\0 & 0 & 0 & 0\\\\0 & 0 & 0 & 0\\end{matrix}\\right]\\\\\\left[\\begin{matrix}0 & 0 & 0 & 0\\\\0 & 0 & 0 & 0\\\\0 & 0 & 0 & 0\\\\0 & 0 & 0 & 0\\end{matrix}\\right] & \\left[\\begin{matrix}0 & 0 & 0 & 0\\\\0 & 0 & 0 & 0\\\\0 & 0 & 0 & 0\\\\0 & 0 & 0 & 0\\end{matrix}\\right] & \\left[\\begin{matrix}0 & 0 & 0 & 0\\\\0 & 0 & 0 & 0\\\\0 & 0 & 0 & 0\\\\0 & 0 & 0 & - \\frac{\\sin^{2}{\\left(\\theta \\right)}}{a}\\end{matrix}\\right] & \\left[\\begin{matrix}0 & 0 & 0 & 0\\\\0 & 0 & 0 & 0\\\\0 & 0 & 0 & \\frac{\\sin^{2}{\\left(\\theta \\right)}}{a}\\\\0 & 0 & 0 & 0\\end{matrix}\\right]\\\\\\left[\\begin{matrix}0 & 0 & 0 & 0\\\\0 & 0 & 0 & 0\\\\0 & 0 & 0 & 0\\\\0 & 0 & 0 & 0\\end{matrix}\\right] & \\left[\\begin{matrix}0 & 0 & 0 & 0\\\\0 & 0 & 0 & 0\\\\0 & 0 & 0 & 0\\\\0 & 0 & 0 & 0\\end{matrix}\\right] & \\left[\\begin{matrix}0 & 0 & 0 & 0\\\\0 & 0 & 0 & 0\\\\0 & 0 & 0 & 0\\\\0 & 0 & 1 & 0\\end{matrix}\\right] & \\left[\\begin{matrix}0 & 0 & 0 & 0\\\\0 & 0 & 0 & 0\\\\0 & 0 & -1 & 0\\\\0 & 0 & 0 & 0\\end{matrix}\\right]\\end{matrix}\\right]$"
      ],
      "text/plain": [
       "⎡⎡0  0  0  0⎤  ⎡0  0  0  0⎤      ⎡0  0  0  0⎤         ⎡0  0  0  0⎤   ⎤\n",
       "⎢⎢          ⎥  ⎢          ⎥      ⎢          ⎥         ⎢          ⎥   ⎥\n",
       "⎢⎢0  0  0  0⎥  ⎢0  0  0  0⎥      ⎢0  0  0  0⎥         ⎢0  0  0  0⎥   ⎥\n",
       "⎢⎢          ⎥  ⎢          ⎥      ⎢          ⎥         ⎢          ⎥   ⎥\n",
       "⎢⎢0  0  0  0⎥  ⎢0  0  0  0⎥      ⎢0  0  0  0⎥         ⎢0  0  0  0⎥   ⎥\n",
       "⎢⎢          ⎥  ⎢          ⎥      ⎢          ⎥         ⎢          ⎥   ⎥\n",
       "⎢⎣0  0  0  0⎦  ⎣0  0  0  0⎦      ⎣0  0  0  0⎦         ⎣0  0  0  0⎦   ⎥\n",
       "⎢                                                                    ⎥\n",
       "⎢⎡0  0  0  0⎤  ⎡0  0  0  0⎤      ⎡0  0  0  0⎤         ⎡0  0  0  0⎤   ⎥\n",
       "⎢⎢          ⎥  ⎢          ⎥      ⎢          ⎥         ⎢          ⎥   ⎥\n",
       "⎢⎢0  0  0  0⎥  ⎢0  0  0  0⎥      ⎢0  0  0  0⎥         ⎢0  0  0  0⎥   ⎥\n",
       "⎢⎢          ⎥  ⎢          ⎥      ⎢          ⎥         ⎢          ⎥   ⎥\n",
       "⎢⎢0  0  0  0⎥  ⎢0  0  0  0⎥      ⎢0  0  0  0⎥         ⎢0  0  0  0⎥   ⎥\n",
       "⎢⎢          ⎥  ⎢          ⎥      ⎢          ⎥         ⎢          ⎥   ⎥\n",
       "⎢⎣0  0  0  0⎦  ⎣0  0  0  0⎦      ⎣0  0  0  0⎦         ⎣0  0  0  0⎦   ⎥\n",
       "⎢                                                                    ⎥\n",
       "⎢                            ⎡0  0  0      0    ⎤  ⎡0  0  0     0   ⎤⎥\n",
       "⎢                            ⎢                  ⎥  ⎢                ⎥⎥\n",
       "⎢⎡0  0  0  0⎤  ⎡0  0  0  0⎤  ⎢0  0  0      0    ⎥  ⎢0  0  0     0   ⎥⎥\n",
       "⎢⎢          ⎥  ⎢          ⎥  ⎢                  ⎥  ⎢                ⎥⎥\n",
       "⎢⎢0  0  0  0⎥  ⎢0  0  0  0⎥  ⎢0  0  0      0    ⎥  ⎢            2   ⎥⎥\n",
       "⎢⎢          ⎥  ⎢          ⎥  ⎢                  ⎥  ⎢         sin (θ)⎥⎥\n",
       "⎢⎢0  0  0  0⎥  ⎢0  0  0  0⎥  ⎢             2    ⎥  ⎢0  0  0  ───────⎥⎥\n",
       "⎢⎢          ⎥  ⎢          ⎥  ⎢         -sin (θ) ⎥  ⎢            a   ⎥⎥\n",
       "⎢⎣0  0  0  0⎦  ⎣0  0  0  0⎦  ⎢0  0  0  ─────────⎥  ⎢                ⎥⎥\n",
       "⎢                            ⎣             a    ⎦  ⎣0  0  0     0   ⎦⎥\n",
       "⎢                                                                    ⎥\n",
       "⎢⎡0  0  0  0⎤  ⎡0  0  0  0⎤      ⎡0  0  0  0⎤        ⎡0  0  0   0⎤   ⎥\n",
       "⎢⎢          ⎥  ⎢          ⎥      ⎢          ⎥        ⎢           ⎥   ⎥\n",
       "⎢⎢0  0  0  0⎥  ⎢0  0  0  0⎥      ⎢0  0  0  0⎥        ⎢0  0  0   0⎥   ⎥\n",
       "⎢⎢          ⎥  ⎢          ⎥      ⎢          ⎥        ⎢           ⎥   ⎥\n",
       "⎢⎢0  0  0  0⎥  ⎢0  0  0  0⎥      ⎢0  0  0  0⎥        ⎢0  0  -1  0⎥   ⎥\n",
       "⎢⎢          ⎥  ⎢          ⎥      ⎢          ⎥        ⎢           ⎥   ⎥\n",
       "⎣⎣0  0  0  0⎦  ⎣0  0  0  0⎦      ⎣0  0  1  0⎦        ⎣0  0  0   0⎦   ⎦"
      ]
     },
     "execution_count": 19,
     "metadata": {},
     "output_type": "execute_result"
    }
   ],
   "source": [
    "# Obtaining the Riemann Tensor\n",
    "rt = RiemannTensor(diag_comp, coord_sys)\n",
    "riemann_tensor = rt.get_riemanntensor()\n",
    "riemann_tensor"
   ]
  },
  {
   "cell_type": "code",
   "execution_count": 20,
   "metadata": {},
   "outputs": [
    {
     "data": {
      "text/plain": [
       "'uddd'"
      ]
     },
     "execution_count": 20,
     "metadata": {},
     "output_type": "execute_result"
    }
   ],
   "source": [
    "# Default type of the Riemann Tensor\n",
    "rt.get_riemanntensor_type()"
   ]
  },
  {
   "cell_type": "code",
   "execution_count": 21,
   "metadata": {},
   "outputs": [
    {
     "data": {
      "image/png": "[encoded data removed]",
      "text/latex": [
       "$\\displaystyle \\left[\\begin{matrix}\\left[\\begin{matrix}0 & 0 & 0 & 0\\\\0 & 0 & 0 & 0\\\\0 & 0 & 0 & 0\\\\0 & 0 & 0 & 0\\end{matrix}\\right] & \\left[\\begin{matrix}0 & 0 & 0 & 0\\\\0 & 0 & 0 & 0\\\\0 & 0 & 0 & 0\\\\0 & 0 & 0 & 0\\end{matrix}\\right] & \\left[\\begin{matrix}0 & 0 & 0 & 0\\\\0 & 0 & 0 & 0\\\\0 & 0 & 0 & 0\\\\0 & 0 & 0 & 0\\end{matrix}\\right] & \\left[\\begin{matrix}0 & 0 & 0 & 0\\\\0 & 0 & 0 & 0\\\\0 & 0 & 0 & 0\\\\0 & 0 & 0 & 0\\end{matrix}\\right]\\\\\\left[\\begin{matrix}0 & 0 & 0 & 0\\\\0 & 0 & 0 & 0\\\\0 & 0 & 0 & 0\\\\0 & 0 & 0 & 0\\end{matrix}\\right] & \\left[\\begin{matrix}0 & 0 & 0 & 0\\\\0 & 0 & 0 & 0\\\\0 & 0 & 0 & 0\\\\0 & 0 & 0 & 0\\end{matrix}\\right] & \\left[\\begin{matrix}0 & 0 & 0 & 0\\\\0 & 0 & 0 & 0\\\\0 & 0 & 0 & 0\\\\0 & 0 & 0 & 0\\end{matrix}\\right] & \\left[\\begin{matrix}0 & 0 & 0 & 0\\\\0 & 0 & 0 & 0\\\\0 & 0 & 0 & 0\\\\0 & 0 & 0 & 0\\end{matrix}\\right]\\\\\\left[\\begin{matrix}0 & 0 & 0 & 0\\\\0 & 0 & 0 & 0\\\\0 & 0 & 0 & 0\\\\0 & 0 & 0 & 0\\end{matrix}\\right] & \\left[\\begin{matrix}0 & 0 & 0 & 0\\\\0 & 0 & 0 & 0\\\\0 & 0 & 0 & 0\\\\0 & 0 & 0 & 0\\end{matrix}\\right] & \\left[\\begin{matrix}0 & 0 & 0 & 0\\\\0 & 0 & 0 & 0\\\\0 & 0 & 0 & 0\\\\0 & 0 & 0 & - a \\sin^{2}{\\left(\\theta \\right)}\\end{matrix}\\right] & \\left[\\begin{matrix}0 & 0 & 0 & 0\\\\0 & 0 & 0 & 0\\\\0 & 0 & 0 & a \\sin^{2}{\\left(\\theta \\right)}\\\\0 & 0 & 0 & 0\\end{matrix}\\right]\\\\\\left[\\begin{matrix}0 & 0 & 0 & 0\\\\0 & 0 & 0 & 0\\\\0 & 0 & 0 & 0\\\\0 & 0 & 0 & 0\\end{matrix}\\right] & \\left[\\begin{matrix}0 & 0 & 0 & 0\\\\0 & 0 & 0 & 0\\\\0 & 0 & 0 & 0\\\\0 & 0 & 0 & 0\\end{matrix}\\right] & \\left[\\begin{matrix}0 & 0 & 0 & 0\\\\0 & 0 & 0 & 0\\\\0 & 0 & 0 & 0\\\\0 & 0 & a \\sin^{2}{\\left(\\theta \\right)} & 0\\end{matrix}\\right] & \\left[\\begin{matrix}0 & 0 & 0 & 0\\\\0 & 0 & 0 & 0\\\\0 & 0 & - a \\sin^{2}{\\left(\\theta \\right)} & 0\\\\0 & 0 & 0 & 0\\end{matrix}\\right]\\end{matrix}\\right]$"
      ],
      "text/plain": [
       "⎡⎡0  0  0  0⎤  ⎡0  0  0  0⎤      ⎡0  0  0  0⎤           ⎡0  0  0  0⎤     ⎤\n",
       "⎢⎢          ⎥  ⎢          ⎥      ⎢          ⎥           ⎢          ⎥     ⎥\n",
       "⎢⎢0  0  0  0⎥  ⎢0  0  0  0⎥      ⎢0  0  0  0⎥           ⎢0  0  0  0⎥     ⎥\n",
       "⎢⎢          ⎥  ⎢          ⎥      ⎢          ⎥           ⎢          ⎥     ⎥\n",
       "⎢⎢0  0  0  0⎥  ⎢0  0  0  0⎥      ⎢0  0  0  0⎥           ⎢0  0  0  0⎥     ⎥\n",
       "⎢⎢          ⎥  ⎢          ⎥      ⎢          ⎥           ⎢          ⎥     ⎥\n",
       "⎢⎣0  0  0  0⎦  ⎣0  0  0  0⎦      ⎣0  0  0  0⎦           ⎣0  0  0  0⎦     ⎥\n",
       "⎢                                                                        ⎥\n",
       "⎢⎡0  0  0  0⎤  ⎡0  0  0  0⎤      ⎡0  0  0  0⎤           ⎡0  0  0  0⎤     ⎥\n",
       "⎢⎢          ⎥  ⎢          ⎥      ⎢          ⎥           ⎢          ⎥     ⎥\n",
       "⎢⎢0  0  0  0⎥  ⎢0  0  0  0⎥      ⎢0  0  0  0⎥           ⎢0  0  0  0⎥     ⎥\n",
       "⎢⎢          ⎥  ⎢          ⎥      ⎢          ⎥           ⎢          ⎥     ⎥\n",
       "⎢⎢0  0  0  0⎥  ⎢0  0  0  0⎥      ⎢0  0  0  0⎥           ⎢0  0  0  0⎥     ⎥\n",
       "⎢⎢          ⎥  ⎢          ⎥      ⎢          ⎥           ⎢          ⎥     ⎥\n",
       "⎢⎣0  0  0  0⎦  ⎣0  0  0  0⎦      ⎣0  0  0  0⎦           ⎣0  0  0  0⎦     ⎥\n",
       "⎢                                                                        ⎥\n",
       "⎢                            ⎡0  0  0      0     ⎤  ⎡0  0  0      0    ⎤ ⎥\n",
       "⎢⎡0  0  0  0⎤  ⎡0  0  0  0⎤  ⎢                   ⎥  ⎢                  ⎥ ⎥\n",
       "⎢⎢          ⎥  ⎢          ⎥  ⎢0  0  0      0     ⎥  ⎢0  0  0      0    ⎥ ⎥\n",
       "⎢⎢0  0  0  0⎥  ⎢0  0  0  0⎥  ⎢                   ⎥  ⎢                  ⎥ ⎥\n",
       "⎢⎢          ⎥  ⎢          ⎥  ⎢0  0  0      0     ⎥  ⎢              2   ⎥ ⎥\n",
       "⎢⎢0  0  0  0⎥  ⎢0  0  0  0⎥  ⎢                   ⎥  ⎢0  0  0  a⋅sin (θ)⎥ ⎥\n",
       "⎢⎢          ⎥  ⎢          ⎥  ⎢               2   ⎥  ⎢                  ⎥ ⎥\n",
       "⎢⎣0  0  0  0⎦  ⎣0  0  0  0⎦  ⎣0  0  0  -a⋅sin (θ)⎦  ⎣0  0  0      0    ⎦ ⎥\n",
       "⎢                                                                        ⎥\n",
       "⎢                            ⎡0  0      0      0⎤   ⎡0  0      0       0⎤⎥\n",
       "⎢⎡0  0  0  0⎤  ⎡0  0  0  0⎤  ⎢                  ⎥   ⎢                   ⎥⎥\n",
       "⎢⎢          ⎥  ⎢          ⎥  ⎢0  0      0      0⎥   ⎢0  0      0       0⎥⎥\n",
       "⎢⎢0  0  0  0⎥  ⎢0  0  0  0⎥  ⎢                  ⎥   ⎢                   ⎥⎥\n",
       "⎢⎢          ⎥  ⎢          ⎥  ⎢0  0      0      0⎥   ⎢            2      ⎥⎥\n",
       "⎢⎢0  0  0  0⎥  ⎢0  0  0  0⎥  ⎢                  ⎥   ⎢0  0  -a⋅sin (θ)  0⎥⎥\n",
       "⎢⎢          ⎥  ⎢          ⎥  ⎢           2      ⎥   ⎢                   ⎥⎥\n",
       "⎣⎣0  0  0  0⎦  ⎣0  0  0  0⎦  ⎣0  0  a⋅sin (θ)  0⎦   ⎣0  0      0       0⎦⎦"
      ]
     },
     "execution_count": 21,
     "metadata": {},
     "output_type": "execute_result"
    }
   ],
   "source": [
    "# Varying type 'uddd' Riemann Tensor to 'dddd'\n",
    "riemann_tensor04 = rt.vary_riemanntensor_type(riemann_tensor, 'dddd')\n",
    "riemann_tensor04"
   ]
  },
  {
   "cell_type": "code",
   "execution_count": 22,
   "metadata": {},
   "outputs": [
    {
     "data": {
      "text/plain": [
       "'dddd'"
      ]
     },
     "execution_count": 22,
     "metadata": {},
     "output_type": "execute_result"
    }
   ],
   "source": [
    "rt.get_riemanntensor_type()"
   ]
  },
  {
   "cell_type": "code",
   "execution_count": 23,
   "metadata": {},
   "outputs": [
    {
     "data": {
      "text/latex": [
       "$R_{\\theta \\theta \\phi \\phi} = - a \\sin^{2}{\\left(\\theta \\right)}$"
      ],
      "text/plain": [
       "<IPython.core.display.Latex object>"
      ]
     },
     "metadata": {},
     "output_type": "display_data"
    },
    {
     "data": {
      "text/latex": [
       "$R_{\\theta \\phi \\theta \\phi} = a \\sin^{2}{\\left(\\theta \\right)}$"
      ],
      "text/plain": [
       "<IPython.core.display.Latex object>"
      ]
     },
     "metadata": {},
     "output_type": "display_data"
    },
    {
     "data": {
      "text/latex": [
       "$R_{\\phi \\theta \\phi \\theta} = a \\sin^{2}{\\left(\\theta \\right)}$"
      ],
      "text/plain": [
       "<IPython.core.display.Latex object>"
      ]
     },
     "metadata": {},
     "output_type": "display_data"
    },
    {
     "data": {
      "text/latex": [
       "$R_{\\phi \\phi \\theta \\theta} = - a \\sin^{2}{\\left(\\theta \\right)}$"
      ],
      "text/plain": [
       "<IPython.core.display.Latex object>"
      ]
     },
     "metadata": {},
     "output_type": "display_data"
    }
   ],
   "source": [
    "rt.nonzero_riemanntensor(riemann_tensor04)"
   ]
  },
  {
   "cell_type": "markdown",
   "metadata": {},
   "source": [
    "# Ricci Tensor"
   ]
  },
  {
   "cell_type": "code",
   "execution_count": 24,
   "metadata": {},
   "outputs": [
    {
     "data": {
      "image/png": "[encoded data removed]",
      "text/latex": [
       "$\\displaystyle \\left[\\begin{matrix}0 & 0 & 0 & 0\\\\0 & 0 & 0 & 0\\\\0 & 0 & 1 & 0\\\\0 & 0 & 0 & \\frac{\\sin^{2}{\\left(\\theta \\right)}}{a}\\end{matrix}\\right]$"
      ],
      "text/plain": [
       "⎡0  0  0     0   ⎤\n",
       "⎢                ⎥\n",
       "⎢0  0  0     0   ⎥\n",
       "⎢                ⎥\n",
       "⎢0  0  1     0   ⎥\n",
       "⎢                ⎥\n",
       "⎢            2   ⎥\n",
       "⎢         sin (θ)⎥\n",
       "⎢0  0  0  ───────⎥\n",
       "⎣            a   ⎦"
      ]
     },
     "execution_count": 24,
     "metadata": {},
     "output_type": "execute_result"
    }
   ],
   "source": [
    "# Obtaining the Ricci Tensor\n",
    "rit = RicciTensor(diag_comp, coord_sys)\n",
    "ricci_tensor = rit.get_riccitensor()\n",
    "ricci_tensor"
   ]
  },
  {
   "cell_type": "code",
   "execution_count": 25,
   "metadata": {},
   "outputs": [
    {
     "data": {
      "text/plain": [
       "'dd'"
      ]
     },
     "execution_count": 25,
     "metadata": {},
     "output_type": "execute_result"
    }
   ],
   "source": [
    "# Default type of the Ricci Tensor\n",
    "rit.get_riccitensor_type()"
   ]
  },
  {
   "cell_type": "code",
   "execution_count": 26,
   "metadata": {},
   "outputs": [
    {
     "data": {
      "image/png": "[encoded data removed]",
      "text/latex": [
       "$\\displaystyle \\left[\\begin{matrix}0 & 0 & 0 & 0\\\\0 & 0 & 0 & 0\\\\0 & 0 & \\frac{1}{a^{4}} & 0\\\\0 & 0 & 0 & \\frac{1}{a^{3} \\sin^{2}{\\left(\\theta \\right)}}\\end{matrix}\\right]$"
      ],
      "text/plain": [
       "⎡0  0  0       0     ⎤\n",
       "⎢                    ⎥\n",
       "⎢0  0  0       0     ⎥\n",
       "⎢                    ⎥\n",
       "⎢      1             ⎥\n",
       "⎢0  0  ──      0     ⎥\n",
       "⎢       4            ⎥\n",
       "⎢      a             ⎥\n",
       "⎢                    ⎥\n",
       "⎢              1     ⎥\n",
       "⎢0  0  0   ──────────⎥\n",
       "⎢           3    2   ⎥\n",
       "⎣          a ⋅sin (θ)⎦"
      ]
     },
     "execution_count": 26,
     "metadata": {},
     "output_type": "execute_result"
    }
   ],
   "source": [
    "# Varying type 'dd' Ricci Tensor to 'uu'\n",
    "rit.vary_riccitensor_type(ricci_tensor, 'uu')"
   ]
  },
  {
   "cell_type": "code",
   "execution_count": 27,
   "metadata": {},
   "outputs": [
    {
     "data": {
      "text/plain": [
       "'uu'"
      ]
     },
     "execution_count": 27,
     "metadata": {},
     "output_type": "execute_result"
    }
   ],
   "source": [
    "rit.get_riccitensor_type()"
   ]
  },
  {
   "cell_type": "markdown",
   "metadata": {},
   "source": [
    "# Ricci Scalar"
   ]
  },
  {
   "cell_type": "code",
   "execution_count": 28,
   "metadata": {},
   "outputs": [
    {
     "data": {
      "image/png": "[encoded data removed]",
      "text/latex": [
       "$\\displaystyle \\frac{2}{a^{2}}$"
      ],
      "text/plain": [
       "2 \n",
       "──\n",
       " 2\n",
       "a "
      ]
     },
     "execution_count": 28,
     "metadata": {},
     "output_type": "execute_result"
    }
   ],
   "source": [
    "# Obtaining the Ricci Scalar\n",
    "rs = RicciScalar(diag_comp, coord_sys)\n",
    "ricci_scalar = rs.get_ricciscalar()\n",
    "ricci_scalar"
   ]
  },
  {
   "cell_type": "markdown",
   "metadata": {},
   "source": [
    "# Traceless Ricci Tensor"
   ]
  },
  {
   "cell_type": "code",
   "execution_count": 29,
   "metadata": {},
   "outputs": [
    {
     "data": {
      "image/png": "[encoded data removed]",
      "text/latex": [
       "$\\displaystyle \\left[\\begin{matrix}\\frac{1}{2 a^{2}} & 0 & 0 & 0\\\\0 & - \\frac{1}{2 a^{3}} & 0 & 0\\\\0 & 0 & \\frac{1}{2} & 0\\\\0 & 0 & 0 & \\frac{\\sin^{2}{\\left(\\theta \\right)}}{2 a}\\end{matrix}\\right]$"
      ],
      "text/plain": [
       "⎡ 1                      ⎤\n",
       "⎢────   0     0      0   ⎥\n",
       "⎢   2                    ⎥\n",
       "⎢2⋅a                     ⎥\n",
       "⎢                        ⎥\n",
       "⎢      -1                ⎥\n",
       "⎢ 0    ────   0      0   ⎥\n",
       "⎢         3              ⎥\n",
       "⎢      2⋅a               ⎥\n",
       "⎢                        ⎥\n",
       "⎢ 0     0    1/2     0   ⎥\n",
       "⎢                        ⎥\n",
       "⎢                    2   ⎥\n",
       "⎢                 sin (θ)⎥\n",
       "⎢ 0     0     0   ───────⎥\n",
       "⎣                   2⋅a  ⎦"
      ]
     },
     "execution_count": 29,
     "metadata": {},
     "output_type": "execute_result"
    }
   ],
   "source": [
    "# Obtaining the Traceless Ricci Tensor\n",
    "trt = TracelessRicciTensor(diag_comp, coord_sys)\n",
    "tracless_ricci_tensor = trt.get_trclss_riccitensor()\n",
    "tracless_ricci_tensor "
   ]
  },
  {
   "cell_type": "code",
   "execution_count": 30,
   "metadata": {},
   "outputs": [
    {
     "data": {
      "text/plain": [
       "'dd'"
      ]
     },
     "execution_count": 30,
     "metadata": {},
     "output_type": "execute_result"
    }
   ],
   "source": [
    "# Default type of the Traceless Ricci Tensor\n",
    "trt.get_trclss_riccitensor_type()"
   ]
  },
  {
   "cell_type": "code",
   "execution_count": 31,
   "metadata": {},
   "outputs": [
    {
     "data": {
      "image/png": "[encoded data removed]",
      "text/latex": [
       "$\\displaystyle \\left[\\begin{matrix}\\frac{1}{2 a^{2}} & 0 & 0 & 0\\\\0 & - \\frac{1}{2 a} & 0 & 0\\\\0 & 0 & \\frac{1}{2 a^{4}} & 0\\\\0 & 0 & 0 & \\frac{1}{2 a^{3} \\sin^{2}{\\left(\\theta \\right)}}\\end{matrix}\\right]$"
      ],
      "text/plain": [
       "⎡ 1                           ⎤\n",
       "⎢────   0    0         0      ⎥\n",
       "⎢   2                         ⎥\n",
       "⎢2⋅a                          ⎥\n",
       "⎢                             ⎥\n",
       "⎢      -1                     ⎥\n",
       "⎢ 0    ───   0         0      ⎥\n",
       "⎢      2⋅a                    ⎥\n",
       "⎢                             ⎥\n",
       "⎢            1                ⎥\n",
       "⎢ 0     0   ────       0      ⎥\n",
       "⎢              4              ⎥\n",
       "⎢           2⋅a               ⎥\n",
       "⎢                             ⎥\n",
       "⎢                      1      ⎥\n",
       "⎢ 0     0    0    ────────────⎥\n",
       "⎢                    3    2   ⎥\n",
       "⎣                 2⋅a ⋅sin (θ)⎦"
      ]
     },
     "execution_count": 31,
     "metadata": {},
     "output_type": "execute_result"
    }
   ],
   "source": [
    "# Varying type 'dd' Traceless Ricci Tensor to 'uu'\n",
    "trt.vary_trclss_riccitensor_type(tracless_ricci_tensor, 'uu')"
   ]
  },
  {
   "cell_type": "code",
   "execution_count": 32,
   "metadata": {},
   "outputs": [
    {
     "data": {
      "text/plain": [
       "'uu'"
      ]
     },
     "execution_count": 32,
     "metadata": {},
     "output_type": "execute_result"
    }
   ],
   "source": [
    "trt.get_trclss_riccitensor_type()"
   ]
  },
  {
   "cell_type": "markdown",
   "metadata": {},
   "source": [
    "# Weyl Tensor"
   ]
  },
  {
   "cell_type": "code",
   "execution_count": 33,
   "metadata": {},
   "outputs": [
    {
     "data": {
      "image/png": "[encoded data removed]",
      "text/latex": [
       "$\\displaystyle \\left[\\begin{matrix}\\left[\\begin{matrix}0 & 0 & 0 & 0\\\\0 & 0 & 0 & 0\\\\0 & 0 & 0 & 0\\\\0 & 0 & 0 & 0\\end{matrix}\\right] & \\left[\\begin{matrix}0 & - \\frac{1}{3 a^{3}} & 0 & 0\\\\\\frac{1}{3 a^{3}} & 0 & 0 & 0\\\\0 & 0 & 0 & 0\\\\0 & 0 & 0 & 0\\end{matrix}\\right] & \\left[\\begin{matrix}0 & 0 & \\frac{1}{6} & 0\\\\0 & 0 & 0 & 0\\\\- \\frac{1}{6} & 0 & 0 & 0\\\\0 & 0 & 0 & 0\\end{matrix}\\right] & \\left[\\begin{matrix}0 & 0 & 0 & \\frac{\\sin^{2}{\\left(\\theta \\right)}}{6 a}\\\\0 & 0 & 0 & 0\\\\0 & 0 & 0 & 0\\\\- \\frac{\\sin^{2}{\\left(\\theta \\right)}}{6 a} & 0 & 0 & 0\\end{matrix}\\right]\\\\\\left[\\begin{matrix}0 & \\frac{1}{3 a^{3}} & 0 & 0\\\\- \\frac{1}{3 a^{3}} & 0 & 0 & 0\\\\0 & 0 & 0 & 0\\\\0 & 0 & 0 & 0\\end{matrix}\\right] & \\left[\\begin{matrix}0 & 0 & 0 & 0\\\\0 & 0 & 0 & 0\\\\0 & 0 & 0 & 0\\\\0 & 0 & 0 & 0\\end{matrix}\\right] & \\left[\\begin{matrix}0 & 0 & 0 & 0\\\\0 & 0 & - \\frac{1}{6 a} & 0\\\\0 & \\frac{1}{6 a} & 0 & 0\\\\0 & 0 & 0 & 0\\end{matrix}\\right] & \\left[\\begin{matrix}0 & 0 & 0 & 0\\\\0 & 0 & 0 & - \\frac{\\sin^{2}{\\left(\\theta \\right)}}{6 a^{2}}\\\\0 & 0 & 0 & 0\\\\0 & \\frac{\\sin^{2}{\\left(\\theta \\right)}}{6 a^{2}} & 0 & 0\\end{matrix}\\right]\\\\\\left[\\begin{matrix}0 & 0 & - \\frac{1}{6} & 0\\\\0 & 0 & 0 & 0\\\\\\frac{1}{6} & 0 & 0 & 0\\\\0 & 0 & 0 & 0\\end{matrix}\\right] & \\left[\\begin{matrix}0 & 0 & 0 & 0\\\\0 & 0 & \\frac{1}{6 a} & 0\\\\0 & - \\frac{1}{6 a} & 0 & 0\\\\0 & 0 & 0 & 0\\end{matrix}\\right] & \\left[\\begin{matrix}0 & 0 & 0 & 0\\\\0 & 0 & 0 & 0\\\\0 & 0 & 0 & 0\\\\0 & 0 & 0 & - a \\sin^{2}{\\left(\\theta \\right)}\\end{matrix}\\right] & \\left[\\begin{matrix}0 & 0 & 0 & 0\\\\0 & 0 & 0 & 0\\\\0 & 0 & 0 & \\frac{a \\sin^{2}{\\left(\\theta \\right)}}{3}\\\\0 & 0 & \\frac{2 a \\sin^{2}{\\left(\\theta \\right)}}{3} & 0\\end{matrix}\\right]\\\\\\left[\\begin{matrix}0 & 0 & 0 & - \\frac{\\sin^{2}{\\left(\\theta \\right)}}{6 a}\\\\0 & 0 & 0 & 0\\\\0 & 0 & 0 & 0\\\\\\frac{\\sin^{2}{\\left(\\theta \\right)}}{6 a} & 0 & 0 & 0\\end{matrix}\\right] & \\left[\\begin{matrix}0 & 0 & 0 & 0\\\\0 & 0 & 0 & \\frac{\\sin^{2}{\\left(\\theta \\right)}}{6 a^{2}}\\\\0 & 0 & 0 & 0\\\\0 & - \\frac{\\sin^{2}{\\left(\\theta \\right)}}{6 a^{2}} & 0 & 0\\end{matrix}\\right] & \\left[\\begin{matrix}0 & 0 & 0 & 0\\\\0 & 0 & 0 & 0\\\\0 & 0 & 0 & \\frac{2 a \\sin^{2}{\\left(\\theta \\right)}}{3}\\\\0 & 0 & \\frac{a \\sin^{2}{\\left(\\theta \\right)}}{3} & 0\\end{matrix}\\right] & \\left[\\begin{matrix}0 & 0 & 0 & 0\\\\0 & 0 & 0 & 0\\\\0 & 0 & - a \\sin^{2}{\\left(\\theta \\right)} & 0\\\\0 & 0 & 0 & 0\\end{matrix}\\right]\\end{matrix}\\right]$"
      ],
      "text/plain": [
       "⎡                                ⎡      -1        ⎤                           \n",
       "⎢                                ⎢ 0    ────  0  0⎥                           \n",
       "⎢                                ⎢         3      ⎥                           \n",
       "⎢       ⎡0  0  0  0⎤             ⎢      3⋅a       ⎥            ⎡ 0    0  1/6  \n",
       "⎢       ⎢          ⎥             ⎢                ⎥            ⎢              \n",
       "⎢       ⎢0  0  0  0⎥             ⎢ 1              ⎥            ⎢ 0    0   0   \n",
       "⎢       ⎢          ⎥             ⎢────   0    0  0⎥            ⎢              \n",
       "⎢       ⎢0  0  0  0⎥             ⎢   3            ⎥            ⎢-1/6  0   0   \n",
       "⎢       ⎢          ⎥             ⎢3⋅a             ⎥            ⎢              \n",
       "⎢       ⎣0  0  0  0⎦             ⎢                ⎥            ⎣ 0    0   0   \n",
       "⎢                                ⎢ 0     0    0  0⎥                           \n",
       "⎢                                ⎢                ⎥                           \n",
       "⎢                                ⎣ 0     0    0  0⎦                           \n",
       "⎢                                                                             \n",
       "⎢                                                                             \n",
       "⎢    ⎡       1        ⎤                                                       \n",
       "⎢    ⎢ 0    ────  0  0⎥                                         ⎡0   0    0   \n",
       "⎢    ⎢         3      ⎥                                         ⎢             \n",
       "⎢    ⎢      3⋅a       ⎥             ⎡0  0  0  0⎤                ⎢        -1   \n",
       "⎢    ⎢                ⎥             ⎢          ⎥                ⎢0   0   ───  \n",
       "⎢    ⎢-1              ⎥             ⎢0  0  0  0⎥                ⎢        6⋅a  \n",
       "⎢    ⎢────   0    0  0⎥             ⎢          ⎥                ⎢             \n",
       "⎢    ⎢   3            ⎥             ⎢0  0  0  0⎥                ⎢    1        \n",
       "⎢    ⎢3⋅a             ⎥             ⎢          ⎥                ⎢0  ───   0   \n",
       "⎢    ⎢                ⎥             ⎣0  0  0  0⎦                ⎢   6⋅a       \n",
       "⎢    ⎢ 0     0    0  0⎥                                         ⎢             \n",
       "⎢    ⎢                ⎥                                         ⎣0   0    0   \n",
       "⎢    ⎣ 0     0    0  0⎦                                                       \n",
       "⎢                                                                             \n",
       "⎢                                                                             \n",
       "⎢                                                                             \n",
       "⎢                                 ⎡0   0    0   0⎤                            \n",
       "⎢                                 ⎢              ⎥           ⎡0  0  0      0  \n",
       "⎢    ⎡ 0   0  -1/6  0⎤            ⎢         1    ⎥           ⎢                \n",
       "⎢    ⎢               ⎥            ⎢0   0   ───  0⎥           ⎢0  0  0      0  \n",
       "⎢    ⎢ 0   0   0    0⎥            ⎢        6⋅a   ⎥           ⎢                \n",
       "⎢    ⎢               ⎥            ⎢              ⎥           ⎢0  0  0      0  \n",
       "⎢    ⎢1/6  0   0    0⎥            ⎢   -1         ⎥           ⎢                \n",
       "⎢    ⎢               ⎥            ⎢0  ───   0   0⎥           ⎢               2\n",
       "⎢    ⎣ 0   0   0    0⎦            ⎢   6⋅a        ⎥           ⎣0  0  0  -a⋅sin \n",
       "⎢                                 ⎢              ⎥                            \n",
       "⎢                                 ⎣0   0    0   0⎦                            \n",
       "⎢                                                                             \n",
       "⎢                                                                             \n",
       "⎢                            ⎡0      0      0     0   ⎤                       \n",
       "⎢⎡                   2    ⎤  ⎢                        ⎥  ⎡0  0      0         \n",
       "⎢⎢               -sin (θ) ⎥  ⎢                    2   ⎥  ⎢                    \n",
       "⎢⎢   0     0  0  ─────────⎥  ⎢                 sin (θ)⎥  ⎢0  0      0         \n",
       "⎢⎢                  6⋅a   ⎥  ⎢0      0      0  ───────⎥  ⎢                    \n",
       "⎢⎢                        ⎥  ⎢                      2 ⎥  ⎢                    \n",
       "⎢⎢   0     0  0      0    ⎥  ⎢                   6⋅a  ⎥  ⎢                 2⋅a\n",
       "⎢⎢                        ⎥  ⎢                        ⎥  ⎢0  0      0      ───\n",
       "⎢⎢   0     0  0      0    ⎥  ⎢0      0      0     0   ⎥  ⎢                    \n",
       "⎢⎢                        ⎥  ⎢                        ⎥  ⎢                    \n",
       "⎢⎢   2                    ⎥  ⎢       2                ⎥  ⎢           2        \n",
       "⎢⎢sin (θ)                 ⎥  ⎢   -sin (θ)             ⎥  ⎢      a⋅sin (θ)     \n",
       "⎢⎢───────  0  0      0    ⎥  ⎢0  ─────────  0     0   ⎥  ⎢0  0  ─────────     \n",
       "⎢⎣  6⋅a                   ⎦  ⎢         2              ⎥  ⎣          3         \n",
       "⎣                            ⎣      6⋅a               ⎦                       \n",
       "\n",
       "             ⎡                    2   ⎤  ⎤\n",
       "             ⎢                 sin (θ)⎥  ⎥\n",
       "             ⎢    0      0  0  ───────⎥  ⎥\n",
       "0⎤           ⎢                   6⋅a  ⎥  ⎥\n",
       " ⎥           ⎢                        ⎥  ⎥\n",
       "0⎥           ⎢    0      0  0     0   ⎥  ⎥\n",
       " ⎥           ⎢                        ⎥  ⎥\n",
       "0⎥           ⎢    0      0  0     0   ⎥  ⎥\n",
       " ⎥           ⎢                        ⎥  ⎥\n",
       "0⎦           ⎢    2                   ⎥  ⎥\n",
       "             ⎢-sin (θ)                ⎥  ⎥\n",
       "             ⎢─────────  0  0     0   ⎥  ⎥\n",
       "             ⎣   6⋅a                  ⎦  ⎥\n",
       "                                         ⎥\n",
       "             ⎡0     0     0      0    ⎤  ⎥\n",
       "             ⎢                        ⎥  ⎥\n",
       "0⎤           ⎢                   2    ⎥  ⎥\n",
       " ⎥           ⎢               -sin (θ) ⎥  ⎥\n",
       " ⎥           ⎢0     0     0  ─────────⎥  ⎥\n",
       "0⎥           ⎢                     2  ⎥  ⎥\n",
       " ⎥           ⎢                  6⋅a   ⎥  ⎥\n",
       " ⎥           ⎢                        ⎥  ⎥\n",
       " ⎥           ⎢0     0     0      0    ⎥  ⎥\n",
       "0⎥           ⎢                        ⎥  ⎥\n",
       " ⎥           ⎢      2                 ⎥  ⎥\n",
       " ⎥           ⎢   sin (θ)              ⎥  ⎥\n",
       "0⎦           ⎢0  ───────  0      0    ⎥  ⎥\n",
       "             ⎢        2               ⎥  ⎥\n",
       "             ⎣     6⋅a                ⎦  ⎥\n",
       "                                         ⎥\n",
       "           ⎡0  0       0           0    ⎤⎥\n",
       "           ⎢                            ⎥⎥\n",
       "   ⎤       ⎢0  0       0           0    ⎥⎥\n",
       "   ⎥       ⎢                            ⎥⎥\n",
       "   ⎥       ⎢                        2   ⎥⎥\n",
       "   ⎥       ⎢                   a⋅sin (θ)⎥⎥\n",
       "   ⎥       ⎢0  0       0       ─────────⎥⎥\n",
       "   ⎥       ⎢                       3    ⎥⎥\n",
       "   ⎥       ⎢                            ⎥⎥\n",
       "(θ)⎦       ⎢             2              ⎥⎥\n",
       "           ⎢      2⋅a⋅sin (θ)           ⎥⎥\n",
       "           ⎢0  0  ───────────      0    ⎥⎥\n",
       "           ⎣           3                ⎦⎥\n",
       "                                         ⎥\n",
       "                                         ⎥\n",
       "  0     ⎤                                ⎥\n",
       "        ⎥                                ⎥\n",
       "  0     ⎥      ⎡0  0      0       0⎤     ⎥\n",
       "        ⎥      ⎢                   ⎥     ⎥\n",
       "    2   ⎥      ⎢0  0      0       0⎥     ⎥\n",
       "⋅sin (θ)⎥      ⎢                   ⎥     ⎥\n",
       "────────⎥      ⎢            2      ⎥     ⎥\n",
       "  3     ⎥      ⎢0  0  -a⋅sin (θ)  0⎥     ⎥\n",
       "        ⎥      ⎢                   ⎥     ⎥\n",
       "        ⎥      ⎣0  0      0       0⎦     ⎥\n",
       "        ⎥                                ⎥\n",
       "  0     ⎥                                ⎥\n",
       "        ⎦                                ⎥\n",
       "                                         ⎦"
      ]
     },
     "execution_count": 33,
     "metadata": {},
     "output_type": "execute_result"
    }
   ],
   "source": [
    "# Obtaining the Weyl Tensor\n",
    "wyl = WeylTensor(diag_comp, coord_sys)\n",
    "weyl_tensor = wyl.get_weyltensor()\n",
    "weyl_tensor"
   ]
  },
  {
   "cell_type": "code",
   "execution_count": 34,
   "metadata": {},
   "outputs": [
    {
     "data": {
      "text/plain": [
       "'dddd'"
      ]
     },
     "execution_count": 34,
     "metadata": {},
     "output_type": "execute_result"
    }
   ],
   "source": [
    "# Default type of the Weyl Tensor\n",
    "wyl.get_weyltensor_type()"
   ]
  },
  {
   "cell_type": "code",
   "execution_count": 35,
   "metadata": {},
   "outputs": [
    {
     "data": {
      "image/png": "[encoded data removed]",
      "text/latex": [
       "$\\displaystyle \\left[\\begin{matrix}\\left[\\begin{matrix}0 & 0 & 0 & 0\\\\0 & 0 & 0 & 0\\\\0 & 0 & 0 & 0\\\\0 & 0 & 0 & 0\\end{matrix}\\right] & \\left[\\begin{matrix}0 & - \\frac{1}{3 a} & 0 & 0\\\\\\frac{1}{3 a} & 0 & 0 & 0\\\\0 & 0 & 0 & 0\\\\0 & 0 & 0 & 0\\end{matrix}\\right] & \\left[\\begin{matrix}0 & 0 & \\frac{1}{6 a^{4}} & 0\\\\0 & 0 & 0 & 0\\\\- \\frac{1}{6 a^{4}} & 0 & 0 & 0\\\\0 & 0 & 0 & 0\\end{matrix}\\right] & \\left[\\begin{matrix}0 & 0 & 0 & \\frac{1}{6 a^{3} \\sin^{2}{\\left(\\theta \\right)}}\\\\0 & 0 & 0 & 0\\\\0 & 0 & 0 & 0\\\\- \\frac{1}{6 a^{3} \\sin^{2}{\\left(\\theta \\right)}} & 0 & 0 & 0\\end{matrix}\\right]\\\\\\left[\\begin{matrix}0 & \\frac{1}{3 a} & 0 & 0\\\\- \\frac{1}{3 a} & 0 & 0 & 0\\\\0 & 0 & 0 & 0\\\\0 & 0 & 0 & 0\\end{matrix}\\right] & \\left[\\begin{matrix}0 & 0 & 0 & 0\\\\0 & 0 & 0 & 0\\\\0 & 0 & 0 & 0\\\\0 & 0 & 0 & 0\\end{matrix}\\right] & \\left[\\begin{matrix}0 & 0 & 0 & 0\\\\0 & 0 & - \\frac{1}{6 a^{3}} & 0\\\\0 & \\frac{1}{6 a^{3}} & 0 & 0\\\\0 & 0 & 0 & 0\\end{matrix}\\right] & \\left[\\begin{matrix}0 & 0 & 0 & 0\\\\0 & 0 & 0 & - \\frac{1}{6 a^{2} \\sin^{2}{\\left(\\theta \\right)}}\\\\0 & 0 & 0 & 0\\\\0 & \\frac{1}{6 a^{2} \\sin^{2}{\\left(\\theta \\right)}} & 0 & 0\\end{matrix}\\right]\\\\\\left[\\begin{matrix}0 & 0 & - \\frac{1}{6 a^{4}} & 0\\\\0 & 0 & 0 & 0\\\\\\frac{1}{6 a^{4}} & 0 & 0 & 0\\\\0 & 0 & 0 & 0\\end{matrix}\\right] & \\left[\\begin{matrix}0 & 0 & 0 & 0\\\\0 & 0 & \\frac{1}{6 a^{3}} & 0\\\\0 & - \\frac{1}{6 a^{3}} & 0 & 0\\\\0 & 0 & 0 & 0\\end{matrix}\\right] & \\left[\\begin{matrix}0 & 0 & 0 & 0\\\\0 & 0 & 0 & 0\\\\0 & 0 & 0 & 0\\\\0 & 0 & 0 & - \\frac{1}{a^{5} \\sin^{2}{\\left(\\theta \\right)}}\\end{matrix}\\right] & \\left[\\begin{matrix}0 & 0 & 0 & 0\\\\0 & 0 & 0 & 0\\\\0 & 0 & 0 & \\frac{1}{3 a^{5} \\sin^{2}{\\left(\\theta \\right)}}\\\\0 & 0 & \\frac{2}{3 a^{5} \\sin^{2}{\\left(\\theta \\right)}} & 0\\end{matrix}\\right]\\\\\\left[\\begin{matrix}0 & 0 & 0 & - \\frac{1}{6 a^{3} \\sin^{2}{\\left(\\theta \\right)}}\\\\0 & 0 & 0 & 0\\\\0 & 0 & 0 & 0\\\\\\frac{1}{6 a^{3} \\sin^{2}{\\left(\\theta \\right)}} & 0 & 0 & 0\\end{matrix}\\right] & \\left[\\begin{matrix}0 & 0 & 0 & 0\\\\0 & 0 & 0 & \\frac{1}{6 a^{2} \\sin^{2}{\\left(\\theta \\right)}}\\\\0 & 0 & 0 & 0\\\\0 & - \\frac{1}{6 a^{2} \\sin^{2}{\\left(\\theta \\right)}} & 0 & 0\\end{matrix}\\right] & \\left[\\begin{matrix}0 & 0 & 0 & 0\\\\0 & 0 & 0 & 0\\\\0 & 0 & 0 & \\frac{2}{3 a^{5} \\sin^{2}{\\left(\\theta \\right)}}\\\\0 & 0 & \\frac{1}{3 a^{5} \\sin^{2}{\\left(\\theta \\right)}} & 0\\end{matrix}\\right] & \\left[\\begin{matrix}0 & 0 & 0 & 0\\\\0 & 0 & 0 & 0\\\\0 & 0 & - \\frac{1}{a^{5} \\sin^{2}{\\left(\\theta \\right)}} & 0\\\\0 & 0 & 0 & 0\\end{matrix}\\right]\\end{matrix}\\right]$"
      ],
      "text/plain": [
       "⎡                                                                             \n",
       "⎢                                             ⎡     -1       ⎤                \n",
       "⎢                                             ⎢ 0   ───  0  0⎥                \n",
       "⎢           ⎡0  0  0  0⎤                      ⎢     3⋅a      ⎥                \n",
       "⎢           ⎢          ⎥                      ⎢              ⎥                \n",
       "⎢           ⎢0  0  0  0⎥                      ⎢ 1            ⎥                \n",
       "⎢           ⎢          ⎥                      ⎢───   0   0  0⎥                \n",
       "⎢           ⎢0  0  0  0⎥                      ⎢3⋅a           ⎥                \n",
       "⎢           ⎢          ⎥                      ⎢              ⎥                \n",
       "⎢           ⎣0  0  0  0⎦                      ⎢ 0    0   0  0⎥                \n",
       "⎢                                             ⎢              ⎥                \n",
       "⎢                                             ⎣ 0    0   0  0⎦                \n",
       "⎢                                                                             \n",
       "⎢                                                                             \n",
       "⎢                                                                             \n",
       "⎢         ⎡      1       ⎤                                                    \n",
       "⎢         ⎢ 0   ───  0  0⎥                                                    \n",
       "⎢         ⎢     3⋅a      ⎥                      ⎡0  0  0  0⎤                  \n",
       "⎢         ⎢              ⎥                      ⎢          ⎥                  \n",
       "⎢         ⎢-1            ⎥                      ⎢0  0  0  0⎥                  \n",
       "⎢         ⎢───   0   0  0⎥                      ⎢          ⎥                  \n",
       "⎢         ⎢3⋅a           ⎥                      ⎢0  0  0  0⎥                  \n",
       "⎢         ⎢              ⎥                      ⎢          ⎥                  \n",
       "⎢         ⎢ 0    0   0  0⎥                      ⎣0  0  0  0⎦                  \n",
       "⎢         ⎢              ⎥                                                    \n",
       "⎢         ⎣ 0    0   0  0⎦                                                    \n",
       "⎢                                                                             \n",
       "⎢                                                                             \n",
       "⎢        ⎡         -1     ⎤                  ⎡0   0     0    0⎤               \n",
       "⎢        ⎢ 0    0  ────  0⎥                  ⎢                ⎥               \n",
       "⎢        ⎢            4   ⎥                  ⎢          1     ⎥               \n",
       "⎢        ⎢         6⋅a    ⎥                  ⎢0   0    ────  0⎥               \n",
       "⎢        ⎢                ⎥                  ⎢            3   ⎥               \n",
       "⎢        ⎢ 0    0   0    0⎥                  ⎢         6⋅a    ⎥               \n",
       "⎢        ⎢                ⎥                  ⎢                ⎥               \n",
       "⎢        ⎢ 1              ⎥                  ⎢   -1           ⎥               \n",
       "⎢        ⎢────  0   0    0⎥                  ⎢0  ────   0    0⎥               \n",
       "⎢        ⎢   4            ⎥                  ⎢      3         ⎥               \n",
       "⎢        ⎢6⋅a             ⎥                  ⎢   6⋅a          ⎥               \n",
       "⎢        ⎢                ⎥                  ⎢                ⎥               \n",
       "⎢        ⎣ 0    0   0    0⎦                  ⎣0   0     0    0⎦               \n",
       "⎢                                                                             \n",
       "⎢⎡                        -1      ⎤  ⎡0       0        0       0      ⎤  ⎡0  0\n",
       "⎢⎢     0        0  0  ────────────⎥  ⎢                                ⎥  ⎢    \n",
       "⎢⎢                       3    2   ⎥  ⎢                         1      ⎥  ⎢0  0\n",
       "⎢⎢                    6⋅a ⋅sin (θ)⎥  ⎢0       0        0  ────────────⎥  ⎢    \n",
       "⎢⎢                                ⎥  ⎢                       2    2   ⎥  ⎢    \n",
       "⎢⎢     0        0  0       0      ⎥  ⎢                    6⋅a ⋅sin (θ)⎥  ⎢0  0\n",
       "⎢⎢                                ⎥  ⎢                                ⎥  ⎢    \n",
       "⎢⎢     0        0  0       0      ⎥  ⎢0       0        0       0      ⎥  ⎢    \n",
       "⎢⎢                                ⎥  ⎢                                ⎥  ⎢    \n",
       "⎢⎢     1                          ⎥  ⎢       -1                       ⎥  ⎢    \n",
       "⎢⎢────────────  0  0       0      ⎥  ⎢0  ────────────  0       0      ⎥  ⎢0  0\n",
       "⎢⎢   3    2                       ⎥  ⎢      2    2                    ⎥  ⎢    \n",
       "⎣⎣6⋅a ⋅sin (θ)                    ⎦  ⎣   6⋅a ⋅sin (θ)                 ⎦  ⎣    \n",
       "\n",
       "   ⎡          1     ⎤          ⎡                         1      ⎤⎤\n",
       "   ⎢ 0    0  ────  0⎥          ⎢     0        0  0  ────────────⎥⎥\n",
       "   ⎢            4   ⎥          ⎢                       3    2   ⎥⎥\n",
       "   ⎢         6⋅a    ⎥          ⎢                    6⋅a ⋅sin (θ)⎥⎥\n",
       "   ⎢                ⎥          ⎢                                ⎥⎥\n",
       "   ⎢ 0    0   0    0⎥          ⎢     0        0  0       0      ⎥⎥\n",
       "   ⎢                ⎥          ⎢                                ⎥⎥\n",
       "   ⎢-1              ⎥          ⎢     0        0  0       0      ⎥⎥\n",
       "   ⎢────  0   0    0⎥          ⎢                                ⎥⎥\n",
       "   ⎢   4            ⎥          ⎢    -1                          ⎥⎥\n",
       "   ⎢6⋅a             ⎥          ⎢────────────  0  0       0      ⎥⎥\n",
       "   ⎢                ⎥          ⎢   3    2                       ⎥⎥\n",
       "   ⎣ 0    0   0    0⎦          ⎣6⋅a ⋅sin (θ)                    ⎦⎥\n",
       "                                                                 ⎥\n",
       "   ⎡0   0     0    0⎤          ⎡0       0        0       0      ⎤⎥\n",
       "   ⎢                ⎥          ⎢                                ⎥⎥\n",
       "   ⎢         -1     ⎥          ⎢                        -1      ⎥⎥\n",
       "   ⎢0   0    ────  0⎥          ⎢0       0        0  ────────────⎥⎥\n",
       "   ⎢            3   ⎥          ⎢                       2    2   ⎥⎥\n",
       "   ⎢         6⋅a    ⎥          ⎢                    6⋅a ⋅sin (θ)⎥⎥\n",
       "   ⎢                ⎥          ⎢                                ⎥⎥\n",
       "   ⎢    1           ⎥          ⎢0       0        0       0      ⎥⎥\n",
       "   ⎢0  ────   0    0⎥          ⎢                                ⎥⎥\n",
       "   ⎢      3         ⎥          ⎢        1                       ⎥⎥\n",
       "   ⎢   6⋅a          ⎥          ⎢0  ────────────  0       0      ⎥⎥\n",
       "   ⎢                ⎥          ⎢      2    2                    ⎥⎥\n",
       "   ⎣0   0     0    0⎦          ⎣   6⋅a ⋅sin (θ)                 ⎦⎥\n",
       "                                                                 ⎥\n",
       "                               ⎡0  0       0             0      ⎤⎥\n",
       " ⎡0  0  0      0     ⎤         ⎢                                ⎥⎥\n",
       " ⎢                   ⎥         ⎢0  0       0             0      ⎥⎥\n",
       " ⎢0  0  0      0     ⎥         ⎢                                ⎥⎥\n",
       " ⎢                   ⎥         ⎢                         1      ⎥⎥\n",
       " ⎢0  0  0      0     ⎥         ⎢0  0       0        ────────────⎥⎥\n",
       " ⎢                   ⎥         ⎢                       5    2   ⎥⎥\n",
       " ⎢            -1     ⎥         ⎢                    3⋅a ⋅sin (θ)⎥⎥\n",
       " ⎢0  0  0  ──────────⎥         ⎢                                ⎥⎥\n",
       " ⎢          5    2   ⎥         ⎢           2                    ⎥⎥\n",
       " ⎣         a ⋅sin (θ)⎦         ⎢0  0  ────────────       0      ⎥⎥\n",
       "                               ⎢         5    2                 ⎥⎥\n",
       "                               ⎣      3⋅a ⋅sin (θ)              ⎦⎥\n",
       "                                                                 ⎥\n",
       "       0             0      ⎤                                    ⎥\n",
       "                            ⎥        ⎡0  0      0       0⎤       ⎥\n",
       "       0             0      ⎥        ⎢                   ⎥       ⎥\n",
       "                            ⎥        ⎢0  0      0       0⎥       ⎥\n",
       "                     2      ⎥        ⎢                   ⎥       ⎥\n",
       "       0        ────────────⎥        ⎢         -1        ⎥       ⎥\n",
       "                   5    2   ⎥        ⎢0  0  ──────────  0⎥       ⎥\n",
       "                3⋅a ⋅sin (θ)⎥        ⎢       5    2      ⎥       ⎥\n",
       "                            ⎥        ⎢      a ⋅sin (θ)   ⎥       ⎥\n",
       "       1                    ⎥        ⎢                   ⎥       ⎥\n",
       "  ────────────       0      ⎥        ⎣0  0      0       0⎦       ⎥\n",
       "     5    2                 ⎥                                    ⎥\n",
       "  3⋅a ⋅sin (θ)              ⎦                                    ⎦"
      ]
     },
     "execution_count": 35,
     "metadata": {},
     "output_type": "execute_result"
    }
   ],
   "source": [
    "# Varying type 'dddd' Weyl Tensor to 'uuuu'\n",
    "weyl_tensor40 = wyl.vary_weyltensor_type(weyl_tensor, 'uuuu')\n",
    "weyl_tensor40"
   ]
  },
  {
   "cell_type": "code",
   "execution_count": 36,
   "metadata": {},
   "outputs": [
    {
     "data": {
      "text/plain": [
       "'uuuu'"
      ]
     },
     "execution_count": 36,
     "metadata": {},
     "output_type": "execute_result"
    }
   ],
   "source": [
    "wyl.get_weyltensor_type()"
   ]
  },
  {
   "cell_type": "code",
   "execution_count": 37,
   "metadata": {},
   "outputs": [
    {
     "data": {
      "text/latex": [
       "$C^{t r t r}= - \\frac{1}{3 a}$"
      ],
      "text/plain": [
       "<IPython.core.display.Latex object>"
      ]
     },
     "metadata": {},
     "output_type": "display_data"
    },
    {
     "data": {
      "text/latex": [
       "$C^{t r r t}= \\frac{1}{3 a}$"
      ],
      "text/plain": [
       "<IPython.core.display.Latex object>"
      ]
     },
     "metadata": {},
     "output_type": "display_data"
    },
    {
     "data": {
      "text/latex": [
       "$C^{t \\theta t \\theta}= \\frac{1}{6 a^{4}}$"
      ],
      "text/plain": [
       "<IPython.core.display.Latex object>"
      ]
     },
     "metadata": {},
     "output_type": "display_data"
    },
    {
     "data": {
      "text/latex": [
       "$C^{t \\theta \\theta t}= - \\frac{1}{6 a^{4}}$"
      ],
      "text/plain": [
       "<IPython.core.display.Latex object>"
      ]
     },
     "metadata": {},
     "output_type": "display_data"
    },
    {
     "data": {
      "text/latex": [
       "$C^{t \\phi t \\phi}= \\frac{1}{6 a^{3} \\sin^{2}{\\left(\\theta \\right)}}$"
      ],
      "text/plain": [
       "<IPython.core.display.Latex object>"
      ]
     },
     "metadata": {},
     "output_type": "display_data"
    },
    {
     "data": {
      "text/latex": [
       "$C^{t \\phi \\phi t}= - \\frac{1}{6 a^{3} \\sin^{2}{\\left(\\theta \\right)}}$"
      ],
      "text/plain": [
       "<IPython.core.display.Latex object>"
      ]
     },
     "metadata": {},
     "output_type": "display_data"
    },
    {
     "data": {
      "text/latex": [
       "$C^{r t t r}= \\frac{1}{3 a}$"
      ],
      "text/plain": [
       "<IPython.core.display.Latex object>"
      ]
     },
     "metadata": {},
     "output_type": "display_data"
    },
    {
     "data": {
      "text/latex": [
       "$C^{r t r t}= - \\frac{1}{3 a}$"
      ],
      "text/plain": [
       "<IPython.core.display.Latex object>"
      ]
     },
     "metadata": {},
     "output_type": "display_data"
    },
    {
     "data": {
      "text/latex": [
       "$C^{r \\theta r \\theta}= - \\frac{1}{6 a^{3}}$"
      ],
      "text/plain": [
       "<IPython.core.display.Latex object>"
      ]
     },
     "metadata": {},
     "output_type": "display_data"
    },
    {
     "data": {
      "text/latex": [
       "$C^{r \\theta \\theta r}= \\frac{1}{6 a^{3}}$"
      ],
      "text/plain": [
       "<IPython.core.display.Latex object>"
      ]
     },
     "metadata": {},
     "output_type": "display_data"
    },
    {
     "data": {
      "text/latex": [
       "$C^{r \\phi r \\phi}= - \\frac{1}{6 a^{2} \\sin^{2}{\\left(\\theta \\right)}}$"
      ],
      "text/plain": [
       "<IPython.core.display.Latex object>"
      ]
     },
     "metadata": {},
     "output_type": "display_data"
    },
    {
     "data": {
      "text/latex": [
       "$C^{r \\phi \\phi r}= \\frac{1}{6 a^{2} \\sin^{2}{\\left(\\theta \\right)}}$"
      ],
      "text/plain": [
       "<IPython.core.display.Latex object>"
      ]
     },
     "metadata": {},
     "output_type": "display_data"
    },
    {
     "data": {
      "text/latex": [
       "$C^{\\theta t t \\theta}= - \\frac{1}{6 a^{4}}$"
      ],
      "text/plain": [
       "<IPython.core.display.Latex object>"
      ]
     },
     "metadata": {},
     "output_type": "display_data"
    },
    {
     "data": {
      "text/latex": [
       "$C^{\\theta t \\theta t}= \\frac{1}{6 a^{4}}$"
      ],
      "text/plain": [
       "<IPython.core.display.Latex object>"
      ]
     },
     "metadata": {},
     "output_type": "display_data"
    },
    {
     "data": {
      "text/latex": [
       "$C^{\\theta r r \\theta}= \\frac{1}{6 a^{3}}$"
      ],
      "text/plain": [
       "<IPython.core.display.Latex object>"
      ]
     },
     "metadata": {},
     "output_type": "display_data"
    },
    {
     "data": {
      "text/latex": [
       "$C^{\\theta r \\theta r}= - \\frac{1}{6 a^{3}}$"
      ],
      "text/plain": [
       "<IPython.core.display.Latex object>"
      ]
     },
     "metadata": {},
     "output_type": "display_data"
    },
    {
     "data": {
      "text/latex": [
       "$C^{\\theta \\theta \\phi \\phi}= - \\frac{1}{a^{5} \\sin^{2}{\\left(\\theta \\right)}}$"
      ],
      "text/plain": [
       "<IPython.core.display.Latex object>"
      ]
     },
     "metadata": {},
     "output_type": "display_data"
    },
    {
     "data": {
      "text/latex": [
       "$C^{\\theta \\phi \\theta \\phi}= \\frac{1}{3 a^{5} \\sin^{2}{\\left(\\theta \\right)}}$"
      ],
      "text/plain": [
       "<IPython.core.display.Latex object>"
      ]
     },
     "metadata": {},
     "output_type": "display_data"
    },
    {
     "data": {
      "text/latex": [
       "$C^{\\theta \\phi \\phi \\theta}= \\frac{2}{3 a^{5} \\sin^{2}{\\left(\\theta \\right)}}$"
      ],
      "text/plain": [
       "<IPython.core.display.Latex object>"
      ]
     },
     "metadata": {},
     "output_type": "display_data"
    },
    {
     "data": {
      "text/latex": [
       "$C^{\\phi t t \\phi}= - \\frac{1}{6 a^{3} \\sin^{2}{\\left(\\theta \\right)}}$"
      ],
      "text/plain": [
       "<IPython.core.display.Latex object>"
      ]
     },
     "metadata": {},
     "output_type": "display_data"
    },
    {
     "data": {
      "text/latex": [
       "$C^{\\phi t \\phi t}= \\frac{1}{6 a^{3} \\sin^{2}{\\left(\\theta \\right)}}$"
      ],
      "text/plain": [
       "<IPython.core.display.Latex object>"
      ]
     },
     "metadata": {},
     "output_type": "display_data"
    },
    {
     "data": {
      "text/latex": [
       "$C^{\\phi r r \\phi}= \\frac{1}{6 a^{2} \\sin^{2}{\\left(\\theta \\right)}}$"
      ],
      "text/plain": [
       "<IPython.core.display.Latex object>"
      ]
     },
     "metadata": {},
     "output_type": "display_data"
    },
    {
     "data": {
      "text/latex": [
       "$C^{\\phi r \\phi r}= - \\frac{1}{6 a^{2} \\sin^{2}{\\left(\\theta \\right)}}$"
      ],
      "text/plain": [
       "<IPython.core.display.Latex object>"
      ]
     },
     "metadata": {},
     "output_type": "display_data"
    },
    {
     "data": {
      "text/latex": [
       "$C^{\\phi \\theta \\theta \\phi}= \\frac{2}{3 a^{5} \\sin^{2}{\\left(\\theta \\right)}}$"
      ],
      "text/plain": [
       "<IPython.core.display.Latex object>"
      ]
     },
     "metadata": {},
     "output_type": "display_data"
    },
    {
     "data": {
      "text/latex": [
       "$C^{\\phi \\theta \\phi \\theta}= \\frac{1}{3 a^{5} \\sin^{2}{\\left(\\theta \\right)}}$"
      ],
      "text/plain": [
       "<IPython.core.display.Latex object>"
      ]
     },
     "metadata": {},
     "output_type": "display_data"
    },
    {
     "data": {
      "text/latex": [
       "$C^{\\phi \\phi \\theta \\theta}= - \\frac{1}{a^{5} \\sin^{2}{\\left(\\theta \\right)}}$"
      ],
      "text/plain": [
       "<IPython.core.display.Latex object>"
      ]
     },
     "metadata": {},
     "output_type": "display_data"
    }
   ],
   "source": [
    "wyl.nonzero_weyltensor(weyl_tensor40) "
   ]
  },
  {
   "cell_type": "markdown",
   "metadata": {},
   "source": [
    "# Einstein Tensor"
   ]
  },
  {
   "cell_type": "code",
   "execution_count": 38,
   "metadata": {},
   "outputs": [
    {
     "data": {
      "image/png": "[encoded data removed]",
      "text/latex": [
       "$\\displaystyle \\left[\\begin{matrix}\\frac{1}{a^{2}} & 0 & 0 & 0\\\\0 & - \\frac{1}{a^{3}} & 0 & 0\\\\0 & 0 & 0 & 0\\\\0 & 0 & 0 & 0\\end{matrix}\\right]$"
      ],
      "text/plain": [
       "⎡1            ⎤\n",
       "⎢──   0   0  0⎥\n",
       "⎢ 2           ⎥\n",
       "⎢a            ⎥\n",
       "⎢             ⎥\n",
       "⎢    -1       ⎥\n",
       "⎢0   ───  0  0⎥\n",
       "⎢      3      ⎥\n",
       "⎢     a       ⎥\n",
       "⎢             ⎥\n",
       "⎢0    0   0  0⎥\n",
       "⎢             ⎥\n",
       "⎣0    0   0  0⎦"
      ]
     },
     "execution_count": 38,
     "metadata": {},
     "output_type": "execute_result"
    }
   ],
   "source": [
    "# Obtaining the Einstein Tensor\n",
    "et = EinsteinTensor(diag_comp, coord_sys)\n",
    "einstein_tensor = et.get_einsteintensor()\n",
    "einstein_tensor"
   ]
  },
  {
   "cell_type": "code",
   "execution_count": 39,
   "metadata": {},
   "outputs": [
    {
     "data": {
      "text/plain": [
       "'dd'"
      ]
     },
     "execution_count": 39,
     "metadata": {},
     "output_type": "execute_result"
    }
   ],
   "source": [
    "# Default type of the Einstein Tensor\n",
    "et.get_einsteintensor_type()"
   ]
  },
  {
   "cell_type": "code",
   "execution_count": 40,
   "metadata": {},
   "outputs": [
    {
     "data": {
      "image/png": "[encoded data removed]",
      "text/latex": [
       "$\\displaystyle \\left[\\begin{matrix}\\frac{1}{a^{2}} & 0 & 0 & 0\\\\0 & - \\frac{1}{a} & 0 & 0\\\\0 & 0 & 0 & 0\\\\0 & 0 & 0 & 0\\end{matrix}\\right]$"
      ],
      "text/plain": [
       "⎡1            ⎤\n",
       "⎢──   0   0  0⎥\n",
       "⎢ 2           ⎥\n",
       "⎢a            ⎥\n",
       "⎢             ⎥\n",
       "⎢    -1       ⎥\n",
       "⎢0   ───  0  0⎥\n",
       "⎢     a       ⎥\n",
       "⎢             ⎥\n",
       "⎢0    0   0  0⎥\n",
       "⎢             ⎥\n",
       "⎣0    0   0  0⎦"
      ]
     },
     "execution_count": 40,
     "metadata": {},
     "output_type": "execute_result"
    }
   ],
   "source": [
    "# Varying type 'dd' Einstein Tensor to 'uu'\n",
    "et.vary_einsteintensor_type(einstein_tensor, 'uu')"
   ]
  },
  {
   "cell_type": "code",
   "execution_count": 41,
   "metadata": {},
   "outputs": [
    {
     "data": {
      "text/plain": [
       "'uu'"
      ]
     },
     "execution_count": 41,
     "metadata": {},
     "output_type": "execute_result"
    }
   ],
   "source": [
    "et.get_einsteintensor_type()"
   ]
  },
  {
   "cell_type": "markdown",
   "metadata": {},
   "source": [
    "# Kretschmann Scalar"
   ]
  },
  {
   "cell_type": "code",
   "execution_count": 42,
   "metadata": {},
   "outputs": [
    {
     "data": {
      "image/png": "[encoded data removed]",
      "text/latex": [
       "$\\displaystyle \\frac{4}{a^{4}}$"
      ],
      "text/plain": [
       "4 \n",
       "──\n",
       " 4\n",
       "a "
      ]
     },
     "execution_count": 42,
     "metadata": {},
     "output_type": "execute_result"
    }
   ],
   "source": [
    "ks = KretschmannScalar(diag_comp, coord_sys)\n",
    "kret_scalar = ks.get_kretschmannscalar()\n",
    "kret_scalar"
   ]
  }
 ],
 "metadata": {
  "kernelspec": {
   "display_name": "Python 3",
   "language": "python",
   "name": "python3"
  },
  "language_info": {
   "codemirror_mode": {
    "name": "ipython",
    "version": 3
   },
   "file_extension": ".py",
   "mimetype": "text/x-python",
   "name": "python",
   "nbconvert_exporter": "python",
   "pygments_lexer": "ipython3",
   "version": "3.8.8"
  },
  "metadata": {
   "interpreter": {
    "hash": "8ed00e9049138e529435877acd2a573cc9e2d446a3a76be2ec7db4035cd68c53"
   }
  }
 },
 "nbformat": 4,
 "nbformat_minor": 2
}
