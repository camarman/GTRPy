{
 "cells": [
  {
   "cell_type": "code",
   "execution_count": null,
   "metadata": {},
   "outputs": [],
   "source": [
    "from sympy import *\n",
    "from einsteinpy.symbolic import MetricTensor\n",
    "from numpy import zeros\n",
    "\n",
    "init_printing() \n",
    "\n",
    "#defining the symbols \n",
    "syms = symbols(\"t r theta phi\")\n",
    "\n",
    "# defining the metric\n",
    "metric = [[0 for i in range(4)] for j in range(4)]\n",
    "metric[0][0] = -1\n",
    "metric[1][1] = 1\n",
    "metric[2][2] = syms[1]**2\n",
    "metric[3][3] = (syms[1]**2)*(sin(syms[2])**2)\n",
    "\n",
    "# creating metric object\n",
    "metric_obj = MetricTensor(metric, syms)\n",
    "\n",
    "def derivative_of_metric(xmetric, i, j, k):\n",
    "    \"\"\"\n",
    "    Taking the derivative of a given metric; \\partial_i (g_jk)\n",
    "    Where g_jk is the metric and the \\partial_i is the partial derivative with respect to i \n",
    "\n",
    "    Input: xmetric : given metric\n",
    "           i,j,k - Indices that runs from 0-4\n",
    "    \n",
    "    Output: the partial derivative of a given metric's [j][k] component with respect to the i'th  component\n",
    "    \"\"\"\n",
    "    expr = xmetric[j][k]\n",
    "    return diff(expr, syms[i])\n",
    "\n",
    "\n",
    "def christoffel_symbol_calculator(xmetric):\n",
    "    \"\"\"\n",
    "    Input: the metric tensor\n",
    "    Output: Christoffel symbol for the given metric\n",
    "    \"\"\"\n",
    "    Chris_sym = MutableSparseNDimArray(zeros((4,)*3)) #creating an empty tensor to fill\n",
    "    inverse_metric = xmetric.inv() \n",
    "    for gamma in range(0, 4):\n",
    "        for beta in range(0, 4):\n",
    "            for nu in range(0, 4):\n",
    "                einstein_sum = 0\n",
    "                for alpha in range (0, 4):\n",
    "                    I1 = derivative_of_metric(xmetric, nu, alpha, beta)\n",
    "                    I2 = derivative_of_metric(xmetric, beta, alpha, nu)\n",
    "                    I3 = derivative_of_metric(xmetric, alpha, beta, nu)\n",
    "                    S = I1 + I2 - I3\n",
    "                    einstein_sum += 1/2 * inverse_metric[alpha, gamma] * S     \n",
    "                Chris_sym[gamma, beta, nu] = einstein_sum\n",
    "    return Chris_sym\n",
    "\n",
    "#the Christofeel symbol for the given metric\n",
    "Chris_symbol = christoffel_symbol_calculator(metric_obj) \n"
   ]
  },
  {
   "cell_type": "code",
   "execution_count": null,
   "metadata": {},
   "outputs": [],
   "source": []
  }
 ],
 "metadata": {
  "kernelspec": {
   "name": "python392jvsc74a57bd08ed00e9049138e529435877acd2a573cc9e2d446a3a76be2ec7db4035cd68c53",
   "display_name": "Python 3.9.2 64-bit"
  },
  "language_info": {
   "codemirror_mode": {
    "name": "ipython",
    "version": 3
   },
   "file_extension": ".py",
   "mimetype": "text/x-python",
   "name": "python",
   "nbconvert_exporter": "python",
   "pygments_lexer": "ipython3",
   "version": "3.9.2-final"
  },
  "metadata": {
   "interpreter": {
    "hash": "8ed00e9049138e529435877acd2a573cc9e2d446a3a76be2ec7db4035cd68c53"
   }
  }
 },
 "nbformat": 4,
 "nbformat_minor": 4
}