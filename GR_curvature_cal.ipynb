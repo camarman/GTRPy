{
 "cells": [
  {
   "cell_type": "code",
   "execution_count": 1,
   "metadata": {},
   "outputs": [],
   "source": [
    "from sympy import *\n",
    "from numpy import zeros\n",
    "from IPython.display import Latex, display\n",
    "\n",
    "\n",
    "def inverse_metric_calc(xmetric):\n",
    "    \"\"\"\n",
    "    Taking the inverse of a metric\n",
    "    \n",
    "    Input: xmetric - the given metric, g_ij\n",
    "    Output: The inverse of the metric, g^ij\n",
    "    \"\"\"\n",
    "    inverse_metric = MutableSparseNDimArray(zeros((4,)*2))\n",
    "    for i in range(0, 4):\n",
    "        inverse_metric[i, i] = 1 / xmetric[i, i]\n",
    "    return inverse_metric\n",
    "\n",
    "def derivative_of_metric(xmetric, i, j, k):\n",
    "    \"\"\"\n",
    "    Taking the derivative of a given metric; \\partial_i(g_jk)\n",
    "    where g_jk is the metric and the \\partial_i is the partial derivative with respect to i'th component \n",
    "    \n",
    "    Input:  xmetric - given metric\n",
    "            i,j,k - Indices that runs from 0-4\n",
    "    Output: The partial derivative of a given metric's [j][k] component with respect to the [i]'th  component\n",
    "    \"\"\"\n",
    "    expr = xmetric[j][k]\n",
    "    return diff(expr, syms[i])\n",
    "\n",
    "def derivative_of_chris(xchris_symb, i, j, k, l):\n",
    "    \"\"\"\n",
    "    Taking the derivative of a given christoffel symbol; \\partial_i (\\Gamma^j_kl)\n",
    "    where \\Gamma^j_kl is the christoffel symbol and the \\partial_i is the partial derivative with respect to i'th component \n",
    "    \n",
    "    Input:  xchris_symb - given Christoffel Symbol\n",
    "            i,j,k,l - Indices that runs from 0-4\n",
    "    Output: The partial derivative of a given Christoffel Symbols's ^[j]_[k][l] component with respect to the [i]'th component\n",
    "    \"\"\"\n",
    "    expr = xchris_symb[j, k, l]\n",
    "    return diff(expr, syms[i])\n",
    "\n",
    "\n",
    "def christoffel_sym_calctr(xmetric):\n",
    "    \"\"\"\n",
    "    Input:  The Metric Tensor \n",
    "    Output: Christoffel Symbols, \\Gamma^m_ij\n",
    "    \"\"\"\n",
    "    # creating an empty tensor to fill\n",
    "    Chris_sym = MutableSparseNDimArray(zeros((4,)*3)) \n",
    "    for m in range(0, 4):\n",
    "        for i in range(0, 4):\n",
    "            for j in range(0, 4):\n",
    "                einstein_sum = 0\n",
    "                for k in range (0, 4):\n",
    "                    I1 = derivative_of_metric(xmetric, j, k, i)\n",
    "                    I2 = derivative_of_metric(xmetric, i, k, j)\n",
    "                    I3 = derivative_of_metric(xmetric, k, i, j)\n",
    "                    S = I1 + I2 - I3\n",
    "                    einstein_sum += 1/2 * g_inverse[m, k] * S     \n",
    "                Chris_sym[m, i, j] = einstein_sum\n",
    "    return Chris_sym\n",
    "\n",
    "\n",
    "def riemann_tensor_calctr(xchris_symbol):\n",
    "    \"\"\"\n",
    "    Input:  Christoffel Symbols \n",
    "    Output: The Riemann Curvature Tensor, R^(l)_(ijk)\n",
    "    \"\"\"\n",
    "    # creating an empty tensor to fill\n",
    "    riemann_curv_tensor = MutableSparseNDimArray(zeros((4,)*4))\n",
    "    for i in range(0, 4):\n",
    "        for j in range(0, 4):\n",
    "            for k in range(0, 4):\n",
    "                for l in range(0, 4):\n",
    "                    Q1 = derivative_of_chris(xchris_symbol, j, l, i, k)\n",
    "                    Q2 = derivative_of_chris(xchris_symbol, i, l, j, k)\n",
    "                    einstein_sum = 0\n",
    "                    for p in range(0, 4):\n",
    "                        I1 = xchris_symbol[p, i, k] * xchris_symbol[l, j, p]\n",
    "                        I2 = xchris_symbol[p, j, k] * xchris_symbol[l, i, p]\n",
    "                        einstein_sum += (I1 - I2)\n",
    "                    riemann_curv_tensor[l, i, j, k] = Q1 - Q2 + einstein_sum\n",
    "    return riemann_curv_tensor\n",
    "\n",
    "def ricci_tensor_calctr(xriemann_tensor):\n",
    "    \"\"\"\n",
    "    Input:  The Riemann Curvature Tensor, R^(l)_(ijk)\n",
    "    Output: The Ricci Tensor, R_(ik)\n",
    "    \"\"\"\n",
    "    # creating an empty tensor to fill\n",
    "    ricci_tensor = MutableSparseNDimArray(zeros((4,)*2))\n",
    "    einstiem_sum = 0\n",
    "    for i in range(0, 4):\n",
    "        for k in range(0, 4):\n",
    "            einstein_sum = 0\n",
    "            for j in range(0, 4):\n",
    "                einstein_sum += xriemann_tensor[j, i, j, k]\n",
    "            ricci_tensor[i, k] = einstein_sum\n",
    "    return ricci_tensor\n",
    "\n",
    "def ricci_scalar_calctr(xmetric, xricci_tensor):\n",
    "    \"\"\"\n",
    "    Input: The Ricci Tensor, R_(ik)\n",
    "    Output: The Ricci Scalar, R\n",
    "    \"\"\"\n",
    "    R = 0 # The Ricci Scalar\n",
    "    for i in range(0, 4):\n",
    "        for k in range(0, 4):\n",
    "            R += g_inverse[i, k] * xricci_tensor[i, k]\n",
    "    return R"
   ]
  },
  {
   "cell_type": "code",
   "execution_count": 2,
   "metadata": {},
   "outputs": [],
   "source": [
    "init_printing() \n",
    "\n",
    "# defining the symbols \n",
    "syms = symbols(\"t r theta phi\")\n",
    "\n",
    "# defining the metric components\n",
    "metric = MutableSparseNDimArray(zeros((4,)*2))\n",
    "metric[0, 0] = -1\n",
    "metric[1, 1] = 1\n",
    "metric[2, 2] = syms[1]**2\n",
    "metric[3, 3] = (syms[1]**2)*(sin(syms[2])**2)\n",
    "\n",
    "# the metric\n",
    "g = metric\n",
    "\n",
    "#Inverse of the metric\n",
    "g_inverse = inverse_metric_calc(metric)"
   ]
  },
  {
   "cell_type": "code",
   "execution_count": 3,
   "metadata": {},
   "outputs": [],
   "source": [
    "Christoffel_symbol = christoffel_sym_calctr(g)\n",
    "Riemann_curv_tensor = riemann_tensor_calctr(Christoffel_symbol)\n",
    "Ricci_curv = ricci_tensor_calctr(Riemann_curv_tensor)\n",
    "R = ricci_scalar_calctr(g, Ricci_curv)"
   ]
  },
  {
   "cell_type": "code",
   "execution_count": 4,
   "metadata": {},
   "outputs": [
    {
     "data": {
      "image/png": "[encoded data removed]",
      "text/latex": [
       "$\\displaystyle \\left[\\begin{matrix}-1 & 0 & 0 & 0\\\\0 & 1 & 0 & 0\\\\0 & 0 & r^{2} & 0\\\\0 & 0 & 0 & r^{2} \\sin^{2}{\\left(\\theta \\right)}\\end{matrix}\\right]$"
      ],
      "text/plain": [
       "⎡-1  0  0       0     ⎤\n",
       "⎢                     ⎥\n",
       "⎢0   1  0       0     ⎥\n",
       "⎢                     ⎥\n",
       "⎢        2            ⎥\n",
       "⎢0   0  r       0     ⎥\n",
       "⎢                     ⎥\n",
       "⎢            2    2   ⎥\n",
       "⎣0   0  0   r ⋅sin (θ)⎦"
      ]
     },
     "execution_count": 4,
     "metadata": {},
     "output_type": "execute_result"
    }
   ],
   "source": [
    "#The Metric Tensor\n",
    "\n",
    "g.tolist()\n",
    "g"
   ]
  },
  {
   "cell_type": "code",
   "execution_count": 5,
   "metadata": {},
   "outputs": [
    {
     "data": {
      "image/png": "[encoded data removed]",
      "text/latex": [
       "$\\displaystyle \\left[\\begin{matrix}\\left[\\begin{matrix}0 & 0 & 0 & 0\\\\0 & 0 & 0 & 0\\\\0 & 0 & 0 & 0\\\\0 & 0 & 0 & 0\\end{matrix}\\right] & \\left[\\begin{matrix}0 & 0 & 0 & 0\\\\0 & 0 & 0 & 0\\\\0 & 0 & - 1.0 r & 0\\\\0 & 0 & 0 & - 1.0 r \\sin^{2}{\\left(\\theta \\right)}\\end{matrix}\\right] & \\left[\\begin{matrix}0 & 0 & 0 & 0\\\\0 & 0 & \\frac{1.0}{r} & 0\\\\0 & \\frac{1.0}{r} & 0 & 0\\\\0 & 0 & 0 & - 1.0 \\sin{\\left(\\theta \\right)} \\cos{\\left(\\theta \\right)}\\end{matrix}\\right] & \\left[\\begin{matrix}0 & 0 & 0 & 0\\\\0 & 0 & 0 & \\frac{1.0}{r}\\\\0 & 0 & 0 & \\frac{1.0 \\cos{\\left(\\theta \\right)}}{\\sin{\\left(\\theta \\right)}}\\\\0 & \\frac{1.0}{r} & \\frac{1.0 \\cos{\\left(\\theta \\right)}}{\\sin{\\left(\\theta \\right)}} & 0\\end{matrix}\\right]\\end{matrix}\\right]$"
      ],
      "text/plain": [
       "⎡                                                                             \n",
       "⎢                                              ⎡0   0    0           0        \n",
       "⎢              ⎡0  0    0           0       ⎤  ⎢                              \n",
       "⎢⎡0  0  0  0⎤  ⎢                            ⎥  ⎢        1.0                   \n",
       "⎢⎢          ⎥  ⎢0  0    0           0       ⎥  ⎢0   0   ───          0        \n",
       "⎢⎢0  0  0  0⎥  ⎢                            ⎥  ⎢         r                    \n",
       "⎢⎢          ⎥  ⎢0  0  -1.0⋅r        0       ⎥  ⎢                              \n",
       "⎢⎢0  0  0  0⎥  ⎢                            ⎥  ⎢   1.0                        \n",
       "⎢⎢          ⎥  ⎢                        2   ⎥  ⎢0  ───   0           0        \n",
       "⎢⎣0  0  0  0⎦  ⎣0  0    0     -1.0⋅r⋅sin (θ)⎦  ⎢    r                         \n",
       "⎢                                              ⎢                              \n",
       "⎢                                              ⎣0   0    0   -1.0⋅sin(θ)⋅cos(θ\n",
       "⎣                                                                             \n",
       "\n",
       "    ⎡0   0       0           0     ⎤⎤\n",
       " ⎤  ⎢                              ⎥⎥\n",
       " ⎥  ⎢                       1.0    ⎥⎥\n",
       " ⎥  ⎢0   0       0          ───    ⎥⎥\n",
       " ⎥  ⎢                        r     ⎥⎥\n",
       " ⎥  ⎢                              ⎥⎥\n",
       " ⎥  ⎢                    1.0⋅cos(θ)⎥⎥\n",
       " ⎥  ⎢0   0       0       ──────────⎥⎥\n",
       " ⎥  ⎢                      sin(θ)  ⎥⎥\n",
       " ⎥  ⎢                              ⎥⎥\n",
       " ⎥  ⎢   1.0  1.0⋅cos(θ)            ⎥⎥\n",
       ")⎦  ⎢0  ───  ──────────      0     ⎥⎥\n",
       "    ⎣    r     sin(θ)              ⎦⎦"
      ]
     },
     "execution_count": 5,
     "metadata": {},
     "output_type": "execute_result"
    }
   ],
   "source": [
    "#Christoffel Symbols\n",
    "\n",
    "Christoffel_symbol.tolist()\n",
    "Christoffel_symbol"
   ]
  },
  {
   "cell_type": "code",
   "execution_count": 6,
   "metadata": {},
   "outputs": [
    {
     "data": {
      "text/latex": [
       "$\\Gamma^{r}{}_{\\theta~\\theta} = - 1.0 r$"
      ],
      "text/plain": [
       "<IPython.core.display.Latex object>"
      ]
     },
     "metadata": {},
     "output_type": "display_data"
    },
    {
     "data": {
      "text/latex": [
       "$\\Gamma^{r}{}_{\\phi~\\phi} = - 1.0 r \\sin^{2}{\\left(\\theta \\right)}$"
      ],
      "text/plain": [
       "<IPython.core.display.Latex object>"
      ]
     },
     "metadata": {},
     "output_type": "display_data"
    },
    {
     "data": {
      "text/latex": [
       "$\\Gamma^{\\theta}{}_{r~\\theta} = \\frac{1.0}{r}$"
      ],
      "text/plain": [
       "<IPython.core.display.Latex object>"
      ]
     },
     "metadata": {},
     "output_type": "display_data"
    },
    {
     "data": {
      "text/latex": [
       "$\\Gamma^{\\theta}{}_{\\theta~r} = \\frac{1.0}{r}$"
      ],
      "text/plain": [
       "<IPython.core.display.Latex object>"
      ]
     },
     "metadata": {},
     "output_type": "display_data"
    },
    {
     "data": {
      "text/latex": [
       "$\\Gamma^{\\theta}{}_{\\phi~\\phi} = - 1.0 \\sin{\\left(\\theta \\right)} \\cos{\\left(\\theta \\right)}$"
      ],
      "text/plain": [
       "<IPython.core.display.Latex object>"
      ]
     },
     "metadata": {},
     "output_type": "display_data"
    },
    {
     "data": {
      "text/latex": [
       "$\\Gamma^{\\phi}{}_{r~\\phi} = \\frac{1.0}{r}$"
      ],
      "text/plain": [
       "<IPython.core.display.Latex object>"
      ]
     },
     "metadata": {},
     "output_type": "display_data"
    },
    {
     "data": {
      "text/latex": [
       "$\\Gamma^{\\phi}{}_{\\theta~\\phi} = \\frac{1.0 \\cos{\\left(\\theta \\right)}}{\\sin{\\left(\\theta \\right)}}$"
      ],
      "text/plain": [
       "<IPython.core.display.Latex object>"
      ]
     },
     "metadata": {},
     "output_type": "display_data"
    },
    {
     "data": {
      "text/latex": [
       "$\\Gamma^{\\phi}{}_{\\phi~r} = \\frac{1.0}{r}$"
      ],
      "text/plain": [
       "<IPython.core.display.Latex object>"
      ]
     },
     "metadata": {},
     "output_type": "display_data"
    },
    {
     "data": {
      "text/latex": [
       "$\\Gamma^{\\phi}{}_{\\phi~\\theta} = \\frac{1.0 \\cos{\\left(\\theta \\right)}}{\\sin{\\left(\\theta \\right)}}$"
      ],
      "text/plain": [
       "<IPython.core.display.Latex object>"
      ]
     },
     "metadata": {},
     "output_type": "display_data"
    }
   ],
   "source": [
    "#Non-zero Components of the Christoffel Symbols\n",
    "\n",
    "for i in range(0, 4):\n",
    "    for j in range(0, 4):\n",
    "        for k in range(0, 4):\n",
    "            if Christoffel_symbol[i, j, k] != 0:\n",
    "                display(Latex('$\\\\Gamma^{{{0}}}{{}}_{{{1}~{2}}} = {3}$'.format(latex(syms[i]), latex(syms[j]), latex(syms[k]), latex(Christoffel_symbol[i,j,k]))))"
   ]
  },
  {
   "cell_type": "code",
   "execution_count": 7,
   "metadata": {},
   "outputs": [
    {
     "data": {
      "image/png": "[encoded data removed]",
      "text/latex": [
       "$\\displaystyle \\left[\\begin{matrix}\\left[\\begin{matrix}0 & 0 & 0 & 0\\\\0 & 0 & 0 & 0\\\\0 & 0 & 0 & 0\\\\0 & 0 & 0 & 0\\end{matrix}\\right] & \\left[\\begin{matrix}0 & 0 & 0 & 0\\\\0 & 0 & 0 & 0\\\\0 & 0 & 0 & 0\\\\0 & 0 & 0 & 0\\end{matrix}\\right] & \\left[\\begin{matrix}0 & 0 & 0 & 0\\\\0 & 0 & 0 & 0\\\\0 & 0 & 0 & 0\\\\0 & 0 & 0 & 0\\end{matrix}\\right] & \\left[\\begin{matrix}0 & 0 & 0 & 0\\\\0 & 0 & 0 & 0\\\\0 & 0 & 0 & 0\\\\0 & 0 & 0 & 0\\end{matrix}\\right]\\\\\\left[\\begin{matrix}0 & 0 & 0 & 0\\\\0 & 0 & 0 & 0\\\\0 & 0 & 0 & 0\\\\0 & 0 & 0 & 0\\end{matrix}\\right] & \\left[\\begin{matrix}0 & 0 & 0 & 0\\\\0 & 0 & 0 & 0\\\\0 & 0 & 0 & 0\\\\0 & 0 & 0 & 0\\end{matrix}\\right] & \\left[\\begin{matrix}0 & 0 & 0 & 0\\\\0 & 0 & 0 & 0\\\\0 & 0 & 0 & 0\\\\0 & 0 & 0 & 0\\end{matrix}\\right] & \\left[\\begin{matrix}0 & 0 & 0 & 0\\\\0 & 0 & 0 & 0\\\\0 & 0 & 0 & 0\\\\0 & 0 & 0 & 0\\end{matrix}\\right]\\\\\\left[\\begin{matrix}0 & 0 & 0 & 0\\\\0 & 0 & 0 & 0\\\\0 & 0 & 0 & 0\\\\0 & 0 & 0 & 0\\end{matrix}\\right] & \\left[\\begin{matrix}0 & 0 & 0 & 0\\\\0 & 0 & 0 & 0\\\\0 & 0 & 0 & 0\\\\0 & 0 & 0 & 0\\end{matrix}\\right] & \\left[\\begin{matrix}0 & 0 & 0 & 0\\\\0 & 0 & 0 & 0\\\\0 & 0 & 0 & 0\\\\0 & 0 & 0 & 0\\end{matrix}\\right] & \\left[\\begin{matrix}0 & 0 & 0 & 0\\\\0 & 0 & 0 & 0\\\\0 & 0 & 0 & 0\\\\0 & 0 & 0 & 0\\end{matrix}\\right]\\\\\\left[\\begin{matrix}0 & 0 & 0 & 0\\\\0 & 0 & 0 & 0\\\\0 & 0 & 0 & 0\\\\0 & 0 & 0 & 0\\end{matrix}\\right] & \\left[\\begin{matrix}0 & 0 & 0 & 0\\\\0 & 0 & 0 & 0\\\\0 & 0 & 0 & 0\\\\0 & 0 & 0 & 0\\end{matrix}\\right] & \\left[\\begin{matrix}0 & 0 & 0 & 0\\\\0 & 0 & 0 & 0\\\\0 & 0 & 0 & 0\\\\0 & 0 & 0 & 0\\end{matrix}\\right] & \\left[\\begin{matrix}0 & 0 & 0 & 0\\\\0 & 0 & 0 & 0\\\\0 & 0 & 0 & 0\\\\0 & 0 & 0 & 0\\end{matrix}\\right]\\end{matrix}\\right]$"
      ],
      "text/plain": [
       "⎡⎡0  0  0  0⎤  ⎡0  0  0  0⎤  ⎡0  0  0  0⎤  ⎡0  0  0  0⎤⎤\n",
       "⎢⎢          ⎥  ⎢          ⎥  ⎢          ⎥  ⎢          ⎥⎥\n",
       "⎢⎢0  0  0  0⎥  ⎢0  0  0  0⎥  ⎢0  0  0  0⎥  ⎢0  0  0  0⎥⎥\n",
       "⎢⎢          ⎥  ⎢          ⎥  ⎢          ⎥  ⎢          ⎥⎥\n",
       "⎢⎢0  0  0  0⎥  ⎢0  0  0  0⎥  ⎢0  0  0  0⎥  ⎢0  0  0  0⎥⎥\n",
       "⎢⎢          ⎥  ⎢          ⎥  ⎢          ⎥  ⎢          ⎥⎥\n",
       "⎢⎣0  0  0  0⎦  ⎣0  0  0  0⎦  ⎣0  0  0  0⎦  ⎣0  0  0  0⎦⎥\n",
       "⎢                                                      ⎥\n",
       "⎢⎡0  0  0  0⎤  ⎡0  0  0  0⎤  ⎡0  0  0  0⎤  ⎡0  0  0  0⎤⎥\n",
       "⎢⎢          ⎥  ⎢          ⎥  ⎢          ⎥  ⎢          ⎥⎥\n",
       "⎢⎢0  0  0  0⎥  ⎢0  0  0  0⎥  ⎢0  0  0  0⎥  ⎢0  0  0  0⎥⎥\n",
       "⎢⎢          ⎥  ⎢          ⎥  ⎢          ⎥  ⎢          ⎥⎥\n",
       "⎢⎢0  0  0  0⎥  ⎢0  0  0  0⎥  ⎢0  0  0  0⎥  ⎢0  0  0  0⎥⎥\n",
       "⎢⎢          ⎥  ⎢          ⎥  ⎢          ⎥  ⎢          ⎥⎥\n",
       "⎢⎣0  0  0  0⎦  ⎣0  0  0  0⎦  ⎣0  0  0  0⎦  ⎣0  0  0  0⎦⎥\n",
       "⎢                                                      ⎥\n",
       "⎢⎡0  0  0  0⎤  ⎡0  0  0  0⎤  ⎡0  0  0  0⎤  ⎡0  0  0  0⎤⎥\n",
       "⎢⎢          ⎥  ⎢          ⎥  ⎢          ⎥  ⎢          ⎥⎥\n",
       "⎢⎢0  0  0  0⎥  ⎢0  0  0  0⎥  ⎢0  0  0  0⎥  ⎢0  0  0  0⎥⎥\n",
       "⎢⎢          ⎥  ⎢          ⎥  ⎢          ⎥  ⎢          ⎥⎥\n",
       "⎢⎢0  0  0  0⎥  ⎢0  0  0  0⎥  ⎢0  0  0  0⎥  ⎢0  0  0  0⎥⎥\n",
       "⎢⎢          ⎥  ⎢          ⎥  ⎢          ⎥  ⎢          ⎥⎥\n",
       "⎢⎣0  0  0  0⎦  ⎣0  0  0  0⎦  ⎣0  0  0  0⎦  ⎣0  0  0  0⎦⎥\n",
       "⎢                                                      ⎥\n",
       "⎢⎡0  0  0  0⎤  ⎡0  0  0  0⎤  ⎡0  0  0  0⎤  ⎡0  0  0  0⎤⎥\n",
       "⎢⎢          ⎥  ⎢          ⎥  ⎢          ⎥  ⎢          ⎥⎥\n",
       "⎢⎢0  0  0  0⎥  ⎢0  0  0  0⎥  ⎢0  0  0  0⎥  ⎢0  0  0  0⎥⎥\n",
       "⎢⎢          ⎥  ⎢          ⎥  ⎢          ⎥  ⎢          ⎥⎥\n",
       "⎢⎢0  0  0  0⎥  ⎢0  0  0  0⎥  ⎢0  0  0  0⎥  ⎢0  0  0  0⎥⎥\n",
       "⎢⎢          ⎥  ⎢          ⎥  ⎢          ⎥  ⎢          ⎥⎥\n",
       "⎣⎣0  0  0  0⎦  ⎣0  0  0  0⎦  ⎣0  0  0  0⎦  ⎣0  0  0  0⎦⎦"
      ]
     },
     "execution_count": 7,
     "metadata": {},
     "output_type": "execute_result"
    }
   ],
   "source": [
    "#The Riemann Curvature Tensor\n",
    "\n",
    "Riemann_curv_tensor.tolist()\n",
    "Riemann_curv_tensor"
   ]
  },
  {
   "cell_type": "code",
   "execution_count": 8,
   "metadata": {},
   "outputs": [
    {
     "data": {
      "image/png": "[encoded data removed]",
      "text/latex": [
       "$\\displaystyle \\left[\\begin{matrix}0 & 0 & 0 & 0\\\\0 & 0 & 0 & 0\\\\0 & 0 & 0 & 0\\\\0 & 0 & 0 & 0\\end{matrix}\\right]$"
      ],
      "text/plain": [
       "⎡0  0  0  0⎤\n",
       "⎢          ⎥\n",
       "⎢0  0  0  0⎥\n",
       "⎢          ⎥\n",
       "⎢0  0  0  0⎥\n",
       "⎢          ⎥\n",
       "⎣0  0  0  0⎦"
      ]
     },
     "execution_count": 8,
     "metadata": {},
     "output_type": "execute_result"
    }
   ],
   "source": [
    "#The Ricci Curvature Tensor\n",
    "\n",
    "Ricci_curv.tolist()\n",
    "Ricci_curv"
   ]
  },
  {
   "cell_type": "code",
   "execution_count": 9,
   "metadata": {},
   "outputs": [
    {
     "data": {
      "image/png": "[encoded data removed]",
      "text/latex": [
       "$\\displaystyle 0$"
      ],
      "text/plain": [
       "0"
      ]
     },
     "execution_count": 9,
     "metadata": {},
     "output_type": "execute_result"
    }
   ],
   "source": [
    "#The Ricci Scalar\n",
    "\n",
    "R"
   ]
  }
 ],
 "metadata": {
  "kernelspec": {
   "display_name": "Python 3",
   "language": "python",
   "name": "python3"
  },
  "language_info": {
   "codemirror_mode": {
    "name": "ipython",
    "version": 3
   },
   "file_extension": ".py",
   "mimetype": "text/x-python",
   "name": "python",
   "nbconvert_exporter": "python",
   "pygments_lexer": "ipython3",
   "version": "3.8.5"
  }
 },
 "nbformat": 4,
 "nbformat_minor": 4
}
