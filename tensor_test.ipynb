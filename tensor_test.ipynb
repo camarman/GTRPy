{
 "cells": [
  {
   "cell_type": "code",
   "execution_count": 2,
   "metadata": {},
   "outputs": [
    {
     "output_type": "stream",
     "name": "stdout",
     "text": [
      "[[[0, 0, 0, 0], [0, 0, 0, 0], [0, 0, 0, 0], [0, 0, 0, 0]], [[0, 0, 0, 0], [0, 0.5, 0, 0], [0, 0, -1.5*r**2*exp(-r), 0], [0, 0, 0, -1.0*r*exp(-r)*sin(theta)**2]], [[0, 0, 0, 0], [0, 0, 1.5/r, 0], [0, 1.5/r, 0, 0], [0, 0, 0, -1.0*sin(theta)*cos(theta)/r]], [[0, 0, 0, 0], [0, 0, 0, 1.0/r], [0, 0, 0, 1.0*cos(theta)/sin(theta)], [0, 1.0/r, 1.0*cos(theta)/sin(theta), 0]]]\n"
     ]
    }
   ],
   "source": [
    "from sympy import *\n",
    "from einsteinpy.symbolic import MetricTensor, ChristoffelSymbols\n",
    "from numpy import zeros\n",
    "\n",
    "init_printing() \n",
    "\n",
    "#defining the symbols \n",
    "syms = symbols(\"t r theta phi\")\n",
    "\n",
    "# defining the metric\n",
    "metric = [[0 for i in range(4)] for j in range(4)]\n",
    "metric[0][0] = -1\n",
    "metric[1][1] = exp(syms[1])\n",
    "metric[2][2] = syms[1]**3\n",
    "metric[3][3] = (syms[1]**2)*(sin(syms[2])**2)\n",
    "\n",
    "# creating metric object\n",
    "metric_obj = MetricTensor(metric, syms)\n",
    "\n",
    "def derivative_of_metric(xmetric, i, j, k):\n",
    "    \"\"\"\n",
    "    Input: i,j,k - Indices that runs from 0-4\n",
    "    Output: the derivative of a given metric's [j][k] component with respect to the i'th         component\n",
    "    ------\n",
    "    Taking the derivative of a given metric in the form of \n",
    "    \\partial_i (g_jk)\n",
    "    where g_jk is the metric and the \\partial_i is the partial derivative with respect to i\n",
    "    \"\"\"\n",
    "    expr = xmetric[j][k]\n",
    "    return diff(expr, syms[i])\n",
    "\n",
    "def christoffel_symbol(xmetric):\n",
    "    \"\"\"\n",
    "    Input: the given metric tensor\n",
    "    Output: Christoffel_symbol for the given metric for each component\n",
    "    \"\"\"\n",
    "    Chris_sym = MutableSparseNDimArray(zeros((4,)*3))\n",
    "    inverse_metric = xmetric.inv()\n",
    "    for gamma in range(0, 4):\n",
    "        for beta in range(0, 4):\n",
    "            for nu in range(0, 4):\n",
    "                einstein_sum = 0\n",
    "                for alpha in range (0, 4):\n",
    "                    I1 = derivative_of_metric(xmetric, nu, alpha, beta)\n",
    "                    I2 = derivative_of_metric(xmetric, beta, alpha, nu)\n",
    "                    I3 = derivative_of_metric(xmetric, alpha, beta, nu)\n",
    "                    S = I1 + I2 - I3\n",
    "                    einstein_sum += 1/2 * inverse_metric[alpha, gamma] * S     \n",
    "                Chris_sym[gamma, beta, nu] = einstein_sum\n",
    "    return Chris_sym\n",
    "\n",
    "print(christoffel_symbol(metric_obj))\n"
   ]
  },
  {
   "cell_type": "code",
   "execution_count": null,
   "metadata": {},
   "outputs": [],
   "source": []
  }
 ],
 "metadata": {
  "kernelspec": {
   "name": "python392jvsc74a57bd08ed00e9049138e529435877acd2a573cc9e2d446a3a76be2ec7db4035cd68c53",
   "display_name": "Python 3.9.2 64-bit"
  },
  "language_info": {
   "codemirror_mode": {
    "name": "ipython",
    "version": 3
   },
   "file_extension": ".py",
   "mimetype": "text/x-python",
   "name": "python",
   "nbconvert_exporter": "python",
   "pygments_lexer": "ipython3",
   "version": "3.9.2-final"
  },
  "metadata": {
   "interpreter": {
    "hash": "8ed00e9049138e529435877acd2a573cc9e2d446a3a76be2ec7db4035cd68c53"
   }
  }
 },
 "nbformat": 4,
 "nbformat_minor": 4
}